{
 "cells": [
  {
   "cell_type": "markdown",
   "id": "aa3c2c289d5e803d",
   "metadata": {
    "collapsed": false,
    "jupyter": {
     "outputs_hidden": false
    }
   },
   "source": [
    "# Polars Deep Dive for Seder\n",
    "\n",
    "这个 Notebook 是我在开发这个库之前, 事先做的一些深入研究. 根据这个研究的结果, 我们可以看到 polars 有哪些功能, 有哪些局限性, 从而决定这个库的最终设计思路."
   ]
  },
  {
   "cell_type": "code",
   "execution_count": 59,
   "id": "7222f62d-72db-450d-9559-4f3057be6bff",
   "metadata": {
    "ExecuteTime": {
     "end_time": "2024-08-07T16:42:32.615821Z",
     "start_time": "2024-08-07T16:42:32.612904Z"
    }
   },
   "outputs": [],
   "source": [
    "import typing as T\n",
    "import polars as pl\n",
    "from rich import print as rprint"
   ]
  },
  {
   "cell_type": "code",
   "execution_count": 60,
   "id": "3df6e3e7301aaf49",
   "metadata": {
    "ExecuteTime": {
     "end_time": "2024-08-07T16:42:32.848229Z",
     "start_time": "2024-08-07T16:42:32.843754Z"
    },
    "collapsed": false,
    "jupyter": {
     "outputs_hidden": false
    }
   },
   "outputs": [],
   "source": [
    "def print_df(df: pl.DataFrame):\n",
    "    print(\"-------------------- schema --------------------\")\n",
    "    rprint(df.schema)\n",
    "\n",
    "    print(\"-------------------- df records --------------------\")\n",
    "    for ith, record in enumerate(df.to_dicts(), start=1):\n",
    "        rprint(record)"
   ]
  },
  {
   "cell_type": "markdown",
   "id": "60091bd9-1725-479b-a834-0085942728f9",
   "metadata": {},
   "source": [
    "## POC"
   ]
  },
  {
   "cell_type": "markdown",
   "id": "30590934-393f-4d44-b045-5f6f98e569d6",
   "metadata": {},
   "source": [
    "### Data and Schema Mismatch\n",
    "\n",
    "研究当构造 DataFrame 时的数据跟 schema 不匹配时 polars 的行为."
   ]
  },
  {
   "cell_type": "code",
   "execution_count": 61,
   "id": "76e5b4f4-c457-4bca-9462-acaf7748bfed",
   "metadata": {},
   "outputs": [
    {
     "name": "stdout",
     "output_type": "stream",
     "text": [
      "-------------------- schema --------------------\n"
     ]
    },
    {
     "data": {
      "text/html": [
       "<pre style=\"white-space:pre;overflow-x:auto;line-height:normal;font-family:Menlo,'DejaVu Sans Mono',consolas,'Courier New',monospace\"><span style=\"color: #800080; text-decoration-color: #800080; font-weight: bold\">Schema</span><span style=\"font-weight: bold\">([(</span><span style=\"color: #008000; text-decoration-color: #008000\">'Data'</span>, <span style=\"color: #800080; text-decoration-color: #800080; font-weight: bold\">Struct</span><span style=\"font-weight: bold\">({</span><span style=\"color: #008000; text-decoration-color: #008000\">'id'</span>: Int64<span style=\"font-weight: bold\">}))])</span>\n",
       "</pre>\n"
      ],
      "text/plain": [
       "\u001b[1;35mSchema\u001b[0m\u001b[1m(\u001b[0m\u001b[1m[\u001b[0m\u001b[1m(\u001b[0m\u001b[32m'Data'\u001b[0m, \u001b[1;35mStruct\u001b[0m\u001b[1m(\u001b[0m\u001b[1m{\u001b[0m\u001b[32m'id'\u001b[0m: Int64\u001b[1m}\u001b[0m\u001b[1m)\u001b[0m\u001b[1m)\u001b[0m\u001b[1m]\u001b[0m\u001b[1m)\u001b[0m\n"
      ]
     },
     "metadata": {},
     "output_type": "display_data"
    },
    {
     "name": "stdout",
     "output_type": "stream",
     "text": [
      "-------------------- df records --------------------\n"
     ]
    },
    {
     "data": {
      "text/html": [
       "<pre style=\"white-space:pre;overflow-x:auto;line-height:normal;font-family:Menlo,'DejaVu Sans Mono',consolas,'Courier New',monospace\"><span style=\"font-weight: bold\">{</span><span style=\"color: #008000; text-decoration-color: #008000\">'Data'</span>: <span style=\"font-weight: bold\">{</span><span style=\"color: #008000; text-decoration-color: #008000\">'id'</span>: <span style=\"color: #008080; text-decoration-color: #008080; font-weight: bold\">1</span><span style=\"font-weight: bold\">}}</span>\n",
       "</pre>\n"
      ],
      "text/plain": [
       "\u001b[1m{\u001b[0m\u001b[32m'Data'\u001b[0m: \u001b[1m{\u001b[0m\u001b[32m'id'\u001b[0m: \u001b[1;36m1\u001b[0m\u001b[1m}\u001b[0m\u001b[1m}\u001b[0m\n"
      ]
     },
     "metadata": {},
     "output_type": "display_data"
    },
    {
     "data": {
      "text/html": [
       "<pre style=\"white-space:pre;overflow-x:auto;line-height:normal;font-family:Menlo,'DejaVu Sans Mono',consolas,'Courier New',monospace\"><span style=\"font-weight: bold\">{</span><span style=\"color: #008000; text-decoration-color: #008000\">'Data'</span>: <span style=\"font-weight: bold\">{</span><span style=\"color: #008000; text-decoration-color: #008000\">'id'</span>: <span style=\"color: #008080; text-decoration-color: #008080; font-weight: bold\">2</span><span style=\"font-weight: bold\">}}</span>\n",
       "</pre>\n"
      ],
      "text/plain": [
       "\u001b[1m{\u001b[0m\u001b[32m'Data'\u001b[0m: \u001b[1m{\u001b[0m\u001b[32m'id'\u001b[0m: \u001b[1;36m2\u001b[0m\u001b[1m}\u001b[0m\u001b[1m}\u001b[0m\n"
      ]
     },
     "metadata": {},
     "output_type": "display_data"
    }
   ],
   "source": [
    "df = pl.DataFrame(\n",
    "    [\n",
    "        {\"Data\": {\"id\": 1}},\n",
    "        {\"Data\": {\"id\": 2}},\n",
    "    ],\n",
    "    schema={\n",
    "        \"Data\": pl.Struct({\n",
    "            \"id\": pl.Int64(),\n",
    "        }),\n",
    "    },\n",
    ")\n",
    "print_df(df)"
   ]
  },
  {
   "cell_type": "markdown",
   "id": "bf3a5a85-9560-4e69-8501-af06420cbbe8",
   "metadata": {},
   "source": [
    "在显式给定 Schema 的情况下, 如果数据类型不对则会自动 Cast."
   ]
  },
  {
   "cell_type": "code",
   "execution_count": 62,
   "id": "716858fc-cf24-4c92-8de9-54d0b4c8e7f1",
   "metadata": {},
   "outputs": [
    {
     "name": "stdout",
     "output_type": "stream",
     "text": [
      "-------------------- schema --------------------\n"
     ]
    },
    {
     "data": {
      "text/html": [
       "<pre style=\"white-space:pre;overflow-x:auto;line-height:normal;font-family:Menlo,'DejaVu Sans Mono',consolas,'Courier New',monospace\"><span style=\"color: #800080; text-decoration-color: #800080; font-weight: bold\">Schema</span><span style=\"font-weight: bold\">([(</span><span style=\"color: #008000; text-decoration-color: #008000\">'Data'</span>, <span style=\"color: #800080; text-decoration-color: #800080; font-weight: bold\">Struct</span><span style=\"font-weight: bold\">({</span><span style=\"color: #008000; text-decoration-color: #008000\">'id'</span>: Int64<span style=\"font-weight: bold\">}))])</span>\n",
       "</pre>\n"
      ],
      "text/plain": [
       "\u001b[1;35mSchema\u001b[0m\u001b[1m(\u001b[0m\u001b[1m[\u001b[0m\u001b[1m(\u001b[0m\u001b[32m'Data'\u001b[0m, \u001b[1;35mStruct\u001b[0m\u001b[1m(\u001b[0m\u001b[1m{\u001b[0m\u001b[32m'id'\u001b[0m: Int64\u001b[1m}\u001b[0m\u001b[1m)\u001b[0m\u001b[1m)\u001b[0m\u001b[1m]\u001b[0m\u001b[1m)\u001b[0m\n"
      ]
     },
     "metadata": {},
     "output_type": "display_data"
    },
    {
     "name": "stdout",
     "output_type": "stream",
     "text": [
      "-------------------- df records --------------------\n"
     ]
    },
    {
     "data": {
      "text/html": [
       "<pre style=\"white-space:pre;overflow-x:auto;line-height:normal;font-family:Menlo,'DejaVu Sans Mono',consolas,'Courier New',monospace\"><span style=\"font-weight: bold\">{</span><span style=\"color: #008000; text-decoration-color: #008000\">'Data'</span>: <span style=\"font-weight: bold\">{</span><span style=\"color: #008000; text-decoration-color: #008000\">'id'</span>: <span style=\"color: #008080; text-decoration-color: #008080; font-weight: bold\">1</span><span style=\"font-weight: bold\">}}</span>\n",
       "</pre>\n"
      ],
      "text/plain": [
       "\u001b[1m{\u001b[0m\u001b[32m'Data'\u001b[0m: \u001b[1m{\u001b[0m\u001b[32m'id'\u001b[0m: \u001b[1;36m1\u001b[0m\u001b[1m}\u001b[0m\u001b[1m}\u001b[0m\n"
      ]
     },
     "metadata": {},
     "output_type": "display_data"
    },
    {
     "data": {
      "text/html": [
       "<pre style=\"white-space:pre;overflow-x:auto;line-height:normal;font-family:Menlo,'DejaVu Sans Mono',consolas,'Courier New',monospace\"><span style=\"font-weight: bold\">{</span><span style=\"color: #008000; text-decoration-color: #008000\">'Data'</span>: <span style=\"font-weight: bold\">{</span><span style=\"color: #008000; text-decoration-color: #008000\">'id'</span>: <span style=\"color: #008080; text-decoration-color: #008080; font-weight: bold\">2</span><span style=\"font-weight: bold\">}}</span>\n",
       "</pre>\n"
      ],
      "text/plain": [
       "\u001b[1m{\u001b[0m\u001b[32m'Data'\u001b[0m: \u001b[1m{\u001b[0m\u001b[32m'id'\u001b[0m: \u001b[1;36m2\u001b[0m\u001b[1m}\u001b[0m\u001b[1m}\u001b[0m\n"
      ]
     },
     "metadata": {},
     "output_type": "display_data"
    }
   ],
   "source": [
    "df = pl.DataFrame(\n",
    "    [\n",
    "        {\"Data\": {\"id\": 1}},\n",
    "        {\"Data\": {\"id\": 2.0}},\n",
    "    ],\n",
    "    schema={\n",
    "        \"Data\": pl.Struct({\n",
    "            \"id\": pl.Int64(),\n",
    "        }),\n",
    "    },\n",
    ")\n",
    "print_df(df)"
   ]
  },
  {
   "cell_type": "code",
   "execution_count": 63,
   "id": "eea9faf1-28ed-4063-b67b-cb0002482e5f",
   "metadata": {},
   "outputs": [
    {
     "name": "stdout",
     "output_type": "stream",
     "text": [
      "-------------------- schema --------------------\n"
     ]
    },
    {
     "data": {
      "text/html": [
       "<pre style=\"white-space:pre;overflow-x:auto;line-height:normal;font-family:Menlo,'DejaVu Sans Mono',consolas,'Courier New',monospace\"><span style=\"color: #800080; text-decoration-color: #800080; font-weight: bold\">Schema</span><span style=\"font-weight: bold\">([(</span><span style=\"color: #008000; text-decoration-color: #008000\">'Data'</span>, <span style=\"color: #800080; text-decoration-color: #800080; font-weight: bold\">Struct</span><span style=\"font-weight: bold\">({</span><span style=\"color: #008000; text-decoration-color: #008000\">'id'</span>: Int64<span style=\"font-weight: bold\">}))])</span>\n",
       "</pre>\n"
      ],
      "text/plain": [
       "\u001b[1;35mSchema\u001b[0m\u001b[1m(\u001b[0m\u001b[1m[\u001b[0m\u001b[1m(\u001b[0m\u001b[32m'Data'\u001b[0m, \u001b[1;35mStruct\u001b[0m\u001b[1m(\u001b[0m\u001b[1m{\u001b[0m\u001b[32m'id'\u001b[0m: Int64\u001b[1m}\u001b[0m\u001b[1m)\u001b[0m\u001b[1m)\u001b[0m\u001b[1m]\u001b[0m\u001b[1m)\u001b[0m\n"
      ]
     },
     "metadata": {},
     "output_type": "display_data"
    },
    {
     "name": "stdout",
     "output_type": "stream",
     "text": [
      "-------------------- df records --------------------\n"
     ]
    },
    {
     "data": {
      "text/html": [
       "<pre style=\"white-space:pre;overflow-x:auto;line-height:normal;font-family:Menlo,'DejaVu Sans Mono',consolas,'Courier New',monospace\"><span style=\"font-weight: bold\">{</span><span style=\"color: #008000; text-decoration-color: #008000\">'Data'</span>: <span style=\"font-weight: bold\">{</span><span style=\"color: #008000; text-decoration-color: #008000\">'id'</span>: <span style=\"color: #008080; text-decoration-color: #008080; font-weight: bold\">1</span><span style=\"font-weight: bold\">}}</span>\n",
       "</pre>\n"
      ],
      "text/plain": [
       "\u001b[1m{\u001b[0m\u001b[32m'Data'\u001b[0m: \u001b[1m{\u001b[0m\u001b[32m'id'\u001b[0m: \u001b[1;36m1\u001b[0m\u001b[1m}\u001b[0m\u001b[1m}\u001b[0m\n"
      ]
     },
     "metadata": {},
     "output_type": "display_data"
    },
    {
     "data": {
      "text/html": [
       "<pre style=\"white-space:pre;overflow-x:auto;line-height:normal;font-family:Menlo,'DejaVu Sans Mono',consolas,'Courier New',monospace\"><span style=\"font-weight: bold\">{</span><span style=\"color: #008000; text-decoration-color: #008000\">'Data'</span>: <span style=\"font-weight: bold\">{</span><span style=\"color: #008000; text-decoration-color: #008000\">'id'</span>: <span style=\"color: #008080; text-decoration-color: #008080; font-weight: bold\">2</span><span style=\"font-weight: bold\">}}</span>\n",
       "</pre>\n"
      ],
      "text/plain": [
       "\u001b[1m{\u001b[0m\u001b[32m'Data'\u001b[0m: \u001b[1m{\u001b[0m\u001b[32m'id'\u001b[0m: \u001b[1;36m2\u001b[0m\u001b[1m}\u001b[0m\u001b[1m}\u001b[0m\n"
      ]
     },
     "metadata": {},
     "output_type": "display_data"
    }
   ],
   "source": [
    "df = pl.DataFrame(\n",
    "    [\n",
    "        {\"Data\": {\"id\": 1}},\n",
    "        {\"Data\": {\"id\": 2.5}},\n",
    "    ],\n",
    "    schema={\n",
    "        \"Data\": pl.Struct({\n",
    "            \"id\": pl.Int64(),\n",
    "        }),\n",
    "    },\n",
    ")\n",
    "print_df(df)"
   ]
  },
  {
   "cell_type": "markdown",
   "id": "926f3a41-2e48-4194-b98a-cda2d2e8fcdd",
   "metadata": {},
   "source": [
    "如果值是 None 则不会自动 Cast, 结果还是 None."
   ]
  },
  {
   "cell_type": "code",
   "execution_count": 64,
   "id": "30cf7ca4-870d-4aff-934b-011157294254",
   "metadata": {},
   "outputs": [
    {
     "name": "stdout",
     "output_type": "stream",
     "text": [
      "-------------------- schema --------------------\n"
     ]
    },
    {
     "data": {
      "text/html": [
       "<pre style=\"white-space:pre;overflow-x:auto;line-height:normal;font-family:Menlo,'DejaVu Sans Mono',consolas,'Courier New',monospace\"><span style=\"color: #800080; text-decoration-color: #800080; font-weight: bold\">Schema</span><span style=\"font-weight: bold\">([(</span><span style=\"color: #008000; text-decoration-color: #008000\">'Data'</span>, <span style=\"color: #800080; text-decoration-color: #800080; font-weight: bold\">Struct</span><span style=\"font-weight: bold\">({</span><span style=\"color: #008000; text-decoration-color: #008000\">'id'</span>: Int64<span style=\"font-weight: bold\">}))])</span>\n",
       "</pre>\n"
      ],
      "text/plain": [
       "\u001b[1;35mSchema\u001b[0m\u001b[1m(\u001b[0m\u001b[1m[\u001b[0m\u001b[1m(\u001b[0m\u001b[32m'Data'\u001b[0m, \u001b[1;35mStruct\u001b[0m\u001b[1m(\u001b[0m\u001b[1m{\u001b[0m\u001b[32m'id'\u001b[0m: Int64\u001b[1m}\u001b[0m\u001b[1m)\u001b[0m\u001b[1m)\u001b[0m\u001b[1m]\u001b[0m\u001b[1m)\u001b[0m\n"
      ]
     },
     "metadata": {},
     "output_type": "display_data"
    },
    {
     "name": "stdout",
     "output_type": "stream",
     "text": [
      "-------------------- df records --------------------\n"
     ]
    },
    {
     "data": {
      "text/html": [
       "<pre style=\"white-space:pre;overflow-x:auto;line-height:normal;font-family:Menlo,'DejaVu Sans Mono',consolas,'Courier New',monospace\"><span style=\"font-weight: bold\">{</span><span style=\"color: #008000; text-decoration-color: #008000\">'Data'</span>: <span style=\"font-weight: bold\">{</span><span style=\"color: #008000; text-decoration-color: #008000\">'id'</span>: <span style=\"color: #008080; text-decoration-color: #008080; font-weight: bold\">1</span><span style=\"font-weight: bold\">}}</span>\n",
       "</pre>\n"
      ],
      "text/plain": [
       "\u001b[1m{\u001b[0m\u001b[32m'Data'\u001b[0m: \u001b[1m{\u001b[0m\u001b[32m'id'\u001b[0m: \u001b[1;36m1\u001b[0m\u001b[1m}\u001b[0m\u001b[1m}\u001b[0m\n"
      ]
     },
     "metadata": {},
     "output_type": "display_data"
    },
    {
     "data": {
      "text/html": [
       "<pre style=\"white-space:pre;overflow-x:auto;line-height:normal;font-family:Menlo,'DejaVu Sans Mono',consolas,'Courier New',monospace\"><span style=\"font-weight: bold\">{</span><span style=\"color: #008000; text-decoration-color: #008000\">'Data'</span>: <span style=\"font-weight: bold\">{</span><span style=\"color: #008000; text-decoration-color: #008000\">'id'</span>: <span style=\"color: #800080; text-decoration-color: #800080; font-style: italic\">None</span><span style=\"font-weight: bold\">}}</span>\n",
       "</pre>\n"
      ],
      "text/plain": [
       "\u001b[1m{\u001b[0m\u001b[32m'Data'\u001b[0m: \u001b[1m{\u001b[0m\u001b[32m'id'\u001b[0m: \u001b[3;35mNone\u001b[0m\u001b[1m}\u001b[0m\u001b[1m}\u001b[0m\n"
      ]
     },
     "metadata": {},
     "output_type": "display_data"
    }
   ],
   "source": [
    "df = pl.DataFrame(\n",
    "    [\n",
    "        {\"Data\": {\"id\": 1}},\n",
    "        {\"Data\": {\"id\": None}},\n",
    "    ],\n",
    "    schema={\n",
    "        \"Data\": pl.Struct({\n",
    "            \"id\": pl.Int64(),\n",
    "        }),\n",
    "    },\n",
    ")\n",
    "print_df(df)"
   ]
  },
  {
   "cell_type": "markdown",
   "id": "f525032f-be68-4e74-a45c-f4066a4b6a15",
   "metadata": {},
   "source": [
    "如果自动 Cast 不了, 则值设为 None."
   ]
  },
  {
   "cell_type": "code",
   "execution_count": 65,
   "id": "64feeead-e37b-4f7c-a00c-a5b6c4b5589f",
   "metadata": {},
   "outputs": [
    {
     "name": "stdout",
     "output_type": "stream",
     "text": [
      "-------------------- schema --------------------\n"
     ]
    },
    {
     "data": {
      "text/html": [
       "<pre style=\"white-space:pre;overflow-x:auto;line-height:normal;font-family:Menlo,'DejaVu Sans Mono',consolas,'Courier New',monospace\"><span style=\"color: #800080; text-decoration-color: #800080; font-weight: bold\">Schema</span><span style=\"font-weight: bold\">([(</span><span style=\"color: #008000; text-decoration-color: #008000\">'Data'</span>, <span style=\"color: #800080; text-decoration-color: #800080; font-weight: bold\">Struct</span><span style=\"font-weight: bold\">({</span><span style=\"color: #008000; text-decoration-color: #008000\">'id'</span>: Int64<span style=\"font-weight: bold\">}))])</span>\n",
       "</pre>\n"
      ],
      "text/plain": [
       "\u001b[1;35mSchema\u001b[0m\u001b[1m(\u001b[0m\u001b[1m[\u001b[0m\u001b[1m(\u001b[0m\u001b[32m'Data'\u001b[0m, \u001b[1;35mStruct\u001b[0m\u001b[1m(\u001b[0m\u001b[1m{\u001b[0m\u001b[32m'id'\u001b[0m: Int64\u001b[1m}\u001b[0m\u001b[1m)\u001b[0m\u001b[1m)\u001b[0m\u001b[1m]\u001b[0m\u001b[1m)\u001b[0m\n"
      ]
     },
     "metadata": {},
     "output_type": "display_data"
    },
    {
     "name": "stdout",
     "output_type": "stream",
     "text": [
      "-------------------- df records --------------------\n"
     ]
    },
    {
     "data": {
      "text/html": [
       "<pre style=\"white-space:pre;overflow-x:auto;line-height:normal;font-family:Menlo,'DejaVu Sans Mono',consolas,'Courier New',monospace\"><span style=\"font-weight: bold\">{</span><span style=\"color: #008000; text-decoration-color: #008000\">'Data'</span>: <span style=\"font-weight: bold\">{</span><span style=\"color: #008000; text-decoration-color: #008000\">'id'</span>: <span style=\"color: #008080; text-decoration-color: #008080; font-weight: bold\">1</span><span style=\"font-weight: bold\">}}</span>\n",
       "</pre>\n"
      ],
      "text/plain": [
       "\u001b[1m{\u001b[0m\u001b[32m'Data'\u001b[0m: \u001b[1m{\u001b[0m\u001b[32m'id'\u001b[0m: \u001b[1;36m1\u001b[0m\u001b[1m}\u001b[0m\u001b[1m}\u001b[0m\n"
      ]
     },
     "metadata": {},
     "output_type": "display_data"
    },
    {
     "data": {
      "text/html": [
       "<pre style=\"white-space:pre;overflow-x:auto;line-height:normal;font-family:Menlo,'DejaVu Sans Mono',consolas,'Courier New',monospace\"><span style=\"font-weight: bold\">{</span><span style=\"color: #008000; text-decoration-color: #008000\">'Data'</span>: <span style=\"font-weight: bold\">{</span><span style=\"color: #008000; text-decoration-color: #008000\">'id'</span>: <span style=\"color: #800080; text-decoration-color: #800080; font-style: italic\">None</span><span style=\"font-weight: bold\">}}</span>\n",
       "</pre>\n"
      ],
      "text/plain": [
       "\u001b[1m{\u001b[0m\u001b[32m'Data'\u001b[0m: \u001b[1m{\u001b[0m\u001b[32m'id'\u001b[0m: \u001b[3;35mNone\u001b[0m\u001b[1m}\u001b[0m\u001b[1m}\u001b[0m\n"
      ]
     },
     "metadata": {},
     "output_type": "display_data"
    }
   ],
   "source": [
    "df = pl.DataFrame(\n",
    "    [\n",
    "        {\"Data\": {\"id\": 1}},\n",
    "        {\"Data\": {\"id\": \"id-2\"}},\n",
    "    ],\n",
    "    schema={\n",
    "        \"Data\": pl.Struct({\n",
    "            \"id\": pl.Int64(),\n",
    "        }),\n",
    "    },\n",
    ")\n",
    "print_df(df)"
   ]
  },
  {
   "cell_type": "markdown",
   "id": "0eb065cc-d09c-468c-9047-de5280c9289e",
   "metadata": {},
   "source": [
    "对于复杂结构 struct, 你只要在 schema 中定义了值, 那么就会尝试到对应位置找值, 只要找不到都算做 None. 对于一个 field 是 struct 的情况, 如果 struct 本身是 None, 那么这个 field 的值就是 None. 而 struct 本身是一个 dict, 只是里面的值找不到, 那么这个 field 的值就是里面定义的那些 key, 凡是找不到值的都设为 None."
   ]
  },
  {
   "cell_type": "code",
   "execution_count": 66,
   "id": "e9701752-b256-452a-bf3c-0876f7469ecc",
   "metadata": {},
   "outputs": [
    {
     "name": "stdout",
     "output_type": "stream",
     "text": [
      "-------------------- schema --------------------\n"
     ]
    },
    {
     "data": {
      "text/html": [
       "<pre style=\"white-space:pre;overflow-x:auto;line-height:normal;font-family:Menlo,'DejaVu Sans Mono',consolas,'Courier New',monospace\"><span style=\"color: #800080; text-decoration-color: #800080; font-weight: bold\">Schema</span><span style=\"font-weight: bold\">([(</span><span style=\"color: #008000; text-decoration-color: #008000\">'Data'</span>, <span style=\"color: #800080; text-decoration-color: #800080; font-weight: bold\">Struct</span><span style=\"font-weight: bold\">({</span><span style=\"color: #008000; text-decoration-color: #008000\">'id'</span>: Int64, <span style=\"color: #008000; text-decoration-color: #008000\">'a_struct'</span>: <span style=\"color: #800080; text-decoration-color: #800080; font-weight: bold\">Struct</span><span style=\"font-weight: bold\">({</span><span style=\"color: #008000; text-decoration-color: #008000\">'name'</span>: String, <span style=\"color: #008000; text-decoration-color: #008000\">'age'</span>: Int64<span style=\"font-weight: bold\">})}))])</span>\n",
       "</pre>\n"
      ],
      "text/plain": [
       "\u001b[1;35mSchema\u001b[0m\u001b[1m(\u001b[0m\u001b[1m[\u001b[0m\u001b[1m(\u001b[0m\u001b[32m'Data'\u001b[0m, \u001b[1;35mStruct\u001b[0m\u001b[1m(\u001b[0m\u001b[1m{\u001b[0m\u001b[32m'id'\u001b[0m: Int64, \u001b[32m'a_struct'\u001b[0m: \u001b[1;35mStruct\u001b[0m\u001b[1m(\u001b[0m\u001b[1m{\u001b[0m\u001b[32m'name'\u001b[0m: String, \u001b[32m'age'\u001b[0m: Int64\u001b[1m}\u001b[0m\u001b[1m)\u001b[0m\u001b[1m}\u001b[0m\u001b[1m)\u001b[0m\u001b[1m)\u001b[0m\u001b[1m]\u001b[0m\u001b[1m)\u001b[0m\n"
      ]
     },
     "metadata": {},
     "output_type": "display_data"
    },
    {
     "name": "stdout",
     "output_type": "stream",
     "text": [
      "-------------------- df records --------------------\n"
     ]
    },
    {
     "data": {
      "text/html": [
       "<pre style=\"white-space:pre;overflow-x:auto;line-height:normal;font-family:Menlo,'DejaVu Sans Mono',consolas,'Courier New',monospace\"><span style=\"font-weight: bold\">{</span><span style=\"color: #008000; text-decoration-color: #008000\">'Data'</span>: <span style=\"font-weight: bold\">{</span><span style=\"color: #008000; text-decoration-color: #008000\">'id'</span>: <span style=\"color: #008080; text-decoration-color: #008080; font-weight: bold\">1</span>, <span style=\"color: #008000; text-decoration-color: #008000\">'a_struct'</span>: <span style=\"font-weight: bold\">{</span><span style=\"color: #008000; text-decoration-color: #008000\">'name'</span>: <span style=\"color: #008000; text-decoration-color: #008000\">'Alice'</span>, <span style=\"color: #008000; text-decoration-color: #008000\">'age'</span>: <span style=\"color: #008080; text-decoration-color: #008080; font-weight: bold\">20</span><span style=\"font-weight: bold\">}}}</span>\n",
       "</pre>\n"
      ],
      "text/plain": [
       "\u001b[1m{\u001b[0m\u001b[32m'Data'\u001b[0m: \u001b[1m{\u001b[0m\u001b[32m'id'\u001b[0m: \u001b[1;36m1\u001b[0m, \u001b[32m'a_struct'\u001b[0m: \u001b[1m{\u001b[0m\u001b[32m'name'\u001b[0m: \u001b[32m'Alice'\u001b[0m, \u001b[32m'age'\u001b[0m: \u001b[1;36m20\u001b[0m\u001b[1m}\u001b[0m\u001b[1m}\u001b[0m\u001b[1m}\u001b[0m\n"
      ]
     },
     "metadata": {},
     "output_type": "display_data"
    },
    {
     "data": {
      "text/html": [
       "<pre style=\"white-space:pre;overflow-x:auto;line-height:normal;font-family:Menlo,'DejaVu Sans Mono',consolas,'Courier New',monospace\"><span style=\"font-weight: bold\">{</span><span style=\"color: #008000; text-decoration-color: #008000\">'Data'</span>: <span style=\"font-weight: bold\">{</span><span style=\"color: #008000; text-decoration-color: #008000\">'id'</span>: <span style=\"color: #008080; text-decoration-color: #008080; font-weight: bold\">2</span>, <span style=\"color: #008000; text-decoration-color: #008000\">'a_struct'</span>: <span style=\"font-weight: bold\">{</span><span style=\"color: #008000; text-decoration-color: #008000\">'name'</span>: <span style=\"color: #800080; text-decoration-color: #800080; font-style: italic\">None</span>, <span style=\"color: #008000; text-decoration-color: #008000\">'age'</span>: <span style=\"color: #800080; text-decoration-color: #800080; font-style: italic\">None</span><span style=\"font-weight: bold\">}}}</span>\n",
       "</pre>\n"
      ],
      "text/plain": [
       "\u001b[1m{\u001b[0m\u001b[32m'Data'\u001b[0m: \u001b[1m{\u001b[0m\u001b[32m'id'\u001b[0m: \u001b[1;36m2\u001b[0m, \u001b[32m'a_struct'\u001b[0m: \u001b[1m{\u001b[0m\u001b[32m'name'\u001b[0m: \u001b[3;35mNone\u001b[0m, \u001b[32m'age'\u001b[0m: \u001b[3;35mNone\u001b[0m\u001b[1m}\u001b[0m\u001b[1m}\u001b[0m\u001b[1m}\u001b[0m\n"
      ]
     },
     "metadata": {},
     "output_type": "display_data"
    },
    {
     "data": {
      "text/html": [
       "<pre style=\"white-space:pre;overflow-x:auto;line-height:normal;font-family:Menlo,'DejaVu Sans Mono',consolas,'Courier New',monospace\"><span style=\"font-weight: bold\">{</span><span style=\"color: #008000; text-decoration-color: #008000\">'Data'</span>: <span style=\"font-weight: bold\">{</span><span style=\"color: #008000; text-decoration-color: #008000\">'id'</span>: <span style=\"color: #008080; text-decoration-color: #008080; font-weight: bold\">3</span>, <span style=\"color: #008000; text-decoration-color: #008000\">'a_struct'</span>: <span style=\"font-weight: bold\">{</span><span style=\"color: #008000; text-decoration-color: #008000\">'name'</span>: <span style=\"color: #800080; text-decoration-color: #800080; font-style: italic\">None</span>, <span style=\"color: #008000; text-decoration-color: #008000\">'age'</span>: <span style=\"color: #800080; text-decoration-color: #800080; font-style: italic\">None</span><span style=\"font-weight: bold\">}}}</span>\n",
       "</pre>\n"
      ],
      "text/plain": [
       "\u001b[1m{\u001b[0m\u001b[32m'Data'\u001b[0m: \u001b[1m{\u001b[0m\u001b[32m'id'\u001b[0m: \u001b[1;36m3\u001b[0m, \u001b[32m'a_struct'\u001b[0m: \u001b[1m{\u001b[0m\u001b[32m'name'\u001b[0m: \u001b[3;35mNone\u001b[0m, \u001b[32m'age'\u001b[0m: \u001b[3;35mNone\u001b[0m\u001b[1m}\u001b[0m\u001b[1m}\u001b[0m\u001b[1m}\u001b[0m\n"
      ]
     },
     "metadata": {},
     "output_type": "display_data"
    },
    {
     "data": {
      "text/html": [
       "<pre style=\"white-space:pre;overflow-x:auto;line-height:normal;font-family:Menlo,'DejaVu Sans Mono',consolas,'Courier New',monospace\"><span style=\"font-weight: bold\">{</span><span style=\"color: #008000; text-decoration-color: #008000\">'Data'</span>: <span style=\"font-weight: bold\">{</span><span style=\"color: #008000; text-decoration-color: #008000\">'id'</span>: <span style=\"color: #008080; text-decoration-color: #008080; font-weight: bold\">4</span>, <span style=\"color: #008000; text-decoration-color: #008000\">'a_struct'</span>: <span style=\"color: #800080; text-decoration-color: #800080; font-style: italic\">None</span><span style=\"font-weight: bold\">}}</span>\n",
       "</pre>\n"
      ],
      "text/plain": [
       "\u001b[1m{\u001b[0m\u001b[32m'Data'\u001b[0m: \u001b[1m{\u001b[0m\u001b[32m'id'\u001b[0m: \u001b[1;36m4\u001b[0m, \u001b[32m'a_struct'\u001b[0m: \u001b[3;35mNone\u001b[0m\u001b[1m}\u001b[0m\u001b[1m}\u001b[0m\n"
      ]
     },
     "metadata": {},
     "output_type": "display_data"
    }
   ],
   "source": [
    "df = pl.DataFrame(\n",
    "    [\n",
    "        {\"Data\": {\"id\": 1, \"a_struct\": {\"name\": \"Alice\", \"age\": 20}}},\n",
    "        {\"Data\": {\"id\": 2, \"a_struct\": {\"name\": None, \"age\": None}}},\n",
    "        {\"Data\": {\"id\": 3, \"a_struct\": {}}},\n",
    "        {\"Data\": {\"id\": 4, \"a_struct\": None}},\n",
    "    ],\n",
    "    schema={\n",
    "        \"Data\": pl.Struct({\n",
    "            \"id\": pl.Int64(),\n",
    "            \"a_struct\": pl.Struct({\n",
    "                \"name\": pl.Utf8(),\n",
    "                \"age\": pl.Int64(),\n",
    "            })\n",
    "        }),\n",
    "    },\n",
    ")\n",
    "print_df(df)"
   ]
  },
  {
   "cell_type": "markdown",
   "id": "2526a7de-fb3b-4575-9061-8daa1847a239",
   "metadata": {},
   "source": [
    "对于 List 也是一样, 它会根据 schema 中的定义尝试 cast. 当 field 的值本身是 None 那么整个 field 就是 None. 如果 field 的值是 list 但是里面的 element 的 type 不对, 那么会尝试 cast 转换. 如果转换不了, 再看参数 strict. 如果是 strict = True, 则直接报错, 反之则复制 None 然后让他过."
   ]
  },
  {
   "cell_type": "code",
   "execution_count": 67,
   "id": "80eea9a6-dd38-4b8c-9cc6-613908d20171",
   "metadata": {},
   "outputs": [
    {
     "name": "stdout",
     "output_type": "stream",
     "text": [
      "-------------------- schema --------------------\n"
     ]
    },
    {
     "data": {
      "text/html": [
       "<pre style=\"white-space:pre;overflow-x:auto;line-height:normal;font-family:Menlo,'DejaVu Sans Mono',consolas,'Courier New',monospace\"><span style=\"color: #800080; text-decoration-color: #800080; font-weight: bold\">Schema</span><span style=\"font-weight: bold\">([(</span><span style=\"color: #008000; text-decoration-color: #008000\">'Data'</span>, <span style=\"color: #800080; text-decoration-color: #800080; font-weight: bold\">Struct</span><span style=\"font-weight: bold\">({</span><span style=\"color: #008000; text-decoration-color: #008000\">'id'</span>: Int64, <span style=\"color: #008000; text-decoration-color: #008000\">'a_int_list'</span>: <span style=\"color: #800080; text-decoration-color: #800080; font-weight: bold\">List</span><span style=\"font-weight: bold\">(</span>Int64<span style=\"font-weight: bold\">)}))])</span>\n",
       "</pre>\n"
      ],
      "text/plain": [
       "\u001b[1;35mSchema\u001b[0m\u001b[1m(\u001b[0m\u001b[1m[\u001b[0m\u001b[1m(\u001b[0m\u001b[32m'Data'\u001b[0m, \u001b[1;35mStruct\u001b[0m\u001b[1m(\u001b[0m\u001b[1m{\u001b[0m\u001b[32m'id'\u001b[0m: Int64, \u001b[32m'a_int_list'\u001b[0m: \u001b[1;35mList\u001b[0m\u001b[1m(\u001b[0mInt64\u001b[1m)\u001b[0m\u001b[1m}\u001b[0m\u001b[1m)\u001b[0m\u001b[1m)\u001b[0m\u001b[1m]\u001b[0m\u001b[1m)\u001b[0m\n"
      ]
     },
     "metadata": {},
     "output_type": "display_data"
    },
    {
     "name": "stdout",
     "output_type": "stream",
     "text": [
      "-------------------- df records --------------------\n"
     ]
    },
    {
     "data": {
      "text/html": [
       "<pre style=\"white-space:pre;overflow-x:auto;line-height:normal;font-family:Menlo,'DejaVu Sans Mono',consolas,'Courier New',monospace\"><span style=\"font-weight: bold\">{</span><span style=\"color: #008000; text-decoration-color: #008000\">'Data'</span>: <span style=\"font-weight: bold\">{</span><span style=\"color: #008000; text-decoration-color: #008000\">'id'</span>: <span style=\"color: #008080; text-decoration-color: #008080; font-weight: bold\">1</span>, <span style=\"color: #008000; text-decoration-color: #008000\">'a_int_list'</span>: <span style=\"font-weight: bold\">[</span><span style=\"color: #008080; text-decoration-color: #008080; font-weight: bold\">1</span>, <span style=\"color: #008080; text-decoration-color: #008080; font-weight: bold\">2</span><span style=\"font-weight: bold\">]}}</span>\n",
       "</pre>\n"
      ],
      "text/plain": [
       "\u001b[1m{\u001b[0m\u001b[32m'Data'\u001b[0m: \u001b[1m{\u001b[0m\u001b[32m'id'\u001b[0m: \u001b[1;36m1\u001b[0m, \u001b[32m'a_int_list'\u001b[0m: \u001b[1m[\u001b[0m\u001b[1;36m1\u001b[0m, \u001b[1;36m2\u001b[0m\u001b[1m]\u001b[0m\u001b[1m}\u001b[0m\u001b[1m}\u001b[0m\n"
      ]
     },
     "metadata": {},
     "output_type": "display_data"
    },
    {
     "data": {
      "text/html": [
       "<pre style=\"white-space:pre;overflow-x:auto;line-height:normal;font-family:Menlo,'DejaVu Sans Mono',consolas,'Courier New',monospace\"><span style=\"font-weight: bold\">{</span><span style=\"color: #008000; text-decoration-color: #008000\">'Data'</span>: <span style=\"font-weight: bold\">{</span><span style=\"color: #008000; text-decoration-color: #008000\">'id'</span>: <span style=\"color: #008080; text-decoration-color: #008080; font-weight: bold\">2</span>, <span style=\"color: #008000; text-decoration-color: #008000\">'a_int_list'</span>: <span style=\"font-weight: bold\">[</span><span style=\"color: #008080; text-decoration-color: #008080; font-weight: bold\">1</span>, <span style=\"color: #800080; text-decoration-color: #800080; font-style: italic\">None</span><span style=\"font-weight: bold\">]}}</span>\n",
       "</pre>\n"
      ],
      "text/plain": [
       "\u001b[1m{\u001b[0m\u001b[32m'Data'\u001b[0m: \u001b[1m{\u001b[0m\u001b[32m'id'\u001b[0m: \u001b[1;36m2\u001b[0m, \u001b[32m'a_int_list'\u001b[0m: \u001b[1m[\u001b[0m\u001b[1;36m1\u001b[0m, \u001b[3;35mNone\u001b[0m\u001b[1m]\u001b[0m\u001b[1m}\u001b[0m\u001b[1m}\u001b[0m\n"
      ]
     },
     "metadata": {},
     "output_type": "display_data"
    },
    {
     "data": {
      "text/html": [
       "<pre style=\"white-space:pre;overflow-x:auto;line-height:normal;font-family:Menlo,'DejaVu Sans Mono',consolas,'Courier New',monospace\"><span style=\"font-weight: bold\">{</span><span style=\"color: #008000; text-decoration-color: #008000\">'Data'</span>: <span style=\"font-weight: bold\">{</span><span style=\"color: #008000; text-decoration-color: #008000\">'id'</span>: <span style=\"color: #008080; text-decoration-color: #008080; font-weight: bold\">3</span>, <span style=\"color: #008000; text-decoration-color: #008000\">'a_int_list'</span>: <span style=\"font-weight: bold\">[</span><span style=\"color: #008080; text-decoration-color: #008080; font-weight: bold\">1</span>, <span style=\"color: #008080; text-decoration-color: #008080; font-weight: bold\">2</span><span style=\"font-weight: bold\">]}}</span>\n",
       "</pre>\n"
      ],
      "text/plain": [
       "\u001b[1m{\u001b[0m\u001b[32m'Data'\u001b[0m: \u001b[1m{\u001b[0m\u001b[32m'id'\u001b[0m: \u001b[1;36m3\u001b[0m, \u001b[32m'a_int_list'\u001b[0m: \u001b[1m[\u001b[0m\u001b[1;36m1\u001b[0m, \u001b[1;36m2\u001b[0m\u001b[1m]\u001b[0m\u001b[1m}\u001b[0m\u001b[1m}\u001b[0m\n"
      ]
     },
     "metadata": {},
     "output_type": "display_data"
    },
    {
     "data": {
      "text/html": [
       "<pre style=\"white-space:pre;overflow-x:auto;line-height:normal;font-family:Menlo,'DejaVu Sans Mono',consolas,'Courier New',monospace\"><span style=\"font-weight: bold\">{</span><span style=\"color: #008000; text-decoration-color: #008000\">'Data'</span>: <span style=\"font-weight: bold\">{</span><span style=\"color: #008000; text-decoration-color: #008000\">'id'</span>: <span style=\"color: #008080; text-decoration-color: #008080; font-weight: bold\">4</span>, <span style=\"color: #008000; text-decoration-color: #008000\">'a_int_list'</span>: <span style=\"font-weight: bold\">[</span><span style=\"color: #800080; text-decoration-color: #800080; font-style: italic\">None</span>, <span style=\"color: #008080; text-decoration-color: #008080; font-weight: bold\">2</span><span style=\"font-weight: bold\">]}}</span>\n",
       "</pre>\n"
      ],
      "text/plain": [
       "\u001b[1m{\u001b[0m\u001b[32m'Data'\u001b[0m: \u001b[1m{\u001b[0m\u001b[32m'id'\u001b[0m: \u001b[1;36m4\u001b[0m, \u001b[32m'a_int_list'\u001b[0m: \u001b[1m[\u001b[0m\u001b[3;35mNone\u001b[0m, \u001b[1;36m2\u001b[0m\u001b[1m]\u001b[0m\u001b[1m}\u001b[0m\u001b[1m}\u001b[0m\n"
      ]
     },
     "metadata": {},
     "output_type": "display_data"
    },
    {
     "data": {
      "text/html": [
       "<pre style=\"white-space:pre;overflow-x:auto;line-height:normal;font-family:Menlo,'DejaVu Sans Mono',consolas,'Courier New',monospace\"><span style=\"font-weight: bold\">{</span><span style=\"color: #008000; text-decoration-color: #008000\">'Data'</span>: <span style=\"font-weight: bold\">{</span><span style=\"color: #008000; text-decoration-color: #008000\">'id'</span>: <span style=\"color: #008080; text-decoration-color: #008080; font-weight: bold\">5</span>, <span style=\"color: #008000; text-decoration-color: #008000\">'a_int_list'</span>: <span style=\"font-weight: bold\">[</span><span style=\"color: #800080; text-decoration-color: #800080; font-style: italic\">None</span>, <span style=\"color: #800080; text-decoration-color: #800080; font-style: italic\">None</span><span style=\"font-weight: bold\">]}}</span>\n",
       "</pre>\n"
      ],
      "text/plain": [
       "\u001b[1m{\u001b[0m\u001b[32m'Data'\u001b[0m: \u001b[1m{\u001b[0m\u001b[32m'id'\u001b[0m: \u001b[1;36m5\u001b[0m, \u001b[32m'a_int_list'\u001b[0m: \u001b[1m[\u001b[0m\u001b[3;35mNone\u001b[0m, \u001b[3;35mNone\u001b[0m\u001b[1m]\u001b[0m\u001b[1m}\u001b[0m\u001b[1m}\u001b[0m\n"
      ]
     },
     "metadata": {},
     "output_type": "display_data"
    },
    {
     "data": {
      "text/html": [
       "<pre style=\"white-space:pre;overflow-x:auto;line-height:normal;font-family:Menlo,'DejaVu Sans Mono',consolas,'Courier New',monospace\"><span style=\"font-weight: bold\">{</span><span style=\"color: #008000; text-decoration-color: #008000\">'Data'</span>: <span style=\"font-weight: bold\">{</span><span style=\"color: #008000; text-decoration-color: #008000\">'id'</span>: <span style=\"color: #008080; text-decoration-color: #008080; font-weight: bold\">6</span>, <span style=\"color: #008000; text-decoration-color: #008000\">'a_int_list'</span>: <span style=\"color: #800080; text-decoration-color: #800080; font-style: italic\">None</span><span style=\"font-weight: bold\">}}</span>\n",
       "</pre>\n"
      ],
      "text/plain": [
       "\u001b[1m{\u001b[0m\u001b[32m'Data'\u001b[0m: \u001b[1m{\u001b[0m\u001b[32m'id'\u001b[0m: \u001b[1;36m6\u001b[0m, \u001b[32m'a_int_list'\u001b[0m: \u001b[3;35mNone\u001b[0m\u001b[1m}\u001b[0m\u001b[1m}\u001b[0m\n"
      ]
     },
     "metadata": {},
     "output_type": "display_data"
    }
   ],
   "source": [
    "df = pl.DataFrame(\n",
    "    [\n",
    "        {\"Data\": {\"id\": 1, \"a_int_list\": [1, 2]}},\n",
    "        {\"Data\": {\"id\": 2, \"a_int_list\": [1, None]}},\n",
    "        {\"Data\": {\"id\": 3, \"a_int_list\": [\"1\", 2]}},\n",
    "        {\"Data\": {\"id\": 4, \"a_int_list\": [\"alice\", 2]}},\n",
    "        {\"Data\": {\"id\": 5, \"a_int_list\": [None, None]}},\n",
    "        {\"Data\": {\"id\": 6, \"a_int_list\": None}},\n",
    "    ],\n",
    "    schema={\n",
    "        \"Data\": pl.Struct({\n",
    "            \"id\": pl.Int64(),\n",
    "            \"a_int_list\": pl.List(pl.Int64())\n",
    "        }),\n",
    "    },\n",
    "    strict=False,\n",
    ")\n",
    "print_df(df)"
   ]
  },
  {
   "cell_type": "markdown",
   "id": "e02d38e1-1b45-4229-803b-b65f49ef208a",
   "metadata": {},
   "source": [
    "**结论**\n",
    "\n",
    "只要你定义了 Schema 并且 strict 模式是 False, 那么它是一定会将数据加载到 DataFrame 中的. 换言之, 数据类型不对的数据会自动被清洗掉."
   ]
  },
  {
   "cell_type": "markdown",
   "id": "1ea69cca-cee0-4653-806f-b2d0df26c223",
   "metadata": {},
   "source": [
    "### Serialization 的可能性\n",
    "\n",
    "在这个例子中, 我们的 DynamoDB 数据中 id 是 hash key, name 是 nullable 的 普通 attribute. \n",
    "\n",
    "考虑如下两个 Python 中的字典数据:\n",
    " \n",
    "1. ``{\"id\": 1, \"name\": \"Alice\"}``\n",
    "2. ``{\"id\": 1, \"name\": None}``. \n",
    "\n",
    "这两种情况下对应的 DynamoDB 是不同的, 分别是:\n",
    " \n",
    "1. ``{\"id\": {\"N\": \"1\"}, \"name\": {\"S\": \"Alice\"}}``\n",
    "2. ``{\"id\": {\"N\": \"1\"}, \"name\": {\"NULL\": True}}``, 或者是 ``{\"id\": {\"N\": \"1\"}`` (压根没有这个 Attribute)\n",
    "\n",
    "注意, ``{\"name\": None}`` 这不是一个合法的 DynamoDB Json, 你把这个数据发给 DynamoDB API 会报错的.\n",
    "\n",
    "而在 polars 中对于 Map 类型是不支持 Dynamic Mapping 的, 因为允许不同的 Key 会导致无法预测数据类型, 向量化计算也就无法进行了. 我们期待 name 既可以对应 ``{\"S\": \"Alice\"}`` 又可以是 ``{\"NULL\": True}``, **而这是不被允许的**. 如果你尝试用 ``pl.when(...).then(...).otherwise(...)`` 来实现就会发现不管 name 是什么值, 它的输出永远同时包含 ``{\"name\": {\"S\": ..., \"NULL\": ...}}`` 两个 key. 这是因为 [polars.when](https://docs.pola.rs/api/python/stable/reference/expressions/api/polars.when.html) 永远会 evaluate then 和 otherwise 两个语句中的值, 然后之后再进行过滤, 所以返回的 struct 里永远有两个 key. 这样就导致你是不可能用 polars 来将普通 Python 字典转换为 DynamoDB 的数据格式的."
   ]
  },
  {
   "cell_type": "code",
   "execution_count": 68,
   "id": "0081feef-446d-45e8-9b94-1e6d0d351a11",
   "metadata": {
    "ExecuteTime": {
     "end_time": "2024-08-07T03:55:52.633250Z",
     "start_time": "2024-08-07T03:55:52.598898Z"
    }
   },
   "outputs": [
    {
     "data": {
      "text/html": [
       "<pre style=\"white-space:pre;overflow-x:auto;line-height:normal;font-family:Menlo,'DejaVu Sans Mono',consolas,'Courier New',monospace\"><span style=\"font-weight: bold\">[{</span><span style=\"color: #008000; text-decoration-color: #008000\">'Data'</span>: <span style=\"font-weight: bold\">{</span><span style=\"color: #008000; text-decoration-color: #008000\">'id'</span>: <span style=\"color: #008080; text-decoration-color: #008080; font-weight: bold\">1</span>, <span style=\"color: #008000; text-decoration-color: #008000\">'name'</span>: <span style=\"color: #008000; text-decoration-color: #008000\">'Alice'</span><span style=\"font-weight: bold\">}}</span>, <span style=\"font-weight: bold\">{</span><span style=\"color: #008000; text-decoration-color: #008000\">'Data'</span>: <span style=\"font-weight: bold\">{</span><span style=\"color: #008000; text-decoration-color: #008000\">'id'</span>: <span style=\"color: #008080; text-decoration-color: #008080; font-weight: bold\">2</span>, <span style=\"color: #008000; text-decoration-color: #008000\">'name'</span>: <span style=\"color: #800080; text-decoration-color: #800080; font-style: italic\">None</span><span style=\"font-weight: bold\">}}]</span>\n",
       "</pre>\n"
      ],
      "text/plain": [
       "\u001b[1m[\u001b[0m\u001b[1m{\u001b[0m\u001b[32m'Data'\u001b[0m: \u001b[1m{\u001b[0m\u001b[32m'id'\u001b[0m: \u001b[1;36m1\u001b[0m, \u001b[32m'name'\u001b[0m: \u001b[32m'Alice'\u001b[0m\u001b[1m}\u001b[0m\u001b[1m}\u001b[0m, \u001b[1m{\u001b[0m\u001b[32m'Data'\u001b[0m: \u001b[1m{\u001b[0m\u001b[32m'id'\u001b[0m: \u001b[1;36m2\u001b[0m, \u001b[32m'name'\u001b[0m: \u001b[3;35mNone\u001b[0m\u001b[1m}\u001b[0m\u001b[1m}\u001b[0m\u001b[1m]\u001b[0m\n"
      ]
     },
     "metadata": {},
     "output_type": "display_data"
    }
   ],
   "source": [
    "df = pl.DataFrame(\n",
    "    [\n",
    "        {\"Data\": {\"id\": 1, \"name\": \"Alice\"}},\n",
    "        {\"Data\": {\"id\": 2, \"name\": None}},\n",
    "    ],\n",
    "    schema={\n",
    "        \"Data\": pl.Struct({\n",
    "            \"id\": pl.Int64(),\n",
    "            \"name\": pl.Utf8(),\n",
    "        }),\n",
    "    },\n",
    ")\n",
    "records = df.to_dicts()\n",
    "rprint(records)"
   ]
  },
  {
   "cell_type": "code",
   "execution_count": 69,
   "id": "6b5117dd-ad81-41c0-a025-084c8a246b28",
   "metadata": {
    "ExecuteTime": {
     "end_time": "2024-08-07T02:28:01.141568Z",
     "start_time": "2024-08-07T02:28:01.138202Z"
    }
   },
   "outputs": [
    {
     "data": {
      "text/html": [
       "<pre style=\"white-space:pre;overflow-x:auto;line-height:normal;font-family:Menlo,'DejaVu Sans Mono',consolas,'Courier New',monospace\"><span style=\"font-weight: bold\">[{</span><span style=\"color: #008000; text-decoration-color: #008000\">'id'</span>: <span style=\"font-weight: bold\">{</span><span style=\"color: #008000; text-decoration-color: #008000\">'NULL'</span>: <span style=\"color: #800080; text-decoration-color: #800080; font-style: italic\">None</span>, <span style=\"color: #008000; text-decoration-color: #008000\">'N'</span>: <span style=\"color: #008000; text-decoration-color: #008000\">'Alice'</span><span style=\"font-weight: bold\">}}</span>, <span style=\"font-weight: bold\">{</span><span style=\"color: #008000; text-decoration-color: #008000\">'id'</span>: <span style=\"font-weight: bold\">{</span><span style=\"color: #008000; text-decoration-color: #008000\">'NULL'</span>: <span style=\"color: #00ff00; text-decoration-color: #00ff00; font-style: italic\">True</span>, <span style=\"color: #008000; text-decoration-color: #008000\">'N'</span>: <span style=\"color: #800080; text-decoration-color: #800080; font-style: italic\">None</span><span style=\"font-weight: bold\">}}]</span>\n",
       "</pre>\n"
      ],
      "text/plain": [
       "\u001b[1m[\u001b[0m\u001b[1m{\u001b[0m\u001b[32m'id'\u001b[0m: \u001b[1m{\u001b[0m\u001b[32m'NULL'\u001b[0m: \u001b[3;35mNone\u001b[0m, \u001b[32m'N'\u001b[0m: \u001b[32m'Alice'\u001b[0m\u001b[1m}\u001b[0m\u001b[1m}\u001b[0m, \u001b[1m{\u001b[0m\u001b[32m'id'\u001b[0m: \u001b[1m{\u001b[0m\u001b[32m'NULL'\u001b[0m: \u001b[3;92mTrue\u001b[0m, \u001b[32m'N'\u001b[0m: \u001b[3;35mNone\u001b[0m\u001b[1m}\u001b[0m\u001b[1m}\u001b[0m\u001b[1m]\u001b[0m\n"
      ]
     },
     "metadata": {},
     "output_type": "display_data"
    }
   ],
   "source": [
    "# this is not working\n",
    "records = df.select(\n",
    "    (\n",
    "        pl.when(pl.col(\"Data\").struct.field(\"name\").is_null())\n",
    "        .then(\n",
    "            pl.struct(pl.lit(True).alias(\"NULL\"))\n",
    "        )\n",
    "        .otherwise(\n",
    "            pl.struct(pl.col(\"Data\").struct.field(\"name\").alias(\"N\"))\n",
    "        )\n",
    "        .alias(\"id\")\n",
    "    ),\n",
    ").to_dicts()\n",
    "rprint(records)"
   ]
  },
  {
   "cell_type": "code",
   "execution_count": 70,
   "id": "ae1fe7f18ab94fc9",
   "metadata": {
    "ExecuteTime": {
     "end_time": "2024-08-07T02:17:50.725190Z",
     "start_time": "2024-08-07T02:17:50.722639Z"
    },
    "collapsed": false,
    "jupyter": {
     "outputs_hidden": false
    }
   },
   "outputs": [
    {
     "data": {
      "text/html": [
       "<pre style=\"white-space:pre;overflow-x:auto;line-height:normal;font-family:Menlo,'DejaVu Sans Mono',consolas,'Courier New',monospace\"><span style=\"font-weight: bold\">[{</span><span style=\"color: #008000; text-decoration-color: #008000\">'id'</span>: <span style=\"font-weight: bold\">{</span><span style=\"color: #008000; text-decoration-color: #008000\">'S'</span>: <span style=\"color: #008000; text-decoration-color: #008000\">'Alice'</span><span style=\"font-weight: bold\">}}</span>, <span style=\"font-weight: bold\">{</span><span style=\"color: #008000; text-decoration-color: #008000\">'id'</span>: <span style=\"font-weight: bold\">{</span><span style=\"color: #008000; text-decoration-color: #008000\">'S'</span>: <span style=\"color: #800080; text-decoration-color: #800080; font-style: italic\">None</span><span style=\"font-weight: bold\">}}]</span>\n",
       "</pre>\n"
      ],
      "text/plain": [
       "\u001b[1m[\u001b[0m\u001b[1m{\u001b[0m\u001b[32m'id'\u001b[0m: \u001b[1m{\u001b[0m\u001b[32m'S'\u001b[0m: \u001b[32m'Alice'\u001b[0m\u001b[1m}\u001b[0m\u001b[1m}\u001b[0m, \u001b[1m{\u001b[0m\u001b[32m'id'\u001b[0m: \u001b[1m{\u001b[0m\u001b[32m'S'\u001b[0m: \u001b[3;35mNone\u001b[0m\u001b[1m}\u001b[0m\u001b[1m}\u001b[0m\u001b[1m]\u001b[0m\n"
      ]
     },
     "metadata": {},
     "output_type": "display_data"
    }
   ],
   "source": [
    "# this is not working too\n",
    "records = df.select(\n",
    "    (\n",
    "        pl.when(pl.col(\"Data\").struct.field(\"name\").is_null())\n",
    "        .then(\n",
    "            pl.lit(None)\n",
    "        )\n",
    "        .otherwise(\n",
    "            pl.struct(pl.col(\"Data\").struct.field(\"name\").alias(\"S\"))\n",
    "        )\n",
    "        .alias(\"id\")\n",
    "    ),\n",
    ").to_dicts()\n",
    "rprint(records)"
   ]
  },
  {
   "cell_type": "markdown",
   "id": "4f7d200cbf56653f",
   "metadata": {
    "collapsed": false,
    "jupyter": {
     "outputs_hidden": false
    }
   },
   "source": [
    "上面的现象的原因是当你 select 的时候, 如果某个 column 你将其定义为一个 ``pl.Struct({\"key\": pl.DataType()})``, 那么当这个 key 的值找不到的时候, 它会返回一个 ``{\"key\": None}`` 而不是一个完整的 None.\n",
    "\n",
    "**结论**\n",
    "\n",
    "你想要根据 name 的值的不同, 在有值的时候返回 ``{\"S\": \"alice\"}`` 没有值的时候返回 ``{\"NULL\": True}`` 是无法用 polars 做到的.\n",
    "\n",
    "**一点小思路**\n",
    "\n",
    "我们可以通过一些小的技巧来绕开这个问题. 例如你可以为你的每个 field 定义一个 \"fill null value\". 比如如果 name 是 string, 没有值的话就填 \"UNKNOWN NAME\", 如果是一个 list field 就填空列表 ``[]``. 这样就能保证你在 convert 的时候都能成功了.\n",
    "\n",
    "从应用场景来看, 将普通字典批量转化成 DynamoDB json 只有一个应用场景, 就是手动构造大量数据, 然后用 import table 的功能从数据文件中创建一个新表, 这样做比你创建表之后 batch insert 要快得多也要便宜的多.\n",
    "\n",
    "下面我们给出了一个例子."
   ]
  },
  {
   "cell_type": "code",
   "execution_count": 71,
   "id": "efe5969619177237",
   "metadata": {
    "ExecuteTime": {
     "end_time": "2024-08-07T02:24:16.549691Z",
     "start_time": "2024-08-07T02:24:16.543500Z"
    },
    "collapsed": false,
    "jupyter": {
     "outputs_hidden": false
    }
   },
   "outputs": [
    {
     "data": {
      "text/html": [
       "<pre style=\"white-space:pre;overflow-x:auto;line-height:normal;font-family:Menlo,'DejaVu Sans Mono',consolas,'Courier New',monospace\"><span style=\"font-weight: bold\">[{</span><span style=\"color: #008000; text-decoration-color: #008000\">'id'</span>: <span style=\"font-weight: bold\">{</span><span style=\"color: #008000; text-decoration-color: #008000\">'N'</span>: <span style=\"color: #008000; text-decoration-color: #008000\">'1'</span><span style=\"font-weight: bold\">}</span>, <span style=\"color: #008000; text-decoration-color: #008000\">'name'</span>: <span style=\"font-weight: bold\">{</span><span style=\"color: #008000; text-decoration-color: #008000\">'S'</span>: <span style=\"color: #008000; text-decoration-color: #008000\">'Alice'</span><span style=\"font-weight: bold\">}}</span>, <span style=\"font-weight: bold\">{</span><span style=\"color: #008000; text-decoration-color: #008000\">'id'</span>: <span style=\"font-weight: bold\">{</span><span style=\"color: #008000; text-decoration-color: #008000\">'N'</span>: <span style=\"color: #008000; text-decoration-color: #008000\">'2'</span><span style=\"font-weight: bold\">}</span>, <span style=\"color: #008000; text-decoration-color: #008000\">'name'</span>: <span style=\"font-weight: bold\">{</span><span style=\"color: #008000; text-decoration-color: #008000\">'S'</span>: <span style=\"color: #008000; text-decoration-color: #008000\">'UNKNOWN NAME'</span><span style=\"font-weight: bold\">}}]</span>\n",
       "</pre>\n"
      ],
      "text/plain": [
       "\u001b[1m[\u001b[0m\u001b[1m{\u001b[0m\u001b[32m'id'\u001b[0m: \u001b[1m{\u001b[0m\u001b[32m'N'\u001b[0m: \u001b[32m'1'\u001b[0m\u001b[1m}\u001b[0m, \u001b[32m'name'\u001b[0m: \u001b[1m{\u001b[0m\u001b[32m'S'\u001b[0m: \u001b[32m'Alice'\u001b[0m\u001b[1m}\u001b[0m\u001b[1m}\u001b[0m, \u001b[1m{\u001b[0m\u001b[32m'id'\u001b[0m: \u001b[1m{\u001b[0m\u001b[32m'N'\u001b[0m: \u001b[32m'2'\u001b[0m\u001b[1m}\u001b[0m, \u001b[32m'name'\u001b[0m: \u001b[1m{\u001b[0m\u001b[32m'S'\u001b[0m: \u001b[32m'UNKNOWN NAME'\u001b[0m\u001b[1m}\u001b[0m\u001b[1m}\u001b[0m\u001b[1m]\u001b[0m\n"
      ]
     },
     "metadata": {},
     "output_type": "display_data"
    }
   ],
   "source": [
    "df = pl.DataFrame(\n",
    "    [\n",
    "        {\"Data\": {\"id\": 1, \"name\": \"Alice\"}},\n",
    "        {\"Data\": {\"id\": 2, \"name\": None}},\n",
    "    ],\n",
    "    schema={\n",
    "        \"Data\": pl.Struct({\n",
    "            \"id\": pl.Int64(),\n",
    "            \"name\": pl.Utf8(),\n",
    "        }),\n",
    "    },\n",
    ")\n",
    "records = df.select(\n",
    "    pl.struct(\n",
    "        pl.col(\"Data\").struct.field(\"id\").fill_null(-999).cast(pl.Utf8).alias(\"N\")\n",
    "    ).alias(\"id\"),\n",
    "    pl.struct(\n",
    "        pl.col(\"Data\").struct.field(\"name\").fill_null(\"UNKNOWN NAME\").alias(\"S\")\n",
    "    ).alias(\"name\"),\n",
    ").to_dicts()\n",
    "rprint(records)"
   ]
  },
  {
   "cell_type": "markdown",
   "id": "f7bdc88c-9150-4738-8270-d7f0046d8315",
   "metadata": {},
   "source": [
    "### Fill Null\n",
    "\n",
    "上一节提到, 实现 Serialization 的关键技巧就是 fill null value. 下面的例子测试了各种 fill null value 的情况."
   ]
  },
  {
   "cell_type": "code",
   "execution_count": 72,
   "id": "32d115fd-100b-499b-bbc1-3f543d378ee2",
   "metadata": {},
   "outputs": [
    {
     "name": "stdout",
     "output_type": "stream",
     "text": [
      "-------------------- schema --------------------\n"
     ]
    },
    {
     "data": {
      "text/html": [
       "<pre style=\"white-space:pre;overflow-x:auto;line-height:normal;font-family:Menlo,'DejaVu Sans Mono',consolas,'Courier New',monospace\"><span style=\"color: #800080; text-decoration-color: #800080; font-weight: bold\">Schema</span><span style=\"font-weight: bold\">([(</span><span style=\"color: #008000; text-decoration-color: #008000\">'Json'</span>, <span style=\"color: #800080; text-decoration-color: #800080; font-weight: bold\">Struct</span><span style=\"font-weight: bold\">({</span><span style=\"color: #008000; text-decoration-color: #008000\">'a_int'</span>: Int64, <span style=\"color: #008000; text-decoration-color: #008000\">'a_str_list'</span>: <span style=\"color: #800080; text-decoration-color: #800080; font-weight: bold\">List</span><span style=\"font-weight: bold\">(</span>String<span style=\"font-weight: bold\">)</span>, <span style=\"color: #008000; text-decoration-color: #008000\">'a_struct'</span>: <span style=\"color: #800080; text-decoration-color: #800080; font-weight: bold\">Struct</span><span style=\"font-weight: bold\">({</span><span style=\"color: #008000; text-decoration-color: #008000\">'id'</span>: Int64<span style=\"font-weight: bold\">})}))])</span>\n",
       "</pre>\n"
      ],
      "text/plain": [
       "\u001b[1;35mSchema\u001b[0m\u001b[1m(\u001b[0m\u001b[1m[\u001b[0m\u001b[1m(\u001b[0m\u001b[32m'Json'\u001b[0m, \u001b[1;35mStruct\u001b[0m\u001b[1m(\u001b[0m\u001b[1m{\u001b[0m\u001b[32m'a_int'\u001b[0m: Int64, \u001b[32m'a_str_list'\u001b[0m: \u001b[1;35mList\u001b[0m\u001b[1m(\u001b[0mString\u001b[1m)\u001b[0m, \u001b[32m'a_struct'\u001b[0m: \u001b[1;35mStruct\u001b[0m\u001b[1m(\u001b[0m\u001b[1m{\u001b[0m\u001b[32m'id'\u001b[0m: Int64\u001b[1m}\u001b[0m\u001b[1m)\u001b[0m\u001b[1m}\u001b[0m\u001b[1m)\u001b[0m\u001b[1m)\u001b[0m\u001b[1m]\u001b[0m\u001b[1m)\u001b[0m\n"
      ]
     },
     "metadata": {},
     "output_type": "display_data"
    },
    {
     "name": "stdout",
     "output_type": "stream",
     "text": [
      "-------------------- df records --------------------\n"
     ]
    },
    {
     "data": {
      "text/html": [
       "<pre style=\"white-space:pre;overflow-x:auto;line-height:normal;font-family:Menlo,'DejaVu Sans Mono',consolas,'Courier New',monospace\"><span style=\"font-weight: bold\">{</span><span style=\"color: #008000; text-decoration-color: #008000\">'Json'</span>: <span style=\"font-weight: bold\">{</span><span style=\"color: #008000; text-decoration-color: #008000\">'a_int'</span>: <span style=\"color: #008080; text-decoration-color: #008080; font-weight: bold\">123</span>, <span style=\"color: #008000; text-decoration-color: #008000\">'a_str_list'</span>: <span style=\"font-weight: bold\">[</span><span style=\"color: #008000; text-decoration-color: #008000\">'a'</span>, <span style=\"color: #008000; text-decoration-color: #008000\">'b'</span>, <span style=\"color: #008000; text-decoration-color: #008000\">'c'</span><span style=\"font-weight: bold\">]</span>, <span style=\"color: #008000; text-decoration-color: #008000\">'a_struct'</span>: <span style=\"font-weight: bold\">{</span><span style=\"color: #008000; text-decoration-color: #008000\">'id'</span>: <span style=\"color: #008080; text-decoration-color: #008080; font-weight: bold\">1</span><span style=\"font-weight: bold\">}}}</span>\n",
       "</pre>\n"
      ],
      "text/plain": [
       "\u001b[1m{\u001b[0m\u001b[32m'Json'\u001b[0m: \u001b[1m{\u001b[0m\u001b[32m'a_int'\u001b[0m: \u001b[1;36m123\u001b[0m, \u001b[32m'a_str_list'\u001b[0m: \u001b[1m[\u001b[0m\u001b[32m'a'\u001b[0m, \u001b[32m'b'\u001b[0m, \u001b[32m'c'\u001b[0m\u001b[1m]\u001b[0m, \u001b[32m'a_struct'\u001b[0m: \u001b[1m{\u001b[0m\u001b[32m'id'\u001b[0m: \u001b[1;36m1\u001b[0m\u001b[1m}\u001b[0m\u001b[1m}\u001b[0m\u001b[1m}\u001b[0m\n"
      ]
     },
     "metadata": {},
     "output_type": "display_data"
    },
    {
     "data": {
      "text/html": [
       "<pre style=\"white-space:pre;overflow-x:auto;line-height:normal;font-family:Menlo,'DejaVu Sans Mono',consolas,'Courier New',monospace\"><span style=\"font-weight: bold\">{</span><span style=\"color: #008000; text-decoration-color: #008000\">'Json'</span>: <span style=\"font-weight: bold\">{</span><span style=\"color: #008000; text-decoration-color: #008000\">'a_int'</span>: <span style=\"color: #800080; text-decoration-color: #800080; font-style: italic\">None</span>, <span style=\"color: #008000; text-decoration-color: #008000\">'a_str_list'</span>: <span style=\"color: #800080; text-decoration-color: #800080; font-style: italic\">None</span>, <span style=\"color: #008000; text-decoration-color: #008000\">'a_struct'</span>: <span style=\"color: #800080; text-decoration-color: #800080; font-style: italic\">None</span><span style=\"font-weight: bold\">}}</span>\n",
       "</pre>\n"
      ],
      "text/plain": [
       "\u001b[1m{\u001b[0m\u001b[32m'Json'\u001b[0m: \u001b[1m{\u001b[0m\u001b[32m'a_int'\u001b[0m: \u001b[3;35mNone\u001b[0m, \u001b[32m'a_str_list'\u001b[0m: \u001b[3;35mNone\u001b[0m, \u001b[32m'a_struct'\u001b[0m: \u001b[3;35mNone\u001b[0m\u001b[1m}\u001b[0m\u001b[1m}\u001b[0m\n"
      ]
     },
     "metadata": {},
     "output_type": "display_data"
    },
    {
     "name": "stdout",
     "output_type": "stream",
     "text": [
      "-------------------- schema --------------------\n"
     ]
    },
    {
     "data": {
      "text/html": [
       "<pre style=\"white-space:pre;overflow-x:auto;line-height:normal;font-family:Menlo,'DejaVu Sans Mono',consolas,'Courier New',monospace\"><span style=\"color: #800080; text-decoration-color: #800080; font-weight: bold\">Schema</span><span style=\"font-weight: bold\">([(</span><span style=\"color: #008000; text-decoration-color: #008000\">'Json'</span>, <span style=\"color: #800080; text-decoration-color: #800080; font-weight: bold\">Struct</span><span style=\"font-weight: bold\">({</span><span style=\"color: #008000; text-decoration-color: #008000\">'a_int'</span>: Int64, <span style=\"color: #008000; text-decoration-color: #008000\">'a_str_list'</span>: <span style=\"color: #800080; text-decoration-color: #800080; font-weight: bold\">List</span><span style=\"font-weight: bold\">(</span>String<span style=\"font-weight: bold\">)</span>, <span style=\"color: #008000; text-decoration-color: #008000\">'a_struct'</span>: <span style=\"color: #800080; text-decoration-color: #800080; font-weight: bold\">Struct</span><span style=\"font-weight: bold\">({</span><span style=\"color: #008000; text-decoration-color: #008000\">'id'</span>: Int64<span style=\"font-weight: bold\">})}))])</span>\n",
       "</pre>\n"
      ],
      "text/plain": [
       "\u001b[1;35mSchema\u001b[0m\u001b[1m(\u001b[0m\u001b[1m[\u001b[0m\u001b[1m(\u001b[0m\u001b[32m'Json'\u001b[0m, \u001b[1;35mStruct\u001b[0m\u001b[1m(\u001b[0m\u001b[1m{\u001b[0m\u001b[32m'a_int'\u001b[0m: Int64, \u001b[32m'a_str_list'\u001b[0m: \u001b[1;35mList\u001b[0m\u001b[1m(\u001b[0mString\u001b[1m)\u001b[0m, \u001b[32m'a_struct'\u001b[0m: \u001b[1;35mStruct\u001b[0m\u001b[1m(\u001b[0m\u001b[1m{\u001b[0m\u001b[32m'id'\u001b[0m: Int64\u001b[1m}\u001b[0m\u001b[1m)\u001b[0m\u001b[1m}\u001b[0m\u001b[1m)\u001b[0m\u001b[1m)\u001b[0m\u001b[1m]\u001b[0m\u001b[1m)\u001b[0m\n"
      ]
     },
     "metadata": {},
     "output_type": "display_data"
    },
    {
     "name": "stdout",
     "output_type": "stream",
     "text": [
      "-------------------- df records --------------------\n"
     ]
    },
    {
     "data": {
      "text/html": [
       "<pre style=\"white-space:pre;overflow-x:auto;line-height:normal;font-family:Menlo,'DejaVu Sans Mono',consolas,'Courier New',monospace\"><span style=\"font-weight: bold\">{</span><span style=\"color: #008000; text-decoration-color: #008000\">'Json'</span>: <span style=\"font-weight: bold\">{</span><span style=\"color: #008000; text-decoration-color: #008000\">'a_int'</span>: <span style=\"color: #008080; text-decoration-color: #008080; font-weight: bold\">123</span>, <span style=\"color: #008000; text-decoration-color: #008000\">'a_str_list'</span>: <span style=\"font-weight: bold\">[</span><span style=\"color: #008000; text-decoration-color: #008000\">'a'</span>, <span style=\"color: #008000; text-decoration-color: #008000\">'b'</span>, <span style=\"color: #008000; text-decoration-color: #008000\">'c'</span><span style=\"font-weight: bold\">]</span>, <span style=\"color: #008000; text-decoration-color: #008000\">'a_struct'</span>: <span style=\"font-weight: bold\">{</span><span style=\"color: #008000; text-decoration-color: #008000\">'id'</span>: <span style=\"color: #008080; text-decoration-color: #008080; font-weight: bold\">1</span><span style=\"font-weight: bold\">}}}</span>\n",
       "</pre>\n"
      ],
      "text/plain": [
       "\u001b[1m{\u001b[0m\u001b[32m'Json'\u001b[0m: \u001b[1m{\u001b[0m\u001b[32m'a_int'\u001b[0m: \u001b[1;36m123\u001b[0m, \u001b[32m'a_str_list'\u001b[0m: \u001b[1m[\u001b[0m\u001b[32m'a'\u001b[0m, \u001b[32m'b'\u001b[0m, \u001b[32m'c'\u001b[0m\u001b[1m]\u001b[0m, \u001b[32m'a_struct'\u001b[0m: \u001b[1m{\u001b[0m\u001b[32m'id'\u001b[0m: \u001b[1;36m1\u001b[0m\u001b[1m}\u001b[0m\u001b[1m}\u001b[0m\u001b[1m}\u001b[0m\n"
      ]
     },
     "metadata": {},
     "output_type": "display_data"
    },
    {
     "data": {
      "text/html": [
       "<pre style=\"white-space:pre;overflow-x:auto;line-height:normal;font-family:Menlo,'DejaVu Sans Mono',consolas,'Courier New',monospace\"><span style=\"font-weight: bold\">{</span><span style=\"color: #008000; text-decoration-color: #008000\">'Json'</span>: <span style=\"font-weight: bold\">{</span><span style=\"color: #008000; text-decoration-color: #008000\">'a_int'</span>: <span style=\"color: #008080; text-decoration-color: #008080; font-weight: bold\">-999</span>, <span style=\"color: #008000; text-decoration-color: #008000\">'a_str_list'</span>: <span style=\"font-weight: bold\">[]</span>, <span style=\"color: #008000; text-decoration-color: #008000\">'a_struct'</span>: <span style=\"font-weight: bold\">{</span><span style=\"color: #008000; text-decoration-color: #008000\">'id'</span>: <span style=\"color: #800080; text-decoration-color: #800080; font-style: italic\">None</span><span style=\"font-weight: bold\">}}}</span>\n",
       "</pre>\n"
      ],
      "text/plain": [
       "\u001b[1m{\u001b[0m\u001b[32m'Json'\u001b[0m: \u001b[1m{\u001b[0m\u001b[32m'a_int'\u001b[0m: \u001b[1;36m-999\u001b[0m, \u001b[32m'a_str_list'\u001b[0m: \u001b[1m[\u001b[0m\u001b[1m]\u001b[0m, \u001b[32m'a_struct'\u001b[0m: \u001b[1m{\u001b[0m\u001b[32m'id'\u001b[0m: \u001b[3;35mNone\u001b[0m\u001b[1m}\u001b[0m\u001b[1m}\u001b[0m\u001b[1m}\u001b[0m\n"
      ]
     },
     "metadata": {},
     "output_type": "display_data"
    }
   ],
   "source": [
    "df = pl.DataFrame(\n",
    "    [\n",
    "        {\"Json\": {\"a_int\": 123, \"a_str_list\": [\"a\", \"b\", \"c\"], \"a_struct\": {\"id\": 1}}},\n",
    "        {\"Json\": {\"a_int\": None, \"a_str_list\": None, \"a_struct\": None}},\n",
    "    ],\n",
    "    schema={\n",
    "        \"Json\": pl.Struct({\n",
    "            \"a_int\": pl.Int64(),\n",
    "            \"a_str_list\": pl.List(pl.Utf8()),\n",
    "            \"a_struct\": pl.Struct({\n",
    "                \"id\": pl.Int64(),\n",
    "            }),\n",
    "        }),\n",
    "    },\n",
    ")\n",
    "print_df(df)\n",
    "\n",
    "df_res = df.select(\n",
    "    pl.struct(\n",
    "        pl.col(\"Json\").struct.field(\"a_int\").fill_null(-999).alias(\"a_int\"),\n",
    "        pl.col(\"Json\").struct.field(\"a_str_list\").fill_null([]).alias(\"a_str_list\"),\n",
    "        pl.col(\"Json\").struct.field(\"a_struct\").fill_null(pl.lit(None)).alias(\"a_struct\"),\n",
    "    ).alias(\"Json\")\n",
    ")\n",
    "print_df(df_res)"
   ]
  },
  {
   "cell_type": "markdown",
   "id": "4b0fdd8b-fb83-4ba4-a8d5-683604de8420",
   "metadata": {},
   "source": [
    "### Deserialize 时找不到值的问题\n",
    "\n",
    "Deserialize 的本质就是从 DynamoDB JSON 中提取值, 并对根据数据类型其进行转化. 但有的时候就会出现你无法提取值的情况. 本节就来好好研究在各种情况下 polars 的行为, 这样我们在实现 deserializer 的时候就能合理规避这些问题.\n",
    "\n",
    "在这个例子中, polars 通过 infer schema 自动推断出 a_int 的 schema 是 ``Struct({\"N\": Int64(), \"NULL\": \"Boolean\"})``, 所以我们的 ``Item.a_int.N`` 在 a_int 没有值时候能获得 None.\n"
   ]
  },
  {
   "cell_type": "code",
   "execution_count": 73,
   "id": "9ff44015-fba1-470f-85fc-0e3396651fcf",
   "metadata": {},
   "outputs": [
    {
     "name": "stdout",
     "output_type": "stream",
     "text": [
      "-------------------- schema --------------------\n"
     ]
    },
    {
     "data": {
      "text/html": [
       "<pre style=\"white-space:pre;overflow-x:auto;line-height:normal;font-family:Menlo,'DejaVu Sans Mono',consolas,'Courier New',monospace\"><span style=\"color: #800080; text-decoration-color: #800080; font-weight: bold\">Schema</span><span style=\"font-weight: bold\">([(</span><span style=\"color: #008000; text-decoration-color: #008000\">'Item'</span>, <span style=\"color: #800080; text-decoration-color: #800080; font-weight: bold\">Struct</span><span style=\"font-weight: bold\">({</span><span style=\"color: #008000; text-decoration-color: #008000\">'a_int'</span>: <span style=\"color: #800080; text-decoration-color: #800080; font-weight: bold\">Struct</span><span style=\"font-weight: bold\">({</span><span style=\"color: #008000; text-decoration-color: #008000\">'N'</span>: String, <span style=\"color: #008000; text-decoration-color: #008000\">'NULL'</span>: Boolean<span style=\"font-weight: bold\">})}))])</span>\n",
       "</pre>\n"
      ],
      "text/plain": [
       "\u001b[1;35mSchema\u001b[0m\u001b[1m(\u001b[0m\u001b[1m[\u001b[0m\u001b[1m(\u001b[0m\u001b[32m'Item'\u001b[0m, \u001b[1;35mStruct\u001b[0m\u001b[1m(\u001b[0m\u001b[1m{\u001b[0m\u001b[32m'a_int'\u001b[0m: \u001b[1;35mStruct\u001b[0m\u001b[1m(\u001b[0m\u001b[1m{\u001b[0m\u001b[32m'N'\u001b[0m: String, \u001b[32m'NULL'\u001b[0m: Boolean\u001b[1m}\u001b[0m\u001b[1m)\u001b[0m\u001b[1m}\u001b[0m\u001b[1m)\u001b[0m\u001b[1m)\u001b[0m\u001b[1m]\u001b[0m\u001b[1m)\u001b[0m\n"
      ]
     },
     "metadata": {},
     "output_type": "display_data"
    },
    {
     "name": "stdout",
     "output_type": "stream",
     "text": [
      "-------------------- df records --------------------\n"
     ]
    },
    {
     "data": {
      "text/html": [
       "<pre style=\"white-space:pre;overflow-x:auto;line-height:normal;font-family:Menlo,'DejaVu Sans Mono',consolas,'Courier New',monospace\"><span style=\"font-weight: bold\">{</span><span style=\"color: #008000; text-decoration-color: #008000\">'Item'</span>: <span style=\"font-weight: bold\">{</span><span style=\"color: #008000; text-decoration-color: #008000\">'a_int'</span>: <span style=\"font-weight: bold\">{</span><span style=\"color: #008000; text-decoration-color: #008000\">'N'</span>: <span style=\"color: #008000; text-decoration-color: #008000\">'1'</span>, <span style=\"color: #008000; text-decoration-color: #008000\">'NULL'</span>: <span style=\"color: #800080; text-decoration-color: #800080; font-style: italic\">None</span><span style=\"font-weight: bold\">}}}</span>\n",
       "</pre>\n"
      ],
      "text/plain": [
       "\u001b[1m{\u001b[0m\u001b[32m'Item'\u001b[0m: \u001b[1m{\u001b[0m\u001b[32m'a_int'\u001b[0m: \u001b[1m{\u001b[0m\u001b[32m'N'\u001b[0m: \u001b[32m'1'\u001b[0m, \u001b[32m'NULL'\u001b[0m: \u001b[3;35mNone\u001b[0m\u001b[1m}\u001b[0m\u001b[1m}\u001b[0m\u001b[1m}\u001b[0m\n"
      ]
     },
     "metadata": {},
     "output_type": "display_data"
    },
    {
     "data": {
      "text/html": [
       "<pre style=\"white-space:pre;overflow-x:auto;line-height:normal;font-family:Menlo,'DejaVu Sans Mono',consolas,'Courier New',monospace\"><span style=\"font-weight: bold\">{</span><span style=\"color: #008000; text-decoration-color: #008000\">'Item'</span>: <span style=\"font-weight: bold\">{</span><span style=\"color: #008000; text-decoration-color: #008000\">'a_int'</span>: <span style=\"font-weight: bold\">{</span><span style=\"color: #008000; text-decoration-color: #008000\">'N'</span>: <span style=\"color: #800080; text-decoration-color: #800080; font-style: italic\">None</span>, <span style=\"color: #008000; text-decoration-color: #008000\">'NULL'</span>: <span style=\"color: #00ff00; text-decoration-color: #00ff00; font-style: italic\">True</span><span style=\"font-weight: bold\">}}}</span>\n",
       "</pre>\n"
      ],
      "text/plain": [
       "\u001b[1m{\u001b[0m\u001b[32m'Item'\u001b[0m: \u001b[1m{\u001b[0m\u001b[32m'a_int'\u001b[0m: \u001b[1m{\u001b[0m\u001b[32m'N'\u001b[0m: \u001b[3;35mNone\u001b[0m, \u001b[32m'NULL'\u001b[0m: \u001b[3;92mTrue\u001b[0m\u001b[1m}\u001b[0m\u001b[1m}\u001b[0m\u001b[1m}\u001b[0m\n"
      ]
     },
     "metadata": {},
     "output_type": "display_data"
    },
    {
     "name": "stdout",
     "output_type": "stream",
     "text": [
      "-------------------- schema --------------------\n"
     ]
    },
    {
     "data": {
      "text/html": [
       "<pre style=\"white-space:pre;overflow-x:auto;line-height:normal;font-family:Menlo,'DejaVu Sans Mono',consolas,'Courier New',monospace\"><span style=\"color: #800080; text-decoration-color: #800080; font-weight: bold\">Schema</span><span style=\"font-weight: bold\">([(</span><span style=\"color: #008000; text-decoration-color: #008000\">'a_int'</span>, Int64<span style=\"font-weight: bold\">)])</span>\n",
       "</pre>\n"
      ],
      "text/plain": [
       "\u001b[1;35mSchema\u001b[0m\u001b[1m(\u001b[0m\u001b[1m[\u001b[0m\u001b[1m(\u001b[0m\u001b[32m'a_int'\u001b[0m, Int64\u001b[1m)\u001b[0m\u001b[1m]\u001b[0m\u001b[1m)\u001b[0m\n"
      ]
     },
     "metadata": {},
     "output_type": "display_data"
    },
    {
     "name": "stdout",
     "output_type": "stream",
     "text": [
      "-------------------- df records --------------------\n"
     ]
    },
    {
     "data": {
      "text/html": [
       "<pre style=\"white-space:pre;overflow-x:auto;line-height:normal;font-family:Menlo,'DejaVu Sans Mono',consolas,'Courier New',monospace\"><span style=\"font-weight: bold\">{</span><span style=\"color: #008000; text-decoration-color: #008000\">'a_int'</span>: <span style=\"color: #008080; text-decoration-color: #008080; font-weight: bold\">1</span><span style=\"font-weight: bold\">}</span>\n",
       "</pre>\n"
      ],
      "text/plain": [
       "\u001b[1m{\u001b[0m\u001b[32m'a_int'\u001b[0m: \u001b[1;36m1\u001b[0m\u001b[1m}\u001b[0m\n"
      ]
     },
     "metadata": {},
     "output_type": "display_data"
    },
    {
     "data": {
      "text/html": [
       "<pre style=\"white-space:pre;overflow-x:auto;line-height:normal;font-family:Menlo,'DejaVu Sans Mono',consolas,'Courier New',monospace\"><span style=\"font-weight: bold\">{</span><span style=\"color: #008000; text-decoration-color: #008000\">'a_int'</span>: <span style=\"color: #800080; text-decoration-color: #800080; font-style: italic\">None</span><span style=\"font-weight: bold\">}</span>\n",
       "</pre>\n"
      ],
      "text/plain": [
       "\u001b[1m{\u001b[0m\u001b[32m'a_int'\u001b[0m: \u001b[3;35mNone\u001b[0m\u001b[1m}\u001b[0m\n"
      ]
     },
     "metadata": {},
     "output_type": "display_data"
    }
   ],
   "source": [
    "df = pl.DataFrame(\n",
    "    [\n",
    "        {\"Item\": {\"a_int\": {\"N\": \"1\"}}},\n",
    "        {\"Item\": {\"a_int\": {\"NULL\": True}}},\n",
    "    ],\n",
    ")\n",
    "print_df(df)\n",
    "\n",
    "df_res = df.select(\n",
    "    pl.col(\"Item\").struct.field(\"a_int\").struct.field(\"N\").cast(pl.Int64).alias(\"a_int\")\n",
    ")\n",
    "print_df(df_res)"
   ]
  },
  {
   "cell_type": "markdown",
   "id": "8d6bbc0c-1bf2-4e46-ae10-c3ee42c137d1",
   "metadata": {},
   "source": [
    "在这个例子中就不行了. polars 无法访问没有在 schema 中被定义的值."
   ]
  },
  {
   "cell_type": "code",
   "execution_count": 74,
   "id": "aae01405180bfbf9",
   "metadata": {
    "ExecuteTime": {
     "end_time": "2024-08-07T04:12:06.934071Z",
     "start_time": "2024-08-07T04:12:06.909797Z"
    },
    "collapsed": false,
    "jupyter": {
     "outputs_hidden": false
    }
   },
   "outputs": [
    {
     "name": "stdout",
     "output_type": "stream",
     "text": [
      "-------------------- schema --------------------\n"
     ]
    },
    {
     "data": {
      "text/html": [
       "<pre style=\"white-space:pre;overflow-x:auto;line-height:normal;font-family:Menlo,'DejaVu Sans Mono',consolas,'Courier New',monospace\"><span style=\"color: #800080; text-decoration-color: #800080; font-weight: bold\">Schema</span><span style=\"font-weight: bold\">([(</span><span style=\"color: #008000; text-decoration-color: #008000\">'Json'</span>, <span style=\"color: #800080; text-decoration-color: #800080; font-weight: bold\">Struct</span><span style=\"font-weight: bold\">({</span><span style=\"color: #008000; text-decoration-color: #008000\">'a_int'</span>: <span style=\"color: #800080; text-decoration-color: #800080; font-weight: bold\">Struct</span><span style=\"font-weight: bold\">({</span><span style=\"color: #008000; text-decoration-color: #008000\">'NULL'</span>: Boolean<span style=\"font-weight: bold\">})}))])</span>\n",
       "</pre>\n"
      ],
      "text/plain": [
       "\u001b[1;35mSchema\u001b[0m\u001b[1m(\u001b[0m\u001b[1m[\u001b[0m\u001b[1m(\u001b[0m\u001b[32m'Json'\u001b[0m, \u001b[1;35mStruct\u001b[0m\u001b[1m(\u001b[0m\u001b[1m{\u001b[0m\u001b[32m'a_int'\u001b[0m: \u001b[1;35mStruct\u001b[0m\u001b[1m(\u001b[0m\u001b[1m{\u001b[0m\u001b[32m'NULL'\u001b[0m: Boolean\u001b[1m}\u001b[0m\u001b[1m)\u001b[0m\u001b[1m}\u001b[0m\u001b[1m)\u001b[0m\u001b[1m)\u001b[0m\u001b[1m]\u001b[0m\u001b[1m)\u001b[0m\n"
      ]
     },
     "metadata": {},
     "output_type": "display_data"
    },
    {
     "name": "stdout",
     "output_type": "stream",
     "text": [
      "-------------------- df records --------------------\n"
     ]
    },
    {
     "data": {
      "text/html": [
       "<pre style=\"white-space:pre;overflow-x:auto;line-height:normal;font-family:Menlo,'DejaVu Sans Mono',consolas,'Courier New',monospace\"><span style=\"font-weight: bold\">{</span><span style=\"color: #008000; text-decoration-color: #008000\">'Json'</span>: <span style=\"font-weight: bold\">{</span><span style=\"color: #008000; text-decoration-color: #008000\">'a_int'</span>: <span style=\"font-weight: bold\">{</span><span style=\"color: #008000; text-decoration-color: #008000\">'NULL'</span>: <span style=\"color: #00ff00; text-decoration-color: #00ff00; font-style: italic\">True</span><span style=\"font-weight: bold\">}}}</span>\n",
       "</pre>\n"
      ],
      "text/plain": [
       "\u001b[1m{\u001b[0m\u001b[32m'Json'\u001b[0m: \u001b[1m{\u001b[0m\u001b[32m'a_int'\u001b[0m: \u001b[1m{\u001b[0m\u001b[32m'NULL'\u001b[0m: \u001b[3;92mTrue\u001b[0m\u001b[1m}\u001b[0m\u001b[1m}\u001b[0m\u001b[1m}\u001b[0m\n"
      ]
     },
     "metadata": {},
     "output_type": "display_data"
    },
    {
     "name": "stdout",
     "output_type": "stream",
     "text": [
      "StructFieldNotFoundError('N')\n"
     ]
    }
   ],
   "source": [
    "df = pl.DataFrame(\n",
    "    [\n",
    "        {\"Json\": {\"a_int\": {\"NULL\": True}}},\n",
    "    ],\n",
    ")\n",
    "print_df(df)\n",
    "\n",
    "try:\n",
    "    df_res = df.select(\n",
    "        pl.col(\"Json\").struct.field(\"a_int\").struct.field(\"N\").cast(pl.Int64).alias(\"a_int\")\n",
    "    )\n",
    "    print_df(df_res)\n",
    "except Exception as e:\n",
    "    print(repr(e))"
   ]
  },
  {
   "cell_type": "markdown",
   "id": "1e4989843e06b214",
   "metadata": {
    "collapsed": false,
    "jupyter": {
     "outputs_hidden": false
    }
   },
   "source": [
    "正确的做法是显式地定义 schema, 这样 polars 就能正确地访问到值了."
   ]
  },
  {
   "cell_type": "code",
   "execution_count": 75,
   "id": "d8eb33cb4acc6f3f",
   "metadata": {
    "ExecuteTime": {
     "end_time": "2024-08-07T04:12:29.949571Z",
     "start_time": "2024-08-07T04:12:29.944762Z"
    },
    "collapsed": false,
    "jupyter": {
     "outputs_hidden": false
    }
   },
   "outputs": [
    {
     "name": "stdout",
     "output_type": "stream",
     "text": [
      "-------------------- schema --------------------\n"
     ]
    },
    {
     "data": {
      "text/html": [
       "<pre style=\"white-space:pre;overflow-x:auto;line-height:normal;font-family:Menlo,'DejaVu Sans Mono',consolas,'Courier New',monospace\"><span style=\"color: #800080; text-decoration-color: #800080; font-weight: bold\">Schema</span><span style=\"font-weight: bold\">([(</span><span style=\"color: #008000; text-decoration-color: #008000\">'Json'</span>, <span style=\"color: #800080; text-decoration-color: #800080; font-weight: bold\">Struct</span><span style=\"font-weight: bold\">({</span><span style=\"color: #008000; text-decoration-color: #008000\">'a_int'</span>: <span style=\"color: #800080; text-decoration-color: #800080; font-weight: bold\">Struct</span><span style=\"font-weight: bold\">({</span><span style=\"color: #008000; text-decoration-color: #008000\">'N'</span>: String<span style=\"font-weight: bold\">})}))])</span>\n",
       "</pre>\n"
      ],
      "text/plain": [
       "\u001b[1;35mSchema\u001b[0m\u001b[1m(\u001b[0m\u001b[1m[\u001b[0m\u001b[1m(\u001b[0m\u001b[32m'Json'\u001b[0m, \u001b[1;35mStruct\u001b[0m\u001b[1m(\u001b[0m\u001b[1m{\u001b[0m\u001b[32m'a_int'\u001b[0m: \u001b[1;35mStruct\u001b[0m\u001b[1m(\u001b[0m\u001b[1m{\u001b[0m\u001b[32m'N'\u001b[0m: String\u001b[1m}\u001b[0m\u001b[1m)\u001b[0m\u001b[1m}\u001b[0m\u001b[1m)\u001b[0m\u001b[1m)\u001b[0m\u001b[1m]\u001b[0m\u001b[1m)\u001b[0m\n"
      ]
     },
     "metadata": {},
     "output_type": "display_data"
    },
    {
     "name": "stdout",
     "output_type": "stream",
     "text": [
      "-------------------- df records --------------------\n"
     ]
    },
    {
     "data": {
      "text/html": [
       "<pre style=\"white-space:pre;overflow-x:auto;line-height:normal;font-family:Menlo,'DejaVu Sans Mono',consolas,'Courier New',monospace\"><span style=\"font-weight: bold\">{</span><span style=\"color: #008000; text-decoration-color: #008000\">'Json'</span>: <span style=\"font-weight: bold\">{</span><span style=\"color: #008000; text-decoration-color: #008000\">'a_int'</span>: <span style=\"font-weight: bold\">{</span><span style=\"color: #008000; text-decoration-color: #008000\">'N'</span>: <span style=\"color: #800080; text-decoration-color: #800080; font-style: italic\">None</span><span style=\"font-weight: bold\">}}}</span>\n",
       "</pre>\n"
      ],
      "text/plain": [
       "\u001b[1m{\u001b[0m\u001b[32m'Json'\u001b[0m: \u001b[1m{\u001b[0m\u001b[32m'a_int'\u001b[0m: \u001b[1m{\u001b[0m\u001b[32m'N'\u001b[0m: \u001b[3;35mNone\u001b[0m\u001b[1m}\u001b[0m\u001b[1m}\u001b[0m\u001b[1m}\u001b[0m\n"
      ]
     },
     "metadata": {},
     "output_type": "display_data"
    },
    {
     "name": "stdout",
     "output_type": "stream",
     "text": [
      "-------------------- schema --------------------\n"
     ]
    },
    {
     "data": {
      "text/html": [
       "<pre style=\"white-space:pre;overflow-x:auto;line-height:normal;font-family:Menlo,'DejaVu Sans Mono',consolas,'Courier New',monospace\"><span style=\"color: #800080; text-decoration-color: #800080; font-weight: bold\">Schema</span><span style=\"font-weight: bold\">([(</span><span style=\"color: #008000; text-decoration-color: #008000\">'a_int'</span>, Int64<span style=\"font-weight: bold\">)])</span>\n",
       "</pre>\n"
      ],
      "text/plain": [
       "\u001b[1;35mSchema\u001b[0m\u001b[1m(\u001b[0m\u001b[1m[\u001b[0m\u001b[1m(\u001b[0m\u001b[32m'a_int'\u001b[0m, Int64\u001b[1m)\u001b[0m\u001b[1m]\u001b[0m\u001b[1m)\u001b[0m\n"
      ]
     },
     "metadata": {},
     "output_type": "display_data"
    },
    {
     "name": "stdout",
     "output_type": "stream",
     "text": [
      "-------------------- df records --------------------\n"
     ]
    },
    {
     "data": {
      "text/html": [
       "<pre style=\"white-space:pre;overflow-x:auto;line-height:normal;font-family:Menlo,'DejaVu Sans Mono',consolas,'Courier New',monospace\"><span style=\"font-weight: bold\">{</span><span style=\"color: #008000; text-decoration-color: #008000\">'a_int'</span>: <span style=\"color: #800080; text-decoration-color: #800080; font-style: italic\">None</span><span style=\"font-weight: bold\">}</span>\n",
       "</pre>\n"
      ],
      "text/plain": [
       "\u001b[1m{\u001b[0m\u001b[32m'a_int'\u001b[0m: \u001b[3;35mNone\u001b[0m\u001b[1m}\u001b[0m\n"
      ]
     },
     "metadata": {},
     "output_type": "display_data"
    }
   ],
   "source": [
    "df = pl.DataFrame(\n",
    "    [\n",
    "        {\"Json\": {\"a_int\": {\"NULL\": True}}},\n",
    "    ],\n",
    "    schema={\n",
    "        \"Json\": pl.Struct({\n",
    "            \"a_int\": pl.Struct({\n",
    "                \"N\": pl.Utf8(),\n",
    "            }),\n",
    "        }),\n",
    "    },\n",
    ")\n",
    "print_df(df)\n",
    "\n",
    "df_res = df.select(\n",
    "    pl.col(\"Json\").struct.field(\"a_int\").struct.field(\"N\").cast(pl.Int64).alias(\"a_int\")\n",
    ")\n",
    "print_df(df_res)"
   ]
  },
  {
   "cell_type": "markdown",
   "id": "feffba1c5b198b1d",
   "metadata": {
    "collapsed": false,
    "jupyter": {
     "outputs_hidden": false
    }
   },
   "source": [
    "## Deserialize (DynamoDB JSON to Python Dict)"
   ]
  },
  {
   "cell_type": "markdown",
   "id": "b3dfc16e1644cff9",
   "metadata": {
    "collapsed": false,
    "jupyter": {
     "outputs_hidden": false
    }
   },
   "source": [
    "### Deserialize a List"
   ]
  },
  {
   "cell_type": "code",
   "execution_count": 76,
   "id": "e68febbc97db80b8",
   "metadata": {
    "ExecuteTime": {
     "end_time": "2024-08-07T14:27:51.274551Z",
     "start_time": "2024-08-07T14:27:51.266504Z"
    },
    "collapsed": false,
    "jupyter": {
     "outputs_hidden": false
    }
   },
   "outputs": [
    {
     "name": "stdout",
     "output_type": "stream",
     "text": [
      "-------------------- schema --------------------\n"
     ]
    },
    {
     "data": {
      "text/html": [
       "<pre style=\"white-space:pre;overflow-x:auto;line-height:normal;font-family:Menlo,'DejaVu Sans Mono',consolas,'Courier New',monospace\"><span style=\"color: #800080; text-decoration-color: #800080; font-weight: bold\">Schema</span><span style=\"font-weight: bold\">([(</span><span style=\"color: #008000; text-decoration-color: #008000\">'Item'</span>, <span style=\"color: #800080; text-decoration-color: #800080; font-weight: bold\">Struct</span><span style=\"font-weight: bold\">({</span><span style=\"color: #008000; text-decoration-color: #008000\">'a_int_list'</span>: <span style=\"color: #800080; text-decoration-color: #800080; font-weight: bold\">List</span><span style=\"font-weight: bold\">(</span><span style=\"color: #800080; text-decoration-color: #800080; font-weight: bold\">Struct</span><span style=\"font-weight: bold\">({</span><span style=\"color: #008000; text-decoration-color: #008000\">'N'</span>: String<span style=\"font-weight: bold\">}))}))])</span>\n",
       "</pre>\n"
      ],
      "text/plain": [
       "\u001b[1;35mSchema\u001b[0m\u001b[1m(\u001b[0m\u001b[1m[\u001b[0m\u001b[1m(\u001b[0m\u001b[32m'Item'\u001b[0m, \u001b[1;35mStruct\u001b[0m\u001b[1m(\u001b[0m\u001b[1m{\u001b[0m\u001b[32m'a_int_list'\u001b[0m: \u001b[1;35mList\u001b[0m\u001b[1m(\u001b[0m\u001b[1;35mStruct\u001b[0m\u001b[1m(\u001b[0m\u001b[1m{\u001b[0m\u001b[32m'N'\u001b[0m: String\u001b[1m}\u001b[0m\u001b[1m)\u001b[0m\u001b[1m)\u001b[0m\u001b[1m}\u001b[0m\u001b[1m)\u001b[0m\u001b[1m)\u001b[0m\u001b[1m]\u001b[0m\u001b[1m)\u001b[0m\n"
      ]
     },
     "metadata": {},
     "output_type": "display_data"
    },
    {
     "name": "stdout",
     "output_type": "stream",
     "text": [
      "-------------------- df records --------------------\n"
     ]
    },
    {
     "data": {
      "text/html": [
       "<pre style=\"white-space:pre;overflow-x:auto;line-height:normal;font-family:Menlo,'DejaVu Sans Mono',consolas,'Courier New',monospace\"><span style=\"font-weight: bold\">{</span><span style=\"color: #008000; text-decoration-color: #008000\">'Item'</span>: <span style=\"font-weight: bold\">{</span><span style=\"color: #008000; text-decoration-color: #008000\">'a_int_list'</span>: <span style=\"font-weight: bold\">[{</span><span style=\"color: #008000; text-decoration-color: #008000\">'N'</span>: <span style=\"color: #008000; text-decoration-color: #008000\">'1'</span><span style=\"font-weight: bold\">}</span>, <span style=\"font-weight: bold\">{</span><span style=\"color: #008000; text-decoration-color: #008000\">'N'</span>: <span style=\"color: #008000; text-decoration-color: #008000\">'2'</span><span style=\"font-weight: bold\">}</span>, <span style=\"font-weight: bold\">{</span><span style=\"color: #008000; text-decoration-color: #008000\">'N'</span>: <span style=\"color: #008000; text-decoration-color: #008000\">'3'</span><span style=\"font-weight: bold\">}]}}</span>\n",
       "</pre>\n"
      ],
      "text/plain": [
       "\u001b[1m{\u001b[0m\u001b[32m'Item'\u001b[0m: \u001b[1m{\u001b[0m\u001b[32m'a_int_list'\u001b[0m: \u001b[1m[\u001b[0m\u001b[1m{\u001b[0m\u001b[32m'N'\u001b[0m: \u001b[32m'1'\u001b[0m\u001b[1m}\u001b[0m, \u001b[1m{\u001b[0m\u001b[32m'N'\u001b[0m: \u001b[32m'2'\u001b[0m\u001b[1m}\u001b[0m, \u001b[1m{\u001b[0m\u001b[32m'N'\u001b[0m: \u001b[32m'3'\u001b[0m\u001b[1m}\u001b[0m\u001b[1m]\u001b[0m\u001b[1m}\u001b[0m\u001b[1m}\u001b[0m\n"
      ]
     },
     "metadata": {},
     "output_type": "display_data"
    },
    {
     "data": {
      "text/html": [
       "<pre style=\"white-space:pre;overflow-x:auto;line-height:normal;font-family:Menlo,'DejaVu Sans Mono',consolas,'Courier New',monospace\"><span style=\"font-weight: bold\">{</span><span style=\"color: #008000; text-decoration-color: #008000\">'Item'</span>: <span style=\"font-weight: bold\">{</span><span style=\"color: #008000; text-decoration-color: #008000\">'a_int_list'</span>: <span style=\"font-weight: bold\">[{</span><span style=\"color: #008000; text-decoration-color: #008000\">'N'</span>: <span style=\"color: #800080; text-decoration-color: #800080; font-style: italic\">None</span><span style=\"font-weight: bold\">}</span>, <span style=\"font-weight: bold\">{</span><span style=\"color: #008000; text-decoration-color: #008000\">'N'</span>: <span style=\"color: #800080; text-decoration-color: #800080; font-style: italic\">None</span><span style=\"font-weight: bold\">}</span>, <span style=\"font-weight: bold\">{</span><span style=\"color: #008000; text-decoration-color: #008000\">'N'</span>: <span style=\"color: #800080; text-decoration-color: #800080; font-style: italic\">None</span><span style=\"font-weight: bold\">}]}}</span>\n",
       "</pre>\n"
      ],
      "text/plain": [
       "\u001b[1m{\u001b[0m\u001b[32m'Item'\u001b[0m: \u001b[1m{\u001b[0m\u001b[32m'a_int_list'\u001b[0m: \u001b[1m[\u001b[0m\u001b[1m{\u001b[0m\u001b[32m'N'\u001b[0m: \u001b[3;35mNone\u001b[0m\u001b[1m}\u001b[0m, \u001b[1m{\u001b[0m\u001b[32m'N'\u001b[0m: \u001b[3;35mNone\u001b[0m\u001b[1m}\u001b[0m, \u001b[1m{\u001b[0m\u001b[32m'N'\u001b[0m: \u001b[3;35mNone\u001b[0m\u001b[1m}\u001b[0m\u001b[1m]\u001b[0m\u001b[1m}\u001b[0m\u001b[1m}\u001b[0m\n"
      ]
     },
     "metadata": {},
     "output_type": "display_data"
    },
    {
     "data": {
      "text/html": [
       "<pre style=\"white-space:pre;overflow-x:auto;line-height:normal;font-family:Menlo,'DejaVu Sans Mono',consolas,'Courier New',monospace\"><span style=\"font-weight: bold\">{</span><span style=\"color: #008000; text-decoration-color: #008000\">'Item'</span>: <span style=\"font-weight: bold\">{</span><span style=\"color: #008000; text-decoration-color: #008000\">'a_int_list'</span>: <span style=\"color: #800080; text-decoration-color: #800080; font-style: italic\">None</span><span style=\"font-weight: bold\">}}</span>\n",
       "</pre>\n"
      ],
      "text/plain": [
       "\u001b[1m{\u001b[0m\u001b[32m'Item'\u001b[0m: \u001b[1m{\u001b[0m\u001b[32m'a_int_list'\u001b[0m: \u001b[3;35mNone\u001b[0m\u001b[1m}\u001b[0m\u001b[1m}\u001b[0m\n"
      ]
     },
     "metadata": {},
     "output_type": "display_data"
    }
   ],
   "source": [
    "df = pl.DataFrame(\n",
    "    [\n",
    "        {\"Item\": {\"a_int_list\": [{\"N\": \"1\"}, {\"N\": \"2\"}, {\"N\": \"3\"}]}},\n",
    "        {\"Item\": {\"a_int_list\": [{\"NULL\": True}, {\"NULL\": True}, {\"NULL\": True}]}},\n",
    "        {\"Item\": {\"a_int_list\": {\"NULL\": True}}},\n",
    "    ],\n",
    "    schema={\n",
    "        \"Item\": pl.Struct({\"a_int_list\": pl.List(pl.Struct({\"N\": pl.Utf8()}))}),\n",
    "    }\n",
    ")\n",
    "print_df(df)"
   ]
  },
  {
   "cell_type": "code",
   "execution_count": 77,
   "id": "6a3629e8de824aee",
   "metadata": {
    "ExecuteTime": {
     "end_time": "2024-08-07T14:29:55.468558Z",
     "start_time": "2024-08-07T14:29:55.461265Z"
    },
    "collapsed": false,
    "jupyter": {
     "outputs_hidden": false
    }
   },
   "outputs": [
    {
     "name": "stdout",
     "output_type": "stream",
     "text": [
      "-------------------- schema --------------------\n"
     ]
    },
    {
     "data": {
      "text/html": [
       "<pre style=\"white-space:pre;overflow-x:auto;line-height:normal;font-family:Menlo,'DejaVu Sans Mono',consolas,'Courier New',monospace\"><span style=\"color: #800080; text-decoration-color: #800080; font-weight: bold\">Schema</span><span style=\"font-weight: bold\">([(</span><span style=\"color: #008000; text-decoration-color: #008000\">'a_int_list'</span>, <span style=\"color: #800080; text-decoration-color: #800080; font-weight: bold\">List</span><span style=\"font-weight: bold\">(</span>String<span style=\"font-weight: bold\">))])</span>\n",
       "</pre>\n"
      ],
      "text/plain": [
       "\u001b[1;35mSchema\u001b[0m\u001b[1m(\u001b[0m\u001b[1m[\u001b[0m\u001b[1m(\u001b[0m\u001b[32m'a_int_list'\u001b[0m, \u001b[1;35mList\u001b[0m\u001b[1m(\u001b[0mString\u001b[1m)\u001b[0m\u001b[1m)\u001b[0m\u001b[1m]\u001b[0m\u001b[1m)\u001b[0m\n"
      ]
     },
     "metadata": {},
     "output_type": "display_data"
    },
    {
     "name": "stdout",
     "output_type": "stream",
     "text": [
      "-------------------- df records --------------------\n"
     ]
    },
    {
     "data": {
      "text/html": [
       "<pre style=\"white-space:pre;overflow-x:auto;line-height:normal;font-family:Menlo,'DejaVu Sans Mono',consolas,'Courier New',monospace\"><span style=\"font-weight: bold\">{</span><span style=\"color: #008000; text-decoration-color: #008000\">'a_int_list'</span>: <span style=\"font-weight: bold\">[</span><span style=\"color: #008000; text-decoration-color: #008000\">'1'</span>, <span style=\"color: #008000; text-decoration-color: #008000\">'2'</span>, <span style=\"color: #008000; text-decoration-color: #008000\">'3'</span><span style=\"font-weight: bold\">]}</span>\n",
       "</pre>\n"
      ],
      "text/plain": [
       "\u001b[1m{\u001b[0m\u001b[32m'a_int_list'\u001b[0m: \u001b[1m[\u001b[0m\u001b[32m'1'\u001b[0m, \u001b[32m'2'\u001b[0m, \u001b[32m'3'\u001b[0m\u001b[1m]\u001b[0m\u001b[1m}\u001b[0m\n"
      ]
     },
     "metadata": {},
     "output_type": "display_data"
    },
    {
     "data": {
      "text/html": [
       "<pre style=\"white-space:pre;overflow-x:auto;line-height:normal;font-family:Menlo,'DejaVu Sans Mono',consolas,'Courier New',monospace\"><span style=\"font-weight: bold\">{</span><span style=\"color: #008000; text-decoration-color: #008000\">'a_int_list'</span>: <span style=\"font-weight: bold\">[</span><span style=\"color: #800080; text-decoration-color: #800080; font-style: italic\">None</span>, <span style=\"color: #800080; text-decoration-color: #800080; font-style: italic\">None</span>, <span style=\"color: #800080; text-decoration-color: #800080; font-style: italic\">None</span><span style=\"font-weight: bold\">]}</span>\n",
       "</pre>\n"
      ],
      "text/plain": [
       "\u001b[1m{\u001b[0m\u001b[32m'a_int_list'\u001b[0m: \u001b[1m[\u001b[0m\u001b[3;35mNone\u001b[0m, \u001b[3;35mNone\u001b[0m, \u001b[3;35mNone\u001b[0m\u001b[1m]\u001b[0m\u001b[1m}\u001b[0m\n"
      ]
     },
     "metadata": {},
     "output_type": "display_data"
    },
    {
     "data": {
      "text/html": [
       "<pre style=\"white-space:pre;overflow-x:auto;line-height:normal;font-family:Menlo,'DejaVu Sans Mono',consolas,'Courier New',monospace\"><span style=\"font-weight: bold\">{</span><span style=\"color: #008000; text-decoration-color: #008000\">'a_int_list'</span>: <span style=\"color: #800080; text-decoration-color: #800080; font-style: italic\">None</span><span style=\"font-weight: bold\">}</span>\n",
       "</pre>\n"
      ],
      "text/plain": [
       "\u001b[1m{\u001b[0m\u001b[32m'a_int_list'\u001b[0m: \u001b[3;35mNone\u001b[0m\u001b[1m}\u001b[0m\n"
      ]
     },
     "metadata": {},
     "output_type": "display_data"
    }
   ],
   "source": [
    "df_res = df.with_columns(\n",
    "    pl.col(\"Item\").struct.field(\"a_int_list\").list.eval(\n",
    "        pl.element().struct.field(\"N\")\n",
    "    ).alias(\"a_int_list\")\n",
    ").drop(\"Item\")\n",
    "print_df(df_res)"
   ]
  },
  {
   "cell_type": "markdown",
   "id": "35d7a43066a6c0fe",
   "metadata": {
    "collapsed": false,
    "jupyter": {
     "outputs_hidden": false
    }
   },
   "source": [
    "### Deserialize a Struct"
   ]
  },
  {
   "cell_type": "code",
   "execution_count": 78,
   "id": "4ba7625891ff83e2",
   "metadata": {
    "ExecuteTime": {
     "end_time": "2024-08-07T14:35:45.889679Z",
     "start_time": "2024-08-07T14:35:45.883819Z"
    },
    "collapsed": false,
    "jupyter": {
     "outputs_hidden": false
    }
   },
   "outputs": [
    {
     "name": "stdout",
     "output_type": "stream",
     "text": [
      "-------------------- schema --------------------\n"
     ]
    },
    {
     "data": {
      "text/html": [
       "<pre style=\"white-space:pre;overflow-x:auto;line-height:normal;font-family:Menlo,'DejaVu Sans Mono',consolas,'Courier New',monospace\"><span style=\"color: #800080; text-decoration-color: #800080; font-weight: bold\">Schema</span><span style=\"font-weight: bold\">([(</span><span style=\"color: #008000; text-decoration-color: #008000\">'Item'</span>, <span style=\"color: #800080; text-decoration-color: #800080; font-weight: bold\">Struct</span><span style=\"font-weight: bold\">({</span><span style=\"color: #008000; text-decoration-color: #008000\">'a_struct'</span>: <span style=\"color: #800080; text-decoration-color: #800080; font-weight: bold\">Struct</span><span style=\"font-weight: bold\">({</span><span style=\"color: #008000; text-decoration-color: #008000\">'M'</span>: <span style=\"color: #800080; text-decoration-color: #800080; font-weight: bold\">Struct</span><span style=\"font-weight: bold\">({</span><span style=\"color: #008000; text-decoration-color: #008000\">'id'</span>: <span style=\"color: #800080; text-decoration-color: #800080; font-weight: bold\">Struct</span><span style=\"font-weight: bold\">({</span><span style=\"color: #008000; text-decoration-color: #008000\">'N'</span>: String<span style=\"font-weight: bold\">})</span>, <span style=\"color: #008000; text-decoration-color: #008000\">'name'</span>: <span style=\"color: #800080; text-decoration-color: #800080; font-weight: bold\">Struct</span><span style=\"font-weight: bold\">({</span><span style=\"color: #008000; text-decoration-color: #008000\">'S'</span>: \n",
       "String<span style=\"font-weight: bold\">})})})}))])</span>\n",
       "</pre>\n"
      ],
      "text/plain": [
       "\u001b[1;35mSchema\u001b[0m\u001b[1m(\u001b[0m\u001b[1m[\u001b[0m\u001b[1m(\u001b[0m\u001b[32m'Item'\u001b[0m, \u001b[1;35mStruct\u001b[0m\u001b[1m(\u001b[0m\u001b[1m{\u001b[0m\u001b[32m'a_struct'\u001b[0m: \u001b[1;35mStruct\u001b[0m\u001b[1m(\u001b[0m\u001b[1m{\u001b[0m\u001b[32m'M'\u001b[0m: \u001b[1;35mStruct\u001b[0m\u001b[1m(\u001b[0m\u001b[1m{\u001b[0m\u001b[32m'id'\u001b[0m: \u001b[1;35mStruct\u001b[0m\u001b[1m(\u001b[0m\u001b[1m{\u001b[0m\u001b[32m'N'\u001b[0m: String\u001b[1m}\u001b[0m\u001b[1m)\u001b[0m, \u001b[32m'name'\u001b[0m: \u001b[1;35mStruct\u001b[0m\u001b[1m(\u001b[0m\u001b[1m{\u001b[0m\u001b[32m'S'\u001b[0m: \n",
       "String\u001b[1m}\u001b[0m\u001b[1m)\u001b[0m\u001b[1m}\u001b[0m\u001b[1m)\u001b[0m\u001b[1m}\u001b[0m\u001b[1m)\u001b[0m\u001b[1m}\u001b[0m\u001b[1m)\u001b[0m\u001b[1m)\u001b[0m\u001b[1m]\u001b[0m\u001b[1m)\u001b[0m\n"
      ]
     },
     "metadata": {},
     "output_type": "display_data"
    },
    {
     "name": "stdout",
     "output_type": "stream",
     "text": [
      "-------------------- df records --------------------\n"
     ]
    },
    {
     "data": {
      "text/html": [
       "<pre style=\"white-space:pre;overflow-x:auto;line-height:normal;font-family:Menlo,'DejaVu Sans Mono',consolas,'Courier New',monospace\"><span style=\"font-weight: bold\">{</span><span style=\"color: #008000; text-decoration-color: #008000\">'Item'</span>: <span style=\"font-weight: bold\">{</span><span style=\"color: #008000; text-decoration-color: #008000\">'a_struct'</span>: <span style=\"font-weight: bold\">{</span><span style=\"color: #008000; text-decoration-color: #008000\">'M'</span>: <span style=\"font-weight: bold\">{</span><span style=\"color: #008000; text-decoration-color: #008000\">'id'</span>: <span style=\"font-weight: bold\">{</span><span style=\"color: #008000; text-decoration-color: #008000\">'N'</span>: <span style=\"color: #008000; text-decoration-color: #008000\">'1'</span><span style=\"font-weight: bold\">}</span>, <span style=\"color: #008000; text-decoration-color: #008000\">'name'</span>: <span style=\"font-weight: bold\">{</span><span style=\"color: #008000; text-decoration-color: #008000\">'S'</span>: <span style=\"color: #008000; text-decoration-color: #008000\">'Alice'</span><span style=\"font-weight: bold\">}}}}}</span>\n",
       "</pre>\n"
      ],
      "text/plain": [
       "\u001b[1m{\u001b[0m\u001b[32m'Item'\u001b[0m: \u001b[1m{\u001b[0m\u001b[32m'a_struct'\u001b[0m: \u001b[1m{\u001b[0m\u001b[32m'M'\u001b[0m: \u001b[1m{\u001b[0m\u001b[32m'id'\u001b[0m: \u001b[1m{\u001b[0m\u001b[32m'N'\u001b[0m: \u001b[32m'1'\u001b[0m\u001b[1m}\u001b[0m, \u001b[32m'name'\u001b[0m: \u001b[1m{\u001b[0m\u001b[32m'S'\u001b[0m: \u001b[32m'Alice'\u001b[0m\u001b[1m}\u001b[0m\u001b[1m}\u001b[0m\u001b[1m}\u001b[0m\u001b[1m}\u001b[0m\u001b[1m}\u001b[0m\n"
      ]
     },
     "metadata": {},
     "output_type": "display_data"
    },
    {
     "data": {
      "text/html": [
       "<pre style=\"white-space:pre;overflow-x:auto;line-height:normal;font-family:Menlo,'DejaVu Sans Mono',consolas,'Courier New',monospace\"><span style=\"font-weight: bold\">{</span><span style=\"color: #008000; text-decoration-color: #008000\">'Item'</span>: <span style=\"font-weight: bold\">{</span><span style=\"color: #008000; text-decoration-color: #008000\">'a_struct'</span>: <span style=\"font-weight: bold\">{</span><span style=\"color: #008000; text-decoration-color: #008000\">'M'</span>: <span style=\"font-weight: bold\">{</span><span style=\"color: #008000; text-decoration-color: #008000\">'id'</span>: <span style=\"font-weight: bold\">{</span><span style=\"color: #008000; text-decoration-color: #008000\">'N'</span>: <span style=\"color: #800080; text-decoration-color: #800080; font-style: italic\">None</span><span style=\"font-weight: bold\">}</span>, <span style=\"color: #008000; text-decoration-color: #008000\">'name'</span>: <span style=\"font-weight: bold\">{</span><span style=\"color: #008000; text-decoration-color: #008000\">'S'</span>: <span style=\"color: #800080; text-decoration-color: #800080; font-style: italic\">None</span><span style=\"font-weight: bold\">}}}}}</span>\n",
       "</pre>\n"
      ],
      "text/plain": [
       "\u001b[1m{\u001b[0m\u001b[32m'Item'\u001b[0m: \u001b[1m{\u001b[0m\u001b[32m'a_struct'\u001b[0m: \u001b[1m{\u001b[0m\u001b[32m'M'\u001b[0m: \u001b[1m{\u001b[0m\u001b[32m'id'\u001b[0m: \u001b[1m{\u001b[0m\u001b[32m'N'\u001b[0m: \u001b[3;35mNone\u001b[0m\u001b[1m}\u001b[0m, \u001b[32m'name'\u001b[0m: \u001b[1m{\u001b[0m\u001b[32m'S'\u001b[0m: \u001b[3;35mNone\u001b[0m\u001b[1m}\u001b[0m\u001b[1m}\u001b[0m\u001b[1m}\u001b[0m\u001b[1m}\u001b[0m\u001b[1m}\u001b[0m\n"
      ]
     },
     "metadata": {},
     "output_type": "display_data"
    },
    {
     "data": {
      "text/html": [
       "<pre style=\"white-space:pre;overflow-x:auto;line-height:normal;font-family:Menlo,'DejaVu Sans Mono',consolas,'Courier New',monospace\"><span style=\"font-weight: bold\">{</span><span style=\"color: #008000; text-decoration-color: #008000\">'Item'</span>: <span style=\"font-weight: bold\">{</span><span style=\"color: #008000; text-decoration-color: #008000\">'a_struct'</span>: <span style=\"font-weight: bold\">{</span><span style=\"color: #008000; text-decoration-color: #008000\">'M'</span>: <span style=\"color: #800080; text-decoration-color: #800080; font-style: italic\">None</span><span style=\"font-weight: bold\">}}}</span>\n",
       "</pre>\n"
      ],
      "text/plain": [
       "\u001b[1m{\u001b[0m\u001b[32m'Item'\u001b[0m: \u001b[1m{\u001b[0m\u001b[32m'a_struct'\u001b[0m: \u001b[1m{\u001b[0m\u001b[32m'M'\u001b[0m: \u001b[3;35mNone\u001b[0m\u001b[1m}\u001b[0m\u001b[1m}\u001b[0m\u001b[1m}\u001b[0m\n"
      ]
     },
     "metadata": {},
     "output_type": "display_data"
    }
   ],
   "source": [
    "df = pl.DataFrame(\n",
    "    [\n",
    "        {\"Item\": {\"a_struct\": {\"M\": {\"id\": {\"N\": \"1\"}, \"name\": {\"S\": \"Alice\"}}}}},\n",
    "        {\"Item\": {\"a_struct\": {\"M\": {\"id\": {\"Null\": True}, \"name\": {\"Null\": True}}}}},\n",
    "        {\"Item\": {\"a_struct\": {\"Null\": True}}},\n",
    "    ],\n",
    "    schema={\n",
    "        \"Item\": pl.Struct({\n",
    "            \"a_struct\": pl.Struct({\n",
    "                \"M\": pl.Struct({\n",
    "                    \"id\": pl.Struct({\"N\": pl.Utf8()}),\n",
    "                    \"name\": pl.Struct({\"S\": pl.Utf8()})\n",
    "                })\n",
    "            })\n",
    "        }),\n",
    "    }\n",
    ")\n",
    "print_df(df)"
   ]
  },
  {
   "cell_type": "code",
   "execution_count": 79,
   "id": "a703310785fea701",
   "metadata": {
    "ExecuteTime": {
     "end_time": "2024-08-07T14:36:37.008655Z",
     "start_time": "2024-08-07T14:36:37.002095Z"
    },
    "collapsed": false,
    "jupyter": {
     "outputs_hidden": false
    }
   },
   "outputs": [
    {
     "name": "stdout",
     "output_type": "stream",
     "text": [
      "-------------------- schema --------------------\n"
     ]
    },
    {
     "data": {
      "text/html": [
       "<pre style=\"white-space:pre;overflow-x:auto;line-height:normal;font-family:Menlo,'DejaVu Sans Mono',consolas,'Courier New',monospace\"><span style=\"color: #800080; text-decoration-color: #800080; font-weight: bold\">Schema</span><span style=\"font-weight: bold\">([(</span><span style=\"color: #008000; text-decoration-color: #008000\">'a_struct'</span>, <span style=\"color: #800080; text-decoration-color: #800080; font-weight: bold\">Struct</span><span style=\"font-weight: bold\">({</span><span style=\"color: #008000; text-decoration-color: #008000\">'id'</span>: Int64, <span style=\"color: #008000; text-decoration-color: #008000\">'name'</span>: String<span style=\"font-weight: bold\">}))])</span>\n",
       "</pre>\n"
      ],
      "text/plain": [
       "\u001b[1;35mSchema\u001b[0m\u001b[1m(\u001b[0m\u001b[1m[\u001b[0m\u001b[1m(\u001b[0m\u001b[32m'a_struct'\u001b[0m, \u001b[1;35mStruct\u001b[0m\u001b[1m(\u001b[0m\u001b[1m{\u001b[0m\u001b[32m'id'\u001b[0m: Int64, \u001b[32m'name'\u001b[0m: String\u001b[1m}\u001b[0m\u001b[1m)\u001b[0m\u001b[1m)\u001b[0m\u001b[1m]\u001b[0m\u001b[1m)\u001b[0m\n"
      ]
     },
     "metadata": {},
     "output_type": "display_data"
    },
    {
     "name": "stdout",
     "output_type": "stream",
     "text": [
      "-------------------- df records --------------------\n"
     ]
    },
    {
     "data": {
      "text/html": [
       "<pre style=\"white-space:pre;overflow-x:auto;line-height:normal;font-family:Menlo,'DejaVu Sans Mono',consolas,'Courier New',monospace\"><span style=\"font-weight: bold\">{</span><span style=\"color: #008000; text-decoration-color: #008000\">'a_struct'</span>: <span style=\"font-weight: bold\">{</span><span style=\"color: #008000; text-decoration-color: #008000\">'id'</span>: <span style=\"color: #008080; text-decoration-color: #008080; font-weight: bold\">1</span>, <span style=\"color: #008000; text-decoration-color: #008000\">'name'</span>: <span style=\"color: #008000; text-decoration-color: #008000\">'Alice'</span><span style=\"font-weight: bold\">}}</span>\n",
       "</pre>\n"
      ],
      "text/plain": [
       "\u001b[1m{\u001b[0m\u001b[32m'a_struct'\u001b[0m: \u001b[1m{\u001b[0m\u001b[32m'id'\u001b[0m: \u001b[1;36m1\u001b[0m, \u001b[32m'name'\u001b[0m: \u001b[32m'Alice'\u001b[0m\u001b[1m}\u001b[0m\u001b[1m}\u001b[0m\n"
      ]
     },
     "metadata": {},
     "output_type": "display_data"
    },
    {
     "data": {
      "text/html": [
       "<pre style=\"white-space:pre;overflow-x:auto;line-height:normal;font-family:Menlo,'DejaVu Sans Mono',consolas,'Courier New',monospace\"><span style=\"font-weight: bold\">{</span><span style=\"color: #008000; text-decoration-color: #008000\">'a_struct'</span>: <span style=\"font-weight: bold\">{</span><span style=\"color: #008000; text-decoration-color: #008000\">'id'</span>: <span style=\"color: #800080; text-decoration-color: #800080; font-style: italic\">None</span>, <span style=\"color: #008000; text-decoration-color: #008000\">'name'</span>: <span style=\"color: #800080; text-decoration-color: #800080; font-style: italic\">None</span><span style=\"font-weight: bold\">}}</span>\n",
       "</pre>\n"
      ],
      "text/plain": [
       "\u001b[1m{\u001b[0m\u001b[32m'a_struct'\u001b[0m: \u001b[1m{\u001b[0m\u001b[32m'id'\u001b[0m: \u001b[3;35mNone\u001b[0m, \u001b[32m'name'\u001b[0m: \u001b[3;35mNone\u001b[0m\u001b[1m}\u001b[0m\u001b[1m}\u001b[0m\n"
      ]
     },
     "metadata": {},
     "output_type": "display_data"
    },
    {
     "data": {
      "text/html": [
       "<pre style=\"white-space:pre;overflow-x:auto;line-height:normal;font-family:Menlo,'DejaVu Sans Mono',consolas,'Courier New',monospace\"><span style=\"font-weight: bold\">{</span><span style=\"color: #008000; text-decoration-color: #008000\">'a_struct'</span>: <span style=\"font-weight: bold\">{</span><span style=\"color: #008000; text-decoration-color: #008000\">'id'</span>: <span style=\"color: #800080; text-decoration-color: #800080; font-style: italic\">None</span>, <span style=\"color: #008000; text-decoration-color: #008000\">'name'</span>: <span style=\"color: #800080; text-decoration-color: #800080; font-style: italic\">None</span><span style=\"font-weight: bold\">}}</span>\n",
       "</pre>\n"
      ],
      "text/plain": [
       "\u001b[1m{\u001b[0m\u001b[32m'a_struct'\u001b[0m: \u001b[1m{\u001b[0m\u001b[32m'id'\u001b[0m: \u001b[3;35mNone\u001b[0m, \u001b[32m'name'\u001b[0m: \u001b[3;35mNone\u001b[0m\u001b[1m}\u001b[0m\u001b[1m}\u001b[0m\n"
      ]
     },
     "metadata": {},
     "output_type": "display_data"
    }
   ],
   "source": [
    "df_res = df.with_columns(\n",
    "    pl.struct(\n",
    "        pl.col(\"Item\").struct.field(\"a_struct\").struct.field(\"M\").struct.field(\"id\").struct.field(\"N\").cast(\n",
    "            pl.Int64).alias(\"id\"),\n",
    "        pl.col(\"Item\").struct.field(\"a_struct\").struct.field(\"M\").struct.field(\"name\").struct.field(\"S\").alias(\"name\"),\n",
    "    ).alias(\"a_struct\"),\n",
    ").drop(\"Item\")\n",
    "print_df(df_res)"
   ]
  },
  {
   "cell_type": "markdown",
   "id": "34e5c4ec16561995",
   "metadata": {
    "collapsed": false,
    "jupyter": {
     "outputs_hidden": false
    }
   },
   "source": [
    "## Serialize (Python Dict to DynamoDB JSON)"
   ]
  },
  {
   "cell_type": "markdown",
   "id": "fc24da3b17bcb901",
   "metadata": {
    "collapsed": false,
    "jupyter": {
     "outputs_hidden": false
    }
   },
   "source": [
    "### Serialize Generic Python Object\n",
    "\n",
    "Integer, Float, String, Binary, Bool, Null. \n"
   ]
  },
  {
   "cell_type": "code",
   "execution_count": 80,
   "id": "4f932d0099eea6d6",
   "metadata": {
    "ExecuteTime": {
     "end_time": "2024-08-07T16:36:58.044400Z",
     "start_time": "2024-08-07T16:36:58.018691Z"
    },
    "collapsed": false,
    "jupyter": {
     "outputs_hidden": false
    }
   },
   "outputs": [
    {
     "name": "stdout",
     "output_type": "stream",
     "text": [
      "(2, 1)\n",
      "-------------------- schema --------------------\n"
     ]
    },
    {
     "data": {
      "text/html": [
       "<pre style=\"white-space:pre;overflow-x:auto;line-height:normal;font-family:Menlo,'DejaVu Sans Mono',consolas,'Courier New',monospace\"><span style=\"color: #800080; text-decoration-color: #800080; font-weight: bold\">Schema</span><span style=\"font-weight: bold\">([(</span><span style=\"color: #008000; text-decoration-color: #008000\">'Data'</span>, <span style=\"color: #800080; text-decoration-color: #800080; font-weight: bold\">Struct</span><span style=\"font-weight: bold\">({</span><span style=\"color: #008000; text-decoration-color: #008000\">'a_int'</span>: Int64, <span style=\"color: #008000; text-decoration-color: #008000\">'a_float'</span>: Float64, <span style=\"color: #008000; text-decoration-color: #008000\">'a_str'</span>: String, <span style=\"color: #008000; text-decoration-color: #008000\">'a_bin'</span>: Binary, <span style=\"color: #008000; text-decoration-color: #008000\">'a_bool'</span>: Boolean, \n",
       "<span style=\"color: #008000; text-decoration-color: #008000\">'a_null'</span>: Null<span style=\"font-weight: bold\">}))])</span>\n",
       "</pre>\n"
      ],
      "text/plain": [
       "\u001b[1;35mSchema\u001b[0m\u001b[1m(\u001b[0m\u001b[1m[\u001b[0m\u001b[1m(\u001b[0m\u001b[32m'Data'\u001b[0m, \u001b[1;35mStruct\u001b[0m\u001b[1m(\u001b[0m\u001b[1m{\u001b[0m\u001b[32m'a_int'\u001b[0m: Int64, \u001b[32m'a_float'\u001b[0m: Float64, \u001b[32m'a_str'\u001b[0m: String, \u001b[32m'a_bin'\u001b[0m: Binary, \u001b[32m'a_bool'\u001b[0m: Boolean, \n",
       "\u001b[32m'a_null'\u001b[0m: Null\u001b[1m}\u001b[0m\u001b[1m)\u001b[0m\u001b[1m)\u001b[0m\u001b[1m]\u001b[0m\u001b[1m)\u001b[0m\n"
      ]
     },
     "metadata": {},
     "output_type": "display_data"
    },
    {
     "name": "stdout",
     "output_type": "stream",
     "text": [
      "-------------------- df records --------------------\n"
     ]
    },
    {
     "data": {
      "text/html": [
       "<pre style=\"white-space:pre;overflow-x:auto;line-height:normal;font-family:Menlo,'DejaVu Sans Mono',consolas,'Courier New',monospace\"><span style=\"font-weight: bold\">{</span><span style=\"color: #008000; text-decoration-color: #008000\">'Data'</span>: <span style=\"font-weight: bold\">{</span><span style=\"color: #008000; text-decoration-color: #008000\">'a_int'</span>: <span style=\"color: #008080; text-decoration-color: #008080; font-weight: bold\">123</span>, <span style=\"color: #008000; text-decoration-color: #008000\">'a_float'</span>: <span style=\"color: #008080; text-decoration-color: #008080; font-weight: bold\">1.23</span>, <span style=\"color: #008000; text-decoration-color: #008000\">'a_str'</span>: <span style=\"color: #008000; text-decoration-color: #008000\">'Alice'</span>, <span style=\"color: #008000; text-decoration-color: #008000\">'a_bin'</span>: <span style=\"color: #008000; text-decoration-color: #008000\">b'hello'</span>, <span style=\"color: #008000; text-decoration-color: #008000\">'a_bool'</span>: <span style=\"color: #ff0000; text-decoration-color: #ff0000; font-style: italic\">False</span>, <span style=\"color: #008000; text-decoration-color: #008000\">'a_null'</span>: <span style=\"color: #800080; text-decoration-color: #800080; font-style: italic\">None</span><span style=\"font-weight: bold\">}}</span>\n",
       "</pre>\n"
      ],
      "text/plain": [
       "\u001b[1m{\u001b[0m\u001b[32m'Data'\u001b[0m: \u001b[1m{\u001b[0m\u001b[32m'a_int'\u001b[0m: \u001b[1;36m123\u001b[0m, \u001b[32m'a_float'\u001b[0m: \u001b[1;36m1.23\u001b[0m, \u001b[32m'a_str'\u001b[0m: \u001b[32m'Alice'\u001b[0m, \u001b[32m'a_bin'\u001b[0m: \u001b[32mb'hello'\u001b[0m, \u001b[32m'a_bool'\u001b[0m: \u001b[3;91mFalse\u001b[0m, \u001b[32m'a_null'\u001b[0m: \u001b[3;35mNone\u001b[0m\u001b[1m}\u001b[0m\u001b[1m}\u001b[0m\n"
      ]
     },
     "metadata": {},
     "output_type": "display_data"
    },
    {
     "data": {
      "text/html": [
       "<pre style=\"white-space:pre;overflow-x:auto;line-height:normal;font-family:Menlo,'DejaVu Sans Mono',consolas,'Courier New',monospace\"><span style=\"font-weight: bold\">{</span><span style=\"color: #008000; text-decoration-color: #008000\">'Data'</span>: <span style=\"font-weight: bold\">{</span><span style=\"color: #008000; text-decoration-color: #008000\">'a_int'</span>: <span style=\"color: #800080; text-decoration-color: #800080; font-style: italic\">None</span>, <span style=\"color: #008000; text-decoration-color: #008000\">'a_float'</span>: <span style=\"color: #800080; text-decoration-color: #800080; font-style: italic\">None</span>, <span style=\"color: #008000; text-decoration-color: #008000\">'a_str'</span>: <span style=\"color: #800080; text-decoration-color: #800080; font-style: italic\">None</span>, <span style=\"color: #008000; text-decoration-color: #008000\">'a_bin'</span>: <span style=\"color: #800080; text-decoration-color: #800080; font-style: italic\">None</span>, <span style=\"color: #008000; text-decoration-color: #008000\">'a_bool'</span>: <span style=\"color: #800080; text-decoration-color: #800080; font-style: italic\">None</span>, <span style=\"color: #008000; text-decoration-color: #008000\">'a_null'</span>: <span style=\"color: #800080; text-decoration-color: #800080; font-style: italic\">None</span><span style=\"font-weight: bold\">}}</span>\n",
       "</pre>\n"
      ],
      "text/plain": [
       "\u001b[1m{\u001b[0m\u001b[32m'Data'\u001b[0m: \u001b[1m{\u001b[0m\u001b[32m'a_int'\u001b[0m: \u001b[3;35mNone\u001b[0m, \u001b[32m'a_float'\u001b[0m: \u001b[3;35mNone\u001b[0m, \u001b[32m'a_str'\u001b[0m: \u001b[3;35mNone\u001b[0m, \u001b[32m'a_bin'\u001b[0m: \u001b[3;35mNone\u001b[0m, \u001b[32m'a_bool'\u001b[0m: \u001b[3;35mNone\u001b[0m, \u001b[32m'a_null'\u001b[0m: \u001b[3;35mNone\u001b[0m\u001b[1m}\u001b[0m\u001b[1m}\u001b[0m\n"
      ]
     },
     "metadata": {},
     "output_type": "display_data"
    },
    {
     "name": "stdout",
     "output_type": "stream",
     "text": [
      "-------------------- schema --------------------\n"
     ]
    },
    {
     "data": {
      "text/html": [
       "<pre style=\"white-space:pre;overflow-x:auto;line-height:normal;font-family:Menlo,'DejaVu Sans Mono',consolas,'Courier New',monospace\"><span style=\"color: #800080; text-decoration-color: #800080; font-weight: bold\">Schema</span><span style=\"font-weight: bold\">([(</span><span style=\"color: #008000; text-decoration-color: #008000\">'a_int'</span>, <span style=\"color: #800080; text-decoration-color: #800080; font-weight: bold\">Struct</span><span style=\"font-weight: bold\">({</span><span style=\"color: #008000; text-decoration-color: #008000\">'N'</span>: String<span style=\"font-weight: bold\">}))</span>, <span style=\"font-weight: bold\">(</span><span style=\"color: #008000; text-decoration-color: #008000\">'a_float'</span>, <span style=\"color: #800080; text-decoration-color: #800080; font-weight: bold\">Struct</span><span style=\"font-weight: bold\">({</span><span style=\"color: #008000; text-decoration-color: #008000\">'N'</span>: String<span style=\"font-weight: bold\">}))</span>, <span style=\"font-weight: bold\">(</span><span style=\"color: #008000; text-decoration-color: #008000\">'a_str'</span>, <span style=\"color: #800080; text-decoration-color: #800080; font-weight: bold\">Struct</span><span style=\"font-weight: bold\">({</span><span style=\"color: #008000; text-decoration-color: #008000\">'S'</span>: String<span style=\"font-weight: bold\">}))</span>, \n",
       "<span style=\"font-weight: bold\">(</span><span style=\"color: #008000; text-decoration-color: #008000\">'a_bin'</span>, <span style=\"color: #800080; text-decoration-color: #800080; font-weight: bold\">Struct</span><span style=\"font-weight: bold\">({</span><span style=\"color: #008000; text-decoration-color: #008000\">'B'</span>: String<span style=\"font-weight: bold\">}))</span>, <span style=\"font-weight: bold\">(</span><span style=\"color: #008000; text-decoration-color: #008000\">'a_bool'</span>, <span style=\"color: #800080; text-decoration-color: #800080; font-weight: bold\">Struct</span><span style=\"font-weight: bold\">({</span><span style=\"color: #008000; text-decoration-color: #008000\">'BOOL'</span>: Boolean<span style=\"font-weight: bold\">}))</span>, <span style=\"font-weight: bold\">(</span><span style=\"color: #008000; text-decoration-color: #008000\">'a_null'</span>, <span style=\"color: #800080; text-decoration-color: #800080; font-weight: bold\">Struct</span><span style=\"font-weight: bold\">({</span><span style=\"color: #008000; text-decoration-color: #008000\">'NULL'</span>: Boolean<span style=\"font-weight: bold\">}))])</span>\n",
       "</pre>\n"
      ],
      "text/plain": [
       "\u001b[1;35mSchema\u001b[0m\u001b[1m(\u001b[0m\u001b[1m[\u001b[0m\u001b[1m(\u001b[0m\u001b[32m'a_int'\u001b[0m, \u001b[1;35mStruct\u001b[0m\u001b[1m(\u001b[0m\u001b[1m{\u001b[0m\u001b[32m'N'\u001b[0m: String\u001b[1m}\u001b[0m\u001b[1m)\u001b[0m\u001b[1m)\u001b[0m, \u001b[1m(\u001b[0m\u001b[32m'a_float'\u001b[0m, \u001b[1;35mStruct\u001b[0m\u001b[1m(\u001b[0m\u001b[1m{\u001b[0m\u001b[32m'N'\u001b[0m: String\u001b[1m}\u001b[0m\u001b[1m)\u001b[0m\u001b[1m)\u001b[0m, \u001b[1m(\u001b[0m\u001b[32m'a_str'\u001b[0m, \u001b[1;35mStruct\u001b[0m\u001b[1m(\u001b[0m\u001b[1m{\u001b[0m\u001b[32m'S'\u001b[0m: String\u001b[1m}\u001b[0m\u001b[1m)\u001b[0m\u001b[1m)\u001b[0m, \n",
       "\u001b[1m(\u001b[0m\u001b[32m'a_bin'\u001b[0m, \u001b[1;35mStruct\u001b[0m\u001b[1m(\u001b[0m\u001b[1m{\u001b[0m\u001b[32m'B'\u001b[0m: String\u001b[1m}\u001b[0m\u001b[1m)\u001b[0m\u001b[1m)\u001b[0m, \u001b[1m(\u001b[0m\u001b[32m'a_bool'\u001b[0m, \u001b[1;35mStruct\u001b[0m\u001b[1m(\u001b[0m\u001b[1m{\u001b[0m\u001b[32m'BOOL'\u001b[0m: Boolean\u001b[1m}\u001b[0m\u001b[1m)\u001b[0m\u001b[1m)\u001b[0m, \u001b[1m(\u001b[0m\u001b[32m'a_null'\u001b[0m, \u001b[1;35mStruct\u001b[0m\u001b[1m(\u001b[0m\u001b[1m{\u001b[0m\u001b[32m'NULL'\u001b[0m: Boolean\u001b[1m}\u001b[0m\u001b[1m)\u001b[0m\u001b[1m)\u001b[0m\u001b[1m]\u001b[0m\u001b[1m)\u001b[0m\n"
      ]
     },
     "metadata": {},
     "output_type": "display_data"
    },
    {
     "name": "stdout",
     "output_type": "stream",
     "text": [
      "-------------------- df records --------------------\n"
     ]
    },
    {
     "data": {
      "text/html": [
       "<pre style=\"white-space:pre;overflow-x:auto;line-height:normal;font-family:Menlo,'DejaVu Sans Mono',consolas,'Courier New',monospace\"><span style=\"font-weight: bold\">{</span>\n",
       "    <span style=\"color: #008000; text-decoration-color: #008000\">'a_int'</span>: <span style=\"font-weight: bold\">{</span><span style=\"color: #008000; text-decoration-color: #008000\">'N'</span>: <span style=\"color: #008000; text-decoration-color: #008000\">'123'</span><span style=\"font-weight: bold\">}</span>,\n",
       "    <span style=\"color: #008000; text-decoration-color: #008000\">'a_float'</span>: <span style=\"font-weight: bold\">{</span><span style=\"color: #008000; text-decoration-color: #008000\">'N'</span>: <span style=\"color: #008000; text-decoration-color: #008000\">'1.23'</span><span style=\"font-weight: bold\">}</span>,\n",
       "    <span style=\"color: #008000; text-decoration-color: #008000\">'a_str'</span>: <span style=\"font-weight: bold\">{</span><span style=\"color: #008000; text-decoration-color: #008000\">'S'</span>: <span style=\"color: #008000; text-decoration-color: #008000\">'Alice'</span><span style=\"font-weight: bold\">}</span>,\n",
       "    <span style=\"color: #008000; text-decoration-color: #008000\">'a_bin'</span>: <span style=\"font-weight: bold\">{</span><span style=\"color: #008000; text-decoration-color: #008000\">'B'</span>: <span style=\"color: #008000; text-decoration-color: #008000\">'aGVsbG8='</span><span style=\"font-weight: bold\">}</span>,\n",
       "    <span style=\"color: #008000; text-decoration-color: #008000\">'a_bool'</span>: <span style=\"font-weight: bold\">{</span><span style=\"color: #008000; text-decoration-color: #008000\">'BOOL'</span>: <span style=\"color: #ff0000; text-decoration-color: #ff0000; font-style: italic\">False</span><span style=\"font-weight: bold\">}</span>,\n",
       "    <span style=\"color: #008000; text-decoration-color: #008000\">'a_null'</span>: <span style=\"font-weight: bold\">{</span><span style=\"color: #008000; text-decoration-color: #008000\">'NULL'</span>: <span style=\"color: #00ff00; text-decoration-color: #00ff00; font-style: italic\">True</span><span style=\"font-weight: bold\">}</span>\n",
       "<span style=\"font-weight: bold\">}</span>\n",
       "</pre>\n"
      ],
      "text/plain": [
       "\u001b[1m{\u001b[0m\n",
       "    \u001b[32m'a_int'\u001b[0m: \u001b[1m{\u001b[0m\u001b[32m'N'\u001b[0m: \u001b[32m'123'\u001b[0m\u001b[1m}\u001b[0m,\n",
       "    \u001b[32m'a_float'\u001b[0m: \u001b[1m{\u001b[0m\u001b[32m'N'\u001b[0m: \u001b[32m'1.23'\u001b[0m\u001b[1m}\u001b[0m,\n",
       "    \u001b[32m'a_str'\u001b[0m: \u001b[1m{\u001b[0m\u001b[32m'S'\u001b[0m: \u001b[32m'Alice'\u001b[0m\u001b[1m}\u001b[0m,\n",
       "    \u001b[32m'a_bin'\u001b[0m: \u001b[1m{\u001b[0m\u001b[32m'B'\u001b[0m: \u001b[32m'\u001b[0m\u001b[32maGVsbG8\u001b[0m\u001b[32m='\u001b[0m\u001b[1m}\u001b[0m,\n",
       "    \u001b[32m'a_bool'\u001b[0m: \u001b[1m{\u001b[0m\u001b[32m'BOOL'\u001b[0m: \u001b[3;91mFalse\u001b[0m\u001b[1m}\u001b[0m,\n",
       "    \u001b[32m'a_null'\u001b[0m: \u001b[1m{\u001b[0m\u001b[32m'NULL'\u001b[0m: \u001b[3;92mTrue\u001b[0m\u001b[1m}\u001b[0m\n",
       "\u001b[1m}\u001b[0m\n"
      ]
     },
     "metadata": {},
     "output_type": "display_data"
    },
    {
     "data": {
      "text/html": [
       "<pre style=\"white-space:pre;overflow-x:auto;line-height:normal;font-family:Menlo,'DejaVu Sans Mono',consolas,'Courier New',monospace\"><span style=\"font-weight: bold\">{</span>\n",
       "    <span style=\"color: #008000; text-decoration-color: #008000\">'a_int'</span>: <span style=\"font-weight: bold\">{</span><span style=\"color: #008000; text-decoration-color: #008000\">'N'</span>: <span style=\"color: #008000; text-decoration-color: #008000\">'-999'</span><span style=\"font-weight: bold\">}</span>,\n",
       "    <span style=\"color: #008000; text-decoration-color: #008000\">'a_float'</span>: <span style=\"font-weight: bold\">{</span><span style=\"color: #008000; text-decoration-color: #008000\">'N'</span>: <span style=\"color: #008000; text-decoration-color: #008000\">'-999.999'</span><span style=\"font-weight: bold\">}</span>,\n",
       "    <span style=\"color: #008000; text-decoration-color: #008000\">'a_str'</span>: <span style=\"font-weight: bold\">{</span><span style=\"color: #008000; text-decoration-color: #008000\">'S'</span>: <span style=\"color: #008000; text-decoration-color: #008000\">'NA'</span><span style=\"font-weight: bold\">}</span>,\n",
       "    <span style=\"color: #008000; text-decoration-color: #008000\">'a_bin'</span>: <span style=\"font-weight: bold\">{</span><span style=\"color: #008000; text-decoration-color: #008000\">'B'</span>: <span style=\"color: #008000; text-decoration-color: #008000\">'TkE='</span><span style=\"font-weight: bold\">}</span>,\n",
       "    <span style=\"color: #008000; text-decoration-color: #008000\">'a_bool'</span>: <span style=\"font-weight: bold\">{</span><span style=\"color: #008000; text-decoration-color: #008000\">'BOOL'</span>: <span style=\"color: #ff0000; text-decoration-color: #ff0000; font-style: italic\">False</span><span style=\"font-weight: bold\">}</span>,\n",
       "    <span style=\"color: #008000; text-decoration-color: #008000\">'a_null'</span>: <span style=\"font-weight: bold\">{</span><span style=\"color: #008000; text-decoration-color: #008000\">'NULL'</span>: <span style=\"color: #00ff00; text-decoration-color: #00ff00; font-style: italic\">True</span><span style=\"font-weight: bold\">}</span>\n",
       "<span style=\"font-weight: bold\">}</span>\n",
       "</pre>\n"
      ],
      "text/plain": [
       "\u001b[1m{\u001b[0m\n",
       "    \u001b[32m'a_int'\u001b[0m: \u001b[1m{\u001b[0m\u001b[32m'N'\u001b[0m: \u001b[32m'-999'\u001b[0m\u001b[1m}\u001b[0m,\n",
       "    \u001b[32m'a_float'\u001b[0m: \u001b[1m{\u001b[0m\u001b[32m'N'\u001b[0m: \u001b[32m'-999.999'\u001b[0m\u001b[1m}\u001b[0m,\n",
       "    \u001b[32m'a_str'\u001b[0m: \u001b[1m{\u001b[0m\u001b[32m'S'\u001b[0m: \u001b[32m'NA'\u001b[0m\u001b[1m}\u001b[0m,\n",
       "    \u001b[32m'a_bin'\u001b[0m: \u001b[1m{\u001b[0m\u001b[32m'B'\u001b[0m: \u001b[32m'\u001b[0m\u001b[32mTkE\u001b[0m\u001b[32m='\u001b[0m\u001b[1m}\u001b[0m,\n",
       "    \u001b[32m'a_bool'\u001b[0m: \u001b[1m{\u001b[0m\u001b[32m'BOOL'\u001b[0m: \u001b[3;91mFalse\u001b[0m\u001b[1m}\u001b[0m,\n",
       "    \u001b[32m'a_null'\u001b[0m: \u001b[1m{\u001b[0m\u001b[32m'NULL'\u001b[0m: \u001b[3;92mTrue\u001b[0m\u001b[1m}\u001b[0m\n",
       "\u001b[1m}\u001b[0m\n"
      ]
     },
     "metadata": {},
     "output_type": "display_data"
    }
   ],
   "source": [
    "df = pl.DataFrame(\n",
    "    [\n",
    "        {\n",
    "            \"Data\": {\n",
    "                \"a_int\": 123,\n",
    "                \"a_float\": 1.23,\n",
    "                \"a_str\": \"Alice\",\n",
    "                \"a_bin\": b\"hello\",\n",
    "                \"a_bool\": False,\n",
    "                \"a_null\": None,\n",
    "            }\n",
    "        },\n",
    "        {\n",
    "            \"Data\": {\n",
    "                \"a_int\": None,\n",
    "                \"a_float\": None,\n",
    "                \"a_str\": None,\n",
    "                \"a_bin\": None,\n",
    "                \"a_bool\": None,\n",
    "                \"a_null\": None,\n",
    "            }\n",
    "        },\n",
    "    ],\n",
    "    schema={\n",
    "        \"Data\": pl.Struct(\n",
    "            {\n",
    "                \"a_int\": pl.Int64(),\n",
    "                \"a_float\": pl.Float64(),\n",
    "                \"a_str\": pl.Utf8(),\n",
    "                \"a_bin\": pl.Binary(),\n",
    "                \"a_bool\": pl.Boolean(),\n",
    "                \"a_null\": pl.Null(),\n",
    "            }\n",
    "        ),\n",
    "    },\n",
    "    strict=False,\n",
    ")\n",
    "print(df.shape)\n",
    "print_df(df)\n",
    "\n",
    "df_res = df.with_columns(\n",
    "    pl.struct(\n",
    "        pl.col(\"Data\").struct.field(\"a_int\").fill_null(-999).cast(pl.Utf8).alias(\"N\"),\n",
    "    ).alias(\"a_int\"),\n",
    "    pl.struct(\n",
    "        pl.col(\"Data\").struct.field(\"a_float\").fill_null(-999.999).cast(pl.Utf8).alias(\"N\"),\n",
    "    ).alias(\"a_float\"),\n",
    "    pl.struct(\n",
    "        pl.col(\"Data\").struct.field(\"a_str\").fill_null(\"NA\").cast(pl.Utf8).alias(\"S\"),\n",
    "    ).alias(\"a_str\"),\n",
    "    pl.struct(\n",
    "        pl.col(\"Data\").struct.field(\"a_bin\").fill_null(b\"NA\").bin.encode(\"base64\").cast(pl.Utf8).alias(\"B\"),\n",
    "    ).alias(\"a_bin\"),\n",
    "    pl.struct(\n",
    "        pl.col(\"Data\").struct.field(\"a_bool\").fill_null(False).alias(\"BOOL\"),\n",
    "    ).alias(\"a_bool\"),\n",
    "    pl.struct(\n",
    "        pl.lit(True).alias(\"NULL\"),\n",
    "    ).alias(\"a_null\"),\n",
    ").drop(\"Data\")\n",
    "print_df(df_res)"
   ]
  },
  {
   "cell_type": "markdown",
   "id": "e44374a24ff0082a",
   "metadata": {
    "collapsed": false,
    "jupyter": {
     "outputs_hidden": false
    }
   },
   "source": [
    "### Serialize a List of Integer"
   ]
  },
  {
   "cell_type": "code",
   "execution_count": 81,
   "id": "33eaabe43d75554a",
   "metadata": {
    "ExecuteTime": {
     "end_time": "2024-08-07T14:21:07.036646Z",
     "start_time": "2024-08-07T14:21:07.030374Z"
    },
    "collapsed": false,
    "jupyter": {
     "outputs_hidden": false
    }
   },
   "outputs": [
    {
     "name": "stdout",
     "output_type": "stream",
     "text": [
      "-------------------- schema --------------------\n"
     ]
    },
    {
     "data": {
      "text/html": [
       "<pre style=\"white-space:pre;overflow-x:auto;line-height:normal;font-family:Menlo,'DejaVu Sans Mono',consolas,'Courier New',monospace\"><span style=\"color: #800080; text-decoration-color: #800080; font-weight: bold\">Schema</span><span style=\"font-weight: bold\">([(</span><span style=\"color: #008000; text-decoration-color: #008000\">'Data'</span>, <span style=\"color: #800080; text-decoration-color: #800080; font-weight: bold\">Struct</span><span style=\"font-weight: bold\">({</span><span style=\"color: #008000; text-decoration-color: #008000\">'a_int_list'</span>: <span style=\"color: #800080; text-decoration-color: #800080; font-weight: bold\">List</span><span style=\"font-weight: bold\">(</span>Int64<span style=\"font-weight: bold\">)}))])</span>\n",
       "</pre>\n"
      ],
      "text/plain": [
       "\u001b[1;35mSchema\u001b[0m\u001b[1m(\u001b[0m\u001b[1m[\u001b[0m\u001b[1m(\u001b[0m\u001b[32m'Data'\u001b[0m, \u001b[1;35mStruct\u001b[0m\u001b[1m(\u001b[0m\u001b[1m{\u001b[0m\u001b[32m'a_int_list'\u001b[0m: \u001b[1;35mList\u001b[0m\u001b[1m(\u001b[0mInt64\u001b[1m)\u001b[0m\u001b[1m}\u001b[0m\u001b[1m)\u001b[0m\u001b[1m)\u001b[0m\u001b[1m]\u001b[0m\u001b[1m)\u001b[0m\n"
      ]
     },
     "metadata": {},
     "output_type": "display_data"
    },
    {
     "name": "stdout",
     "output_type": "stream",
     "text": [
      "-------------------- df records --------------------\n"
     ]
    },
    {
     "data": {
      "text/html": [
       "<pre style=\"white-space:pre;overflow-x:auto;line-height:normal;font-family:Menlo,'DejaVu Sans Mono',consolas,'Courier New',monospace\"><span style=\"font-weight: bold\">{</span><span style=\"color: #008000; text-decoration-color: #008000\">'Data'</span>: <span style=\"font-weight: bold\">{</span><span style=\"color: #008000; text-decoration-color: #008000\">'a_int_list'</span>: <span style=\"font-weight: bold\">[</span><span style=\"color: #008080; text-decoration-color: #008080; font-weight: bold\">1</span>, <span style=\"color: #008080; text-decoration-color: #008080; font-weight: bold\">2</span>, <span style=\"color: #008080; text-decoration-color: #008080; font-weight: bold\">3</span><span style=\"font-weight: bold\">]}}</span>\n",
       "</pre>\n"
      ],
      "text/plain": [
       "\u001b[1m{\u001b[0m\u001b[32m'Data'\u001b[0m: \u001b[1m{\u001b[0m\u001b[32m'a_int_list'\u001b[0m: \u001b[1m[\u001b[0m\u001b[1;36m1\u001b[0m, \u001b[1;36m2\u001b[0m, \u001b[1;36m3\u001b[0m\u001b[1m]\u001b[0m\u001b[1m}\u001b[0m\u001b[1m}\u001b[0m\n"
      ]
     },
     "metadata": {},
     "output_type": "display_data"
    },
    {
     "data": {
      "text/html": [
       "<pre style=\"white-space:pre;overflow-x:auto;line-height:normal;font-family:Menlo,'DejaVu Sans Mono',consolas,'Courier New',monospace\"><span style=\"font-weight: bold\">{</span><span style=\"color: #008000; text-decoration-color: #008000\">'Data'</span>: <span style=\"font-weight: bold\">{</span><span style=\"color: #008000; text-decoration-color: #008000\">'a_int_list'</span>: <span style=\"font-weight: bold\">[</span><span style=\"color: #800080; text-decoration-color: #800080; font-style: italic\">None</span>, <span style=\"color: #800080; text-decoration-color: #800080; font-style: italic\">None</span>, <span style=\"color: #800080; text-decoration-color: #800080; font-style: italic\">None</span><span style=\"font-weight: bold\">]}}</span>\n",
       "</pre>\n"
      ],
      "text/plain": [
       "\u001b[1m{\u001b[0m\u001b[32m'Data'\u001b[0m: \u001b[1m{\u001b[0m\u001b[32m'a_int_list'\u001b[0m: \u001b[1m[\u001b[0m\u001b[3;35mNone\u001b[0m, \u001b[3;35mNone\u001b[0m, \u001b[3;35mNone\u001b[0m\u001b[1m]\u001b[0m\u001b[1m}\u001b[0m\u001b[1m}\u001b[0m\n"
      ]
     },
     "metadata": {},
     "output_type": "display_data"
    },
    {
     "data": {
      "text/html": [
       "<pre style=\"white-space:pre;overflow-x:auto;line-height:normal;font-family:Menlo,'DejaVu Sans Mono',consolas,'Courier New',monospace\"><span style=\"font-weight: bold\">{</span><span style=\"color: #008000; text-decoration-color: #008000\">'Data'</span>: <span style=\"font-weight: bold\">{</span><span style=\"color: #008000; text-decoration-color: #008000\">'a_int_list'</span>: <span style=\"color: #800080; text-decoration-color: #800080; font-style: italic\">None</span><span style=\"font-weight: bold\">}}</span>\n",
       "</pre>\n"
      ],
      "text/plain": [
       "\u001b[1m{\u001b[0m\u001b[32m'Data'\u001b[0m: \u001b[1m{\u001b[0m\u001b[32m'a_int_list'\u001b[0m: \u001b[3;35mNone\u001b[0m\u001b[1m}\u001b[0m\u001b[1m}\u001b[0m\n"
      ]
     },
     "metadata": {},
     "output_type": "display_data"
    },
    {
     "name": "stdout",
     "output_type": "stream",
     "text": [
      "-------------------- schema --------------------\n"
     ]
    },
    {
     "data": {
      "text/html": [
       "<pre style=\"white-space:pre;overflow-x:auto;line-height:normal;font-family:Menlo,'DejaVu Sans Mono',consolas,'Courier New',monospace\"><span style=\"color: #800080; text-decoration-color: #800080; font-weight: bold\">Schema</span><span style=\"font-weight: bold\">([(</span><span style=\"color: #008000; text-decoration-color: #008000\">'a_int_list'</span>, <span style=\"color: #800080; text-decoration-color: #800080; font-weight: bold\">Struct</span><span style=\"font-weight: bold\">({</span><span style=\"color: #008000; text-decoration-color: #008000\">'L'</span>: <span style=\"color: #800080; text-decoration-color: #800080; font-weight: bold\">List</span><span style=\"font-weight: bold\">(</span><span style=\"color: #800080; text-decoration-color: #800080; font-weight: bold\">Struct</span><span style=\"font-weight: bold\">({</span><span style=\"color: #008000; text-decoration-color: #008000\">'N'</span>: String<span style=\"font-weight: bold\">}))}))])</span>\n",
       "</pre>\n"
      ],
      "text/plain": [
       "\u001b[1;35mSchema\u001b[0m\u001b[1m(\u001b[0m\u001b[1m[\u001b[0m\u001b[1m(\u001b[0m\u001b[32m'a_int_list'\u001b[0m, \u001b[1;35mStruct\u001b[0m\u001b[1m(\u001b[0m\u001b[1m{\u001b[0m\u001b[32m'L'\u001b[0m: \u001b[1;35mList\u001b[0m\u001b[1m(\u001b[0m\u001b[1;35mStruct\u001b[0m\u001b[1m(\u001b[0m\u001b[1m{\u001b[0m\u001b[32m'N'\u001b[0m: String\u001b[1m}\u001b[0m\u001b[1m)\u001b[0m\u001b[1m)\u001b[0m\u001b[1m}\u001b[0m\u001b[1m)\u001b[0m\u001b[1m)\u001b[0m\u001b[1m]\u001b[0m\u001b[1m)\u001b[0m\n"
      ]
     },
     "metadata": {},
     "output_type": "display_data"
    },
    {
     "name": "stdout",
     "output_type": "stream",
     "text": [
      "-------------------- df records --------------------\n"
     ]
    },
    {
     "data": {
      "text/html": [
       "<pre style=\"white-space:pre;overflow-x:auto;line-height:normal;font-family:Menlo,'DejaVu Sans Mono',consolas,'Courier New',monospace\"><span style=\"font-weight: bold\">{</span><span style=\"color: #008000; text-decoration-color: #008000\">'a_int_list'</span>: <span style=\"font-weight: bold\">{</span><span style=\"color: #008000; text-decoration-color: #008000\">'L'</span>: <span style=\"font-weight: bold\">[{</span><span style=\"color: #008000; text-decoration-color: #008000\">'N'</span>: <span style=\"color: #008000; text-decoration-color: #008000\">'1'</span><span style=\"font-weight: bold\">}</span>, <span style=\"font-weight: bold\">{</span><span style=\"color: #008000; text-decoration-color: #008000\">'N'</span>: <span style=\"color: #008000; text-decoration-color: #008000\">'2'</span><span style=\"font-weight: bold\">}</span>, <span style=\"font-weight: bold\">{</span><span style=\"color: #008000; text-decoration-color: #008000\">'N'</span>: <span style=\"color: #008000; text-decoration-color: #008000\">'3'</span><span style=\"font-weight: bold\">}]}}</span>\n",
       "</pre>\n"
      ],
      "text/plain": [
       "\u001b[1m{\u001b[0m\u001b[32m'a_int_list'\u001b[0m: \u001b[1m{\u001b[0m\u001b[32m'L'\u001b[0m: \u001b[1m[\u001b[0m\u001b[1m{\u001b[0m\u001b[32m'N'\u001b[0m: \u001b[32m'1'\u001b[0m\u001b[1m}\u001b[0m, \u001b[1m{\u001b[0m\u001b[32m'N'\u001b[0m: \u001b[32m'2'\u001b[0m\u001b[1m}\u001b[0m, \u001b[1m{\u001b[0m\u001b[32m'N'\u001b[0m: \u001b[32m'3'\u001b[0m\u001b[1m}\u001b[0m\u001b[1m]\u001b[0m\u001b[1m}\u001b[0m\u001b[1m}\u001b[0m\n"
      ]
     },
     "metadata": {},
     "output_type": "display_data"
    },
    {
     "data": {
      "text/html": [
       "<pre style=\"white-space:pre;overflow-x:auto;line-height:normal;font-family:Menlo,'DejaVu Sans Mono',consolas,'Courier New',monospace\"><span style=\"font-weight: bold\">{</span><span style=\"color: #008000; text-decoration-color: #008000\">'a_int_list'</span>: <span style=\"font-weight: bold\">{</span><span style=\"color: #008000; text-decoration-color: #008000\">'L'</span>: <span style=\"font-weight: bold\">[{</span><span style=\"color: #008000; text-decoration-color: #008000\">'N'</span>: <span style=\"color: #008000; text-decoration-color: #008000\">'-999'</span><span style=\"font-weight: bold\">}</span>, <span style=\"font-weight: bold\">{</span><span style=\"color: #008000; text-decoration-color: #008000\">'N'</span>: <span style=\"color: #008000; text-decoration-color: #008000\">'-999'</span><span style=\"font-weight: bold\">}</span>, <span style=\"font-weight: bold\">{</span><span style=\"color: #008000; text-decoration-color: #008000\">'N'</span>: <span style=\"color: #008000; text-decoration-color: #008000\">'-999'</span><span style=\"font-weight: bold\">}]}}</span>\n",
       "</pre>\n"
      ],
      "text/plain": [
       "\u001b[1m{\u001b[0m\u001b[32m'a_int_list'\u001b[0m: \u001b[1m{\u001b[0m\u001b[32m'L'\u001b[0m: \u001b[1m[\u001b[0m\u001b[1m{\u001b[0m\u001b[32m'N'\u001b[0m: \u001b[32m'-999'\u001b[0m\u001b[1m}\u001b[0m, \u001b[1m{\u001b[0m\u001b[32m'N'\u001b[0m: \u001b[32m'-999'\u001b[0m\u001b[1m}\u001b[0m, \u001b[1m{\u001b[0m\u001b[32m'N'\u001b[0m: \u001b[32m'-999'\u001b[0m\u001b[1m}\u001b[0m\u001b[1m]\u001b[0m\u001b[1m}\u001b[0m\u001b[1m}\u001b[0m\n"
      ]
     },
     "metadata": {},
     "output_type": "display_data"
    },
    {
     "data": {
      "text/html": [
       "<pre style=\"white-space:pre;overflow-x:auto;line-height:normal;font-family:Menlo,'DejaVu Sans Mono',consolas,'Courier New',monospace\"><span style=\"font-weight: bold\">{</span><span style=\"color: #008000; text-decoration-color: #008000\">'a_int_list'</span>: <span style=\"font-weight: bold\">{</span><span style=\"color: #008000; text-decoration-color: #008000\">'L'</span>: <span style=\"font-weight: bold\">[]}}</span>\n",
       "</pre>\n"
      ],
      "text/plain": [
       "\u001b[1m{\u001b[0m\u001b[32m'a_int_list'\u001b[0m: \u001b[1m{\u001b[0m\u001b[32m'L'\u001b[0m: \u001b[1m[\u001b[0m\u001b[1m]\u001b[0m\u001b[1m}\u001b[0m\u001b[1m}\u001b[0m\n"
      ]
     },
     "metadata": {},
     "output_type": "display_data"
    }
   ],
   "source": [
    "df = pl.DataFrame(\n",
    "    [\n",
    "        {\"Data\": {\"a_int_list\": [1, 2, 3]}},\n",
    "        {\"Data\": {\"a_int_list\": [None, None, None]}},\n",
    "        {\"Data\": {\"a_int_list\": None}},\n",
    "    ],\n",
    "    schema={\n",
    "        \"Data\": pl.Struct({\"a_int_list\": pl.List(pl.Int64())}),\n",
    "    }\n",
    ")\n",
    "print_df(df)\n",
    "\n",
    "df_res = df.with_columns(\n",
    "    pl.struct(\n",
    "        pl.col(\"Data\").struct.field(\"a_int_list\").fill_null([]).list.eval(\n",
    "            pl.struct(\n",
    "                pl.element().fill_null(-999).cast(pl.Utf8()).alias(\"N\")\n",
    "            )\n",
    "        ).alias(\"L\")\n",
    "    ).alias(\"a_int_list\")\n",
    ").drop(\"Data\")\n",
    "print_df(df_res)"
   ]
  },
  {
   "cell_type": "markdown",
   "id": "a3b45d004fdc0fb4",
   "metadata": {
    "collapsed": false,
    "jupyter": {
     "outputs_hidden": false
    }
   },
   "source": [
    "### Serialize a List of Null"
   ]
  },
  {
   "cell_type": "code",
   "execution_count": 82,
   "id": "cbda39f45a1d114d",
   "metadata": {
    "ExecuteTime": {
     "end_time": "2024-08-07T15:50:03.730384Z",
     "start_time": "2024-08-07T15:50:03.718255Z"
    },
    "collapsed": false,
    "jupyter": {
     "outputs_hidden": false
    }
   },
   "outputs": [
    {
     "name": "stdout",
     "output_type": "stream",
     "text": [
      "-------------------- schema --------------------\n"
     ]
    },
    {
     "data": {
      "text/html": [
       "<pre style=\"white-space:pre;overflow-x:auto;line-height:normal;font-family:Menlo,'DejaVu Sans Mono',consolas,'Courier New',monospace\"><span style=\"color: #800080; text-decoration-color: #800080; font-weight: bold\">Schema</span><span style=\"font-weight: bold\">([(</span><span style=\"color: #008000; text-decoration-color: #008000\">'Data'</span>, <span style=\"color: #800080; text-decoration-color: #800080; font-weight: bold\">Struct</span><span style=\"font-weight: bold\">({</span><span style=\"color: #008000; text-decoration-color: #008000\">'a_null_list'</span>: <span style=\"color: #800080; text-decoration-color: #800080; font-weight: bold\">List</span><span style=\"font-weight: bold\">(</span>Null<span style=\"font-weight: bold\">)}))])</span>\n",
       "</pre>\n"
      ],
      "text/plain": [
       "\u001b[1;35mSchema\u001b[0m\u001b[1m(\u001b[0m\u001b[1m[\u001b[0m\u001b[1m(\u001b[0m\u001b[32m'Data'\u001b[0m, \u001b[1;35mStruct\u001b[0m\u001b[1m(\u001b[0m\u001b[1m{\u001b[0m\u001b[32m'a_null_list'\u001b[0m: \u001b[1;35mList\u001b[0m\u001b[1m(\u001b[0mNull\u001b[1m)\u001b[0m\u001b[1m}\u001b[0m\u001b[1m)\u001b[0m\u001b[1m)\u001b[0m\u001b[1m]\u001b[0m\u001b[1m)\u001b[0m\n"
      ]
     },
     "metadata": {},
     "output_type": "display_data"
    },
    {
     "name": "stdout",
     "output_type": "stream",
     "text": [
      "-------------------- df records --------------------\n"
     ]
    },
    {
     "data": {
      "text/html": [
       "<pre style=\"white-space:pre;overflow-x:auto;line-height:normal;font-family:Menlo,'DejaVu Sans Mono',consolas,'Courier New',monospace\"><span style=\"font-weight: bold\">{</span><span style=\"color: #008000; text-decoration-color: #008000\">'Data'</span>: <span style=\"font-weight: bold\">{</span><span style=\"color: #008000; text-decoration-color: #008000\">'a_null_list'</span>: <span style=\"font-weight: bold\">[</span><span style=\"color: #800080; text-decoration-color: #800080; font-style: italic\">None</span>, <span style=\"color: #800080; text-decoration-color: #800080; font-style: italic\">None</span>, <span style=\"color: #800080; text-decoration-color: #800080; font-style: italic\">None</span><span style=\"font-weight: bold\">]}}</span>\n",
       "</pre>\n"
      ],
      "text/plain": [
       "\u001b[1m{\u001b[0m\u001b[32m'Data'\u001b[0m: \u001b[1m{\u001b[0m\u001b[32m'a_null_list'\u001b[0m: \u001b[1m[\u001b[0m\u001b[3;35mNone\u001b[0m, \u001b[3;35mNone\u001b[0m, \u001b[3;35mNone\u001b[0m\u001b[1m]\u001b[0m\u001b[1m}\u001b[0m\u001b[1m}\u001b[0m\n"
      ]
     },
     "metadata": {},
     "output_type": "display_data"
    },
    {
     "name": "stdout",
     "output_type": "stream",
     "text": [
      "-------------------- schema --------------------\n"
     ]
    },
    {
     "data": {
      "text/html": [
       "<pre style=\"white-space:pre;overflow-x:auto;line-height:normal;font-family:Menlo,'DejaVu Sans Mono',consolas,'Courier New',monospace\"><span style=\"color: #800080; text-decoration-color: #800080; font-weight: bold\">Schema</span><span style=\"font-weight: bold\">([(</span><span style=\"color: #008000; text-decoration-color: #008000\">'a_null_list'</span>, <span style=\"color: #800080; text-decoration-color: #800080; font-weight: bold\">Struct</span><span style=\"font-weight: bold\">({</span><span style=\"color: #008000; text-decoration-color: #008000\">'L'</span>: <span style=\"color: #800080; text-decoration-color: #800080; font-weight: bold\">List</span><span style=\"font-weight: bold\">(</span><span style=\"color: #800080; text-decoration-color: #800080; font-weight: bold\">Struct</span><span style=\"font-weight: bold\">({</span><span style=\"color: #008000; text-decoration-color: #008000\">'NULL'</span>: Boolean<span style=\"font-weight: bold\">}))}))])</span>\n",
       "</pre>\n"
      ],
      "text/plain": [
       "\u001b[1;35mSchema\u001b[0m\u001b[1m(\u001b[0m\u001b[1m[\u001b[0m\u001b[1m(\u001b[0m\u001b[32m'a_null_list'\u001b[0m, \u001b[1;35mStruct\u001b[0m\u001b[1m(\u001b[0m\u001b[1m{\u001b[0m\u001b[32m'L'\u001b[0m: \u001b[1;35mList\u001b[0m\u001b[1m(\u001b[0m\u001b[1;35mStruct\u001b[0m\u001b[1m(\u001b[0m\u001b[1m{\u001b[0m\u001b[32m'NULL'\u001b[0m: Boolean\u001b[1m}\u001b[0m\u001b[1m)\u001b[0m\u001b[1m)\u001b[0m\u001b[1m}\u001b[0m\u001b[1m)\u001b[0m\u001b[1m)\u001b[0m\u001b[1m]\u001b[0m\u001b[1m)\u001b[0m\n"
      ]
     },
     "metadata": {},
     "output_type": "display_data"
    },
    {
     "name": "stdout",
     "output_type": "stream",
     "text": [
      "-------------------- df records --------------------\n"
     ]
    },
    {
     "data": {
      "text/html": [
       "<pre style=\"white-space:pre;overflow-x:auto;line-height:normal;font-family:Menlo,'DejaVu Sans Mono',consolas,'Courier New',monospace\"><span style=\"font-weight: bold\">{</span><span style=\"color: #008000; text-decoration-color: #008000\">'a_null_list'</span>: <span style=\"font-weight: bold\">{</span><span style=\"color: #008000; text-decoration-color: #008000\">'L'</span>: <span style=\"font-weight: bold\">[{</span><span style=\"color: #008000; text-decoration-color: #008000\">'NULL'</span>: <span style=\"color: #00ff00; text-decoration-color: #00ff00; font-style: italic\">True</span><span style=\"font-weight: bold\">}</span>, <span style=\"font-weight: bold\">{</span><span style=\"color: #008000; text-decoration-color: #008000\">'NULL'</span>: <span style=\"color: #00ff00; text-decoration-color: #00ff00; font-style: italic\">True</span><span style=\"font-weight: bold\">}</span>, <span style=\"font-weight: bold\">{</span><span style=\"color: #008000; text-decoration-color: #008000\">'NULL'</span>: <span style=\"color: #00ff00; text-decoration-color: #00ff00; font-style: italic\">True</span><span style=\"font-weight: bold\">}]}}</span>\n",
       "</pre>\n"
      ],
      "text/plain": [
       "\u001b[1m{\u001b[0m\u001b[32m'a_null_list'\u001b[0m: \u001b[1m{\u001b[0m\u001b[32m'L'\u001b[0m: \u001b[1m[\u001b[0m\u001b[1m{\u001b[0m\u001b[32m'NULL'\u001b[0m: \u001b[3;92mTrue\u001b[0m\u001b[1m}\u001b[0m, \u001b[1m{\u001b[0m\u001b[32m'NULL'\u001b[0m: \u001b[3;92mTrue\u001b[0m\u001b[1m}\u001b[0m, \u001b[1m{\u001b[0m\u001b[32m'NULL'\u001b[0m: \u001b[3;92mTrue\u001b[0m\u001b[1m}\u001b[0m\u001b[1m]\u001b[0m\u001b[1m}\u001b[0m\u001b[1m}\u001b[0m\n"
      ]
     },
     "metadata": {},
     "output_type": "display_data"
    }
   ],
   "source": [
    "df = pl.DataFrame(\n",
    "    [\n",
    "        {\"Data\": {\"a_null_list\": [None, None, None]}},\n",
    "        # {\"Data\": {\"a_null_list\": None}},\n",
    "    ],\n",
    "    schema={\n",
    "        \"Data\": pl.Struct({\"a_null_list\": pl.List(pl.Null())}),\n",
    "    }\n",
    ")\n",
    "print_df(df)\n",
    "\n",
    "df_res = df.with_columns(\n",
    "    pl.struct(\n",
    "        pl.col(\"Data\").struct.field(\"a_null_list\").fill_null([]).list.eval(\n",
    "            pl.struct(pl.element().fill_null(value=True).alias(\"NULL\"))\n",
    "        ).alias(\"L\")\n",
    "    ).alias(\"a_null_list\")\n",
    ").drop(\"Data\")\n",
    "print_df(df_res)"
   ]
  },
  {
   "cell_type": "markdown",
   "id": "d183ab31e0a76067",
   "metadata": {
    "collapsed": false,
    "jupyter": {
     "outputs_hidden": false
    }
   },
   "source": [
    "### Serialize a Struct"
   ]
  },
  {
   "cell_type": "code",
   "execution_count": 83,
   "id": "d9220566924768f9",
   "metadata": {
    "ExecuteTime": {
     "end_time": "2024-08-07T16:42:48.168700Z",
     "start_time": "2024-08-07T16:42:48.135533Z"
    },
    "collapsed": false,
    "jupyter": {
     "outputs_hidden": false
    }
   },
   "outputs": [
    {
     "name": "stdout",
     "output_type": "stream",
     "text": [
      "-------------------- schema --------------------\n"
     ]
    },
    {
     "data": {
      "text/html": [
       "<pre style=\"white-space:pre;overflow-x:auto;line-height:normal;font-family:Menlo,'DejaVu Sans Mono',consolas,'Courier New',monospace\"><span style=\"color: #800080; text-decoration-color: #800080; font-weight: bold\">Schema</span><span style=\"font-weight: bold\">([(</span><span style=\"color: #008000; text-decoration-color: #008000\">'Data'</span>, <span style=\"color: #800080; text-decoration-color: #800080; font-weight: bold\">Struct</span><span style=\"font-weight: bold\">({</span><span style=\"color: #008000; text-decoration-color: #008000\">'a_struct'</span>: <span style=\"color: #800080; text-decoration-color: #800080; font-weight: bold\">Struct</span><span style=\"font-weight: bold\">({</span><span style=\"color: #008000; text-decoration-color: #008000\">'id'</span>: Int64, <span style=\"color: #008000; text-decoration-color: #008000\">'name'</span>: String<span style=\"font-weight: bold\">})}))])</span>\n",
       "</pre>\n"
      ],
      "text/plain": [
       "\u001b[1;35mSchema\u001b[0m\u001b[1m(\u001b[0m\u001b[1m[\u001b[0m\u001b[1m(\u001b[0m\u001b[32m'Data'\u001b[0m, \u001b[1;35mStruct\u001b[0m\u001b[1m(\u001b[0m\u001b[1m{\u001b[0m\u001b[32m'a_struct'\u001b[0m: \u001b[1;35mStruct\u001b[0m\u001b[1m(\u001b[0m\u001b[1m{\u001b[0m\u001b[32m'id'\u001b[0m: Int64, \u001b[32m'name'\u001b[0m: String\u001b[1m}\u001b[0m\u001b[1m)\u001b[0m\u001b[1m}\u001b[0m\u001b[1m)\u001b[0m\u001b[1m)\u001b[0m\u001b[1m]\u001b[0m\u001b[1m)\u001b[0m\n"
      ]
     },
     "metadata": {},
     "output_type": "display_data"
    },
    {
     "name": "stdout",
     "output_type": "stream",
     "text": [
      "-------------------- df records --------------------\n"
     ]
    },
    {
     "data": {
      "text/html": [
       "<pre style=\"white-space:pre;overflow-x:auto;line-height:normal;font-family:Menlo,'DejaVu Sans Mono',consolas,'Courier New',monospace\"><span style=\"font-weight: bold\">{</span><span style=\"color: #008000; text-decoration-color: #008000\">'Data'</span>: <span style=\"font-weight: bold\">{</span><span style=\"color: #008000; text-decoration-color: #008000\">'a_struct'</span>: <span style=\"font-weight: bold\">{</span><span style=\"color: #008000; text-decoration-color: #008000\">'id'</span>: <span style=\"color: #008080; text-decoration-color: #008080; font-weight: bold\">1</span>, <span style=\"color: #008000; text-decoration-color: #008000\">'name'</span>: <span style=\"color: #008000; text-decoration-color: #008000\">'Alice'</span><span style=\"font-weight: bold\">}}}</span>\n",
       "</pre>\n"
      ],
      "text/plain": [
       "\u001b[1m{\u001b[0m\u001b[32m'Data'\u001b[0m: \u001b[1m{\u001b[0m\u001b[32m'a_struct'\u001b[0m: \u001b[1m{\u001b[0m\u001b[32m'id'\u001b[0m: \u001b[1;36m1\u001b[0m, \u001b[32m'name'\u001b[0m: \u001b[32m'Alice'\u001b[0m\u001b[1m}\u001b[0m\u001b[1m}\u001b[0m\u001b[1m}\u001b[0m\n"
      ]
     },
     "metadata": {},
     "output_type": "display_data"
    },
    {
     "data": {
      "text/html": [
       "<pre style=\"white-space:pre;overflow-x:auto;line-height:normal;font-family:Menlo,'DejaVu Sans Mono',consolas,'Courier New',monospace\"><span style=\"font-weight: bold\">{</span><span style=\"color: #008000; text-decoration-color: #008000\">'Data'</span>: <span style=\"font-weight: bold\">{</span><span style=\"color: #008000; text-decoration-color: #008000\">'a_struct'</span>: <span style=\"font-weight: bold\">{</span><span style=\"color: #008000; text-decoration-color: #008000\">'id'</span>: <span style=\"color: #800080; text-decoration-color: #800080; font-style: italic\">None</span>, <span style=\"color: #008000; text-decoration-color: #008000\">'name'</span>: <span style=\"color: #800080; text-decoration-color: #800080; font-style: italic\">None</span><span style=\"font-weight: bold\">}}}</span>\n",
       "</pre>\n"
      ],
      "text/plain": [
       "\u001b[1m{\u001b[0m\u001b[32m'Data'\u001b[0m: \u001b[1m{\u001b[0m\u001b[32m'a_struct'\u001b[0m: \u001b[1m{\u001b[0m\u001b[32m'id'\u001b[0m: \u001b[3;35mNone\u001b[0m, \u001b[32m'name'\u001b[0m: \u001b[3;35mNone\u001b[0m\u001b[1m}\u001b[0m\u001b[1m}\u001b[0m\u001b[1m}\u001b[0m\n"
      ]
     },
     "metadata": {},
     "output_type": "display_data"
    },
    {
     "data": {
      "text/html": [
       "<pre style=\"white-space:pre;overflow-x:auto;line-height:normal;font-family:Menlo,'DejaVu Sans Mono',consolas,'Courier New',monospace\"><span style=\"font-weight: bold\">{</span><span style=\"color: #008000; text-decoration-color: #008000\">'Data'</span>: <span style=\"font-weight: bold\">{</span><span style=\"color: #008000; text-decoration-color: #008000\">'a_struct'</span>: <span style=\"color: #800080; text-decoration-color: #800080; font-style: italic\">None</span><span style=\"font-weight: bold\">}}</span>\n",
       "</pre>\n"
      ],
      "text/plain": [
       "\u001b[1m{\u001b[0m\u001b[32m'Data'\u001b[0m: \u001b[1m{\u001b[0m\u001b[32m'a_struct'\u001b[0m: \u001b[3;35mNone\u001b[0m\u001b[1m}\u001b[0m\u001b[1m}\u001b[0m\n"
      ]
     },
     "metadata": {},
     "output_type": "display_data"
    },
    {
     "name": "stdout",
     "output_type": "stream",
     "text": [
      "-------------------- schema --------------------\n"
     ]
    },
    {
     "data": {
      "text/html": [
       "<pre style=\"white-space:pre;overflow-x:auto;line-height:normal;font-family:Menlo,'DejaVu Sans Mono',consolas,'Courier New',monospace\"><span style=\"color: #800080; text-decoration-color: #800080; font-weight: bold\">Schema</span><span style=\"font-weight: bold\">([(</span><span style=\"color: #008000; text-decoration-color: #008000\">'a_struct'</span>, <span style=\"color: #800080; text-decoration-color: #800080; font-weight: bold\">Struct</span><span style=\"font-weight: bold\">({</span><span style=\"color: #008000; text-decoration-color: #008000\">'M'</span>: <span style=\"color: #800080; text-decoration-color: #800080; font-weight: bold\">Struct</span><span style=\"font-weight: bold\">({</span><span style=\"color: #008000; text-decoration-color: #008000\">'id'</span>: <span style=\"color: #800080; text-decoration-color: #800080; font-weight: bold\">Struct</span><span style=\"font-weight: bold\">({</span><span style=\"color: #008000; text-decoration-color: #008000\">'N'</span>: String<span style=\"font-weight: bold\">})</span>, <span style=\"color: #008000; text-decoration-color: #008000\">'name'</span>: <span style=\"color: #800080; text-decoration-color: #800080; font-weight: bold\">Struct</span><span style=\"font-weight: bold\">({</span><span style=\"color: #008000; text-decoration-color: #008000\">'S'</span>: String<span style=\"font-weight: bold\">})})}))])</span>\n",
       "</pre>\n"
      ],
      "text/plain": [
       "\u001b[1;35mSchema\u001b[0m\u001b[1m(\u001b[0m\u001b[1m[\u001b[0m\u001b[1m(\u001b[0m\u001b[32m'a_struct'\u001b[0m, \u001b[1;35mStruct\u001b[0m\u001b[1m(\u001b[0m\u001b[1m{\u001b[0m\u001b[32m'M'\u001b[0m: \u001b[1;35mStruct\u001b[0m\u001b[1m(\u001b[0m\u001b[1m{\u001b[0m\u001b[32m'id'\u001b[0m: \u001b[1;35mStruct\u001b[0m\u001b[1m(\u001b[0m\u001b[1m{\u001b[0m\u001b[32m'N'\u001b[0m: String\u001b[1m}\u001b[0m\u001b[1m)\u001b[0m, \u001b[32m'name'\u001b[0m: \u001b[1;35mStruct\u001b[0m\u001b[1m(\u001b[0m\u001b[1m{\u001b[0m\u001b[32m'S'\u001b[0m: String\u001b[1m}\u001b[0m\u001b[1m)\u001b[0m\u001b[1m}\u001b[0m\u001b[1m)\u001b[0m\u001b[1m}\u001b[0m\u001b[1m)\u001b[0m\u001b[1m)\u001b[0m\u001b[1m]\u001b[0m\u001b[1m)\u001b[0m\n"
      ]
     },
     "metadata": {},
     "output_type": "display_data"
    },
    {
     "name": "stdout",
     "output_type": "stream",
     "text": [
      "-------------------- df records --------------------\n"
     ]
    },
    {
     "data": {
      "text/html": [
       "<pre style=\"white-space:pre;overflow-x:auto;line-height:normal;font-family:Menlo,'DejaVu Sans Mono',consolas,'Courier New',monospace\"><span style=\"font-weight: bold\">{</span><span style=\"color: #008000; text-decoration-color: #008000\">'a_struct'</span>: <span style=\"font-weight: bold\">{</span><span style=\"color: #008000; text-decoration-color: #008000\">'M'</span>: <span style=\"font-weight: bold\">{</span><span style=\"color: #008000; text-decoration-color: #008000\">'id'</span>: <span style=\"font-weight: bold\">{</span><span style=\"color: #008000; text-decoration-color: #008000\">'N'</span>: <span style=\"color: #008000; text-decoration-color: #008000\">'1'</span><span style=\"font-weight: bold\">}</span>, <span style=\"color: #008000; text-decoration-color: #008000\">'name'</span>: <span style=\"font-weight: bold\">{</span><span style=\"color: #008000; text-decoration-color: #008000\">'S'</span>: <span style=\"color: #008000; text-decoration-color: #008000\">'Alice'</span><span style=\"font-weight: bold\">}}}}</span>\n",
       "</pre>\n"
      ],
      "text/plain": [
       "\u001b[1m{\u001b[0m\u001b[32m'a_struct'\u001b[0m: \u001b[1m{\u001b[0m\u001b[32m'M'\u001b[0m: \u001b[1m{\u001b[0m\u001b[32m'id'\u001b[0m: \u001b[1m{\u001b[0m\u001b[32m'N'\u001b[0m: \u001b[32m'1'\u001b[0m\u001b[1m}\u001b[0m, \u001b[32m'name'\u001b[0m: \u001b[1m{\u001b[0m\u001b[32m'S'\u001b[0m: \u001b[32m'Alice'\u001b[0m\u001b[1m}\u001b[0m\u001b[1m}\u001b[0m\u001b[1m}\u001b[0m\u001b[1m}\u001b[0m\n"
      ]
     },
     "metadata": {},
     "output_type": "display_data"
    },
    {
     "data": {
      "text/html": [
       "<pre style=\"white-space:pre;overflow-x:auto;line-height:normal;font-family:Menlo,'DejaVu Sans Mono',consolas,'Courier New',monospace\"><span style=\"font-weight: bold\">{</span><span style=\"color: #008000; text-decoration-color: #008000\">'a_struct'</span>: <span style=\"font-weight: bold\">{</span><span style=\"color: #008000; text-decoration-color: #008000\">'M'</span>: <span style=\"font-weight: bold\">{</span><span style=\"color: #008000; text-decoration-color: #008000\">'id'</span>: <span style=\"font-weight: bold\">{</span><span style=\"color: #008000; text-decoration-color: #008000\">'N'</span>: <span style=\"color: #008000; text-decoration-color: #008000\">'-999'</span><span style=\"font-weight: bold\">}</span>, <span style=\"color: #008000; text-decoration-color: #008000\">'name'</span>: <span style=\"font-weight: bold\">{</span><span style=\"color: #008000; text-decoration-color: #008000\">'S'</span>: <span style=\"color: #008000; text-decoration-color: #008000\">'NA'</span><span style=\"font-weight: bold\">}}}}</span>\n",
       "</pre>\n"
      ],
      "text/plain": [
       "\u001b[1m{\u001b[0m\u001b[32m'a_struct'\u001b[0m: \u001b[1m{\u001b[0m\u001b[32m'M'\u001b[0m: \u001b[1m{\u001b[0m\u001b[32m'id'\u001b[0m: \u001b[1m{\u001b[0m\u001b[32m'N'\u001b[0m: \u001b[32m'-999'\u001b[0m\u001b[1m}\u001b[0m, \u001b[32m'name'\u001b[0m: \u001b[1m{\u001b[0m\u001b[32m'S'\u001b[0m: \u001b[32m'NA'\u001b[0m\u001b[1m}\u001b[0m\u001b[1m}\u001b[0m\u001b[1m}\u001b[0m\u001b[1m}\u001b[0m\n"
      ]
     },
     "metadata": {},
     "output_type": "display_data"
    },
    {
     "data": {
      "text/html": [
       "<pre style=\"white-space:pre;overflow-x:auto;line-height:normal;font-family:Menlo,'DejaVu Sans Mono',consolas,'Courier New',monospace\"><span style=\"font-weight: bold\">{</span><span style=\"color: #008000; text-decoration-color: #008000\">'a_struct'</span>: <span style=\"font-weight: bold\">{</span><span style=\"color: #008000; text-decoration-color: #008000\">'M'</span>: <span style=\"font-weight: bold\">{</span><span style=\"color: #008000; text-decoration-color: #008000\">'id'</span>: <span style=\"font-weight: bold\">{</span><span style=\"color: #008000; text-decoration-color: #008000\">'N'</span>: <span style=\"color: #008000; text-decoration-color: #008000\">'-999'</span><span style=\"font-weight: bold\">}</span>, <span style=\"color: #008000; text-decoration-color: #008000\">'name'</span>: <span style=\"font-weight: bold\">{</span><span style=\"color: #008000; text-decoration-color: #008000\">'S'</span>: <span style=\"color: #008000; text-decoration-color: #008000\">'NA'</span><span style=\"font-weight: bold\">}}}}</span>\n",
       "</pre>\n"
      ],
      "text/plain": [
       "\u001b[1m{\u001b[0m\u001b[32m'a_struct'\u001b[0m: \u001b[1m{\u001b[0m\u001b[32m'M'\u001b[0m: \u001b[1m{\u001b[0m\u001b[32m'id'\u001b[0m: \u001b[1m{\u001b[0m\u001b[32m'N'\u001b[0m: \u001b[32m'-999'\u001b[0m\u001b[1m}\u001b[0m, \u001b[32m'name'\u001b[0m: \u001b[1m{\u001b[0m\u001b[32m'S'\u001b[0m: \u001b[32m'NA'\u001b[0m\u001b[1m}\u001b[0m\u001b[1m}\u001b[0m\u001b[1m}\u001b[0m\u001b[1m}\u001b[0m\n"
      ]
     },
     "metadata": {},
     "output_type": "display_data"
    }
   ],
   "source": [
    "df = pl.DataFrame(\n",
    "    [\n",
    "        {\"Data\": {\"a_struct\": {\"id\": 1, \"name\": \"Alice\"}}},\n",
    "        {\"Data\": {\"a_struct\": {\"id\": None, \"name\": None}}},\n",
    "        {\"Data\": {\"a_struct\": None}},\n",
    "    ],\n",
    "    schema={\n",
    "        \"Data\": pl.Struct({\"a_struct\": pl.Struct({\"id\": pl.Int64(), \"name\": pl.Utf8()})}),\n",
    "    }\n",
    ")\n",
    "print_df(df)\n",
    "\n",
    "df_res = df.with_columns(\n",
    "    pl.struct(\n",
    "        pl.struct(\n",
    "            pl.struct(\n",
    "                pl.col(\"Data\").struct.field(\"a_struct\").struct.field(\"id\").fill_null(-999).cast(pl.Utf8).alias(\"N\")\n",
    "            ).alias(\"id\"),\n",
    "            pl.struct(\n",
    "                pl.col(\"Data\").struct.field(\"a_struct\").struct.field(\"name\").fill_null(\"NA\").alias(\"S\")\n",
    "            ).alias(\"name\"),\n",
    "        ).alias(\"M\")\n",
    "    ).alias(\"a_struct\")\n",
    ").drop(\"Data\")\n",
    "print_df(df_res)"
   ]
  },
  {
   "cell_type": "markdown",
   "id": "feb66f133ca76e6a",
   "metadata": {
    "collapsed": false,
    "jupyter": {
     "outputs_hidden": false
    }
   },
   "source": [
    "### Serialize a Struct with List"
   ]
  },
  {
   "cell_type": "code",
   "execution_count": 84,
   "id": "6702ce91945da2",
   "metadata": {
    "ExecuteTime": {
     "end_time": "2024-08-07T16:45:11.932405Z",
     "start_time": "2024-08-07T16:45:11.913131Z"
    },
    "collapsed": false,
    "jupyter": {
     "outputs_hidden": false
    }
   },
   "outputs": [
    {
     "name": "stdout",
     "output_type": "stream",
     "text": [
      "-------------------- schema --------------------\n"
     ]
    },
    {
     "data": {
      "text/html": [
       "<pre style=\"white-space:pre;overflow-x:auto;line-height:normal;font-family:Menlo,'DejaVu Sans Mono',consolas,'Courier New',monospace\"><span style=\"color: #800080; text-decoration-color: #800080; font-weight: bold\">Schema</span><span style=\"font-weight: bold\">([(</span><span style=\"color: #008000; text-decoration-color: #008000\">'Data'</span>, <span style=\"color: #800080; text-decoration-color: #800080; font-weight: bold\">Struct</span><span style=\"font-weight: bold\">({</span><span style=\"color: #008000; text-decoration-color: #008000\">'a_struct'</span>: <span style=\"color: #800080; text-decoration-color: #800080; font-weight: bold\">Struct</span><span style=\"font-weight: bold\">({</span><span style=\"color: #008000; text-decoration-color: #008000\">'a_int_list'</span>: <span style=\"color: #800080; text-decoration-color: #800080; font-weight: bold\">List</span><span style=\"font-weight: bold\">(</span>Int64<span style=\"font-weight: bold\">)})}))])</span>\n",
       "</pre>\n"
      ],
      "text/plain": [
       "\u001b[1;35mSchema\u001b[0m\u001b[1m(\u001b[0m\u001b[1m[\u001b[0m\u001b[1m(\u001b[0m\u001b[32m'Data'\u001b[0m, \u001b[1;35mStruct\u001b[0m\u001b[1m(\u001b[0m\u001b[1m{\u001b[0m\u001b[32m'a_struct'\u001b[0m: \u001b[1;35mStruct\u001b[0m\u001b[1m(\u001b[0m\u001b[1m{\u001b[0m\u001b[32m'a_int_list'\u001b[0m: \u001b[1;35mList\u001b[0m\u001b[1m(\u001b[0mInt64\u001b[1m)\u001b[0m\u001b[1m}\u001b[0m\u001b[1m)\u001b[0m\u001b[1m}\u001b[0m\u001b[1m)\u001b[0m\u001b[1m)\u001b[0m\u001b[1m]\u001b[0m\u001b[1m)\u001b[0m\n"
      ]
     },
     "metadata": {},
     "output_type": "display_data"
    },
    {
     "name": "stdout",
     "output_type": "stream",
     "text": [
      "-------------------- df records --------------------\n"
     ]
    },
    {
     "data": {
      "text/html": [
       "<pre style=\"white-space:pre;overflow-x:auto;line-height:normal;font-family:Menlo,'DejaVu Sans Mono',consolas,'Courier New',monospace\"><span style=\"font-weight: bold\">{</span><span style=\"color: #008000; text-decoration-color: #008000\">'Data'</span>: <span style=\"font-weight: bold\">{</span><span style=\"color: #008000; text-decoration-color: #008000\">'a_struct'</span>: <span style=\"font-weight: bold\">{</span><span style=\"color: #008000; text-decoration-color: #008000\">'a_int_list'</span>: <span style=\"font-weight: bold\">[</span><span style=\"color: #008080; text-decoration-color: #008080; font-weight: bold\">1</span>, <span style=\"color: #008080; text-decoration-color: #008080; font-weight: bold\">2</span>, <span style=\"color: #008080; text-decoration-color: #008080; font-weight: bold\">3</span><span style=\"font-weight: bold\">]}}}</span>\n",
       "</pre>\n"
      ],
      "text/plain": [
       "\u001b[1m{\u001b[0m\u001b[32m'Data'\u001b[0m: \u001b[1m{\u001b[0m\u001b[32m'a_struct'\u001b[0m: \u001b[1m{\u001b[0m\u001b[32m'a_int_list'\u001b[0m: \u001b[1m[\u001b[0m\u001b[1;36m1\u001b[0m, \u001b[1;36m2\u001b[0m, \u001b[1;36m3\u001b[0m\u001b[1m]\u001b[0m\u001b[1m}\u001b[0m\u001b[1m}\u001b[0m\u001b[1m}\u001b[0m\n"
      ]
     },
     "metadata": {},
     "output_type": "display_data"
    },
    {
     "data": {
      "text/html": [
       "<pre style=\"white-space:pre;overflow-x:auto;line-height:normal;font-family:Menlo,'DejaVu Sans Mono',consolas,'Courier New',monospace\"><span style=\"font-weight: bold\">{</span><span style=\"color: #008000; text-decoration-color: #008000\">'Data'</span>: <span style=\"font-weight: bold\">{</span><span style=\"color: #008000; text-decoration-color: #008000\">'a_struct'</span>: <span style=\"font-weight: bold\">{</span><span style=\"color: #008000; text-decoration-color: #008000\">'a_int_list'</span>: <span style=\"font-weight: bold\">[</span><span style=\"color: #008080; text-decoration-color: #008080; font-weight: bold\">1</span>, <span style=\"color: #800080; text-decoration-color: #800080; font-style: italic\">None</span>, <span style=\"color: #008080; text-decoration-color: #008080; font-weight: bold\">3</span><span style=\"font-weight: bold\">]}}}</span>\n",
       "</pre>\n"
      ],
      "text/plain": [
       "\u001b[1m{\u001b[0m\u001b[32m'Data'\u001b[0m: \u001b[1m{\u001b[0m\u001b[32m'a_struct'\u001b[0m: \u001b[1m{\u001b[0m\u001b[32m'a_int_list'\u001b[0m: \u001b[1m[\u001b[0m\u001b[1;36m1\u001b[0m, \u001b[3;35mNone\u001b[0m, \u001b[1;36m3\u001b[0m\u001b[1m]\u001b[0m\u001b[1m}\u001b[0m\u001b[1m}\u001b[0m\u001b[1m}\u001b[0m\n"
      ]
     },
     "metadata": {},
     "output_type": "display_data"
    },
    {
     "data": {
      "text/html": [
       "<pre style=\"white-space:pre;overflow-x:auto;line-height:normal;font-family:Menlo,'DejaVu Sans Mono',consolas,'Courier New',monospace\"><span style=\"font-weight: bold\">{</span><span style=\"color: #008000; text-decoration-color: #008000\">'Data'</span>: <span style=\"font-weight: bold\">{</span><span style=\"color: #008000; text-decoration-color: #008000\">'a_struct'</span>: <span style=\"font-weight: bold\">{</span><span style=\"color: #008000; text-decoration-color: #008000\">'a_int_list'</span>: <span style=\"font-weight: bold\">[</span><span style=\"color: #800080; text-decoration-color: #800080; font-style: italic\">None</span>, <span style=\"color: #800080; text-decoration-color: #800080; font-style: italic\">None</span>, <span style=\"color: #800080; text-decoration-color: #800080; font-style: italic\">None</span><span style=\"font-weight: bold\">]}}}</span>\n",
       "</pre>\n"
      ],
      "text/plain": [
       "\u001b[1m{\u001b[0m\u001b[32m'Data'\u001b[0m: \u001b[1m{\u001b[0m\u001b[32m'a_struct'\u001b[0m: \u001b[1m{\u001b[0m\u001b[32m'a_int_list'\u001b[0m: \u001b[1m[\u001b[0m\u001b[3;35mNone\u001b[0m, \u001b[3;35mNone\u001b[0m, \u001b[3;35mNone\u001b[0m\u001b[1m]\u001b[0m\u001b[1m}\u001b[0m\u001b[1m}\u001b[0m\u001b[1m}\u001b[0m\n"
      ]
     },
     "metadata": {},
     "output_type": "display_data"
    },
    {
     "data": {
      "text/html": [
       "<pre style=\"white-space:pre;overflow-x:auto;line-height:normal;font-family:Menlo,'DejaVu Sans Mono',consolas,'Courier New',monospace\"><span style=\"font-weight: bold\">{</span><span style=\"color: #008000; text-decoration-color: #008000\">'Data'</span>: <span style=\"font-weight: bold\">{</span><span style=\"color: #008000; text-decoration-color: #008000\">'a_struct'</span>: <span style=\"font-weight: bold\">{</span><span style=\"color: #008000; text-decoration-color: #008000\">'a_int_list'</span>: <span style=\"color: #800080; text-decoration-color: #800080; font-style: italic\">None</span><span style=\"font-weight: bold\">}}}</span>\n",
       "</pre>\n"
      ],
      "text/plain": [
       "\u001b[1m{\u001b[0m\u001b[32m'Data'\u001b[0m: \u001b[1m{\u001b[0m\u001b[32m'a_struct'\u001b[0m: \u001b[1m{\u001b[0m\u001b[32m'a_int_list'\u001b[0m: \u001b[3;35mNone\u001b[0m\u001b[1m}\u001b[0m\u001b[1m}\u001b[0m\u001b[1m}\u001b[0m\n"
      ]
     },
     "metadata": {},
     "output_type": "display_data"
    },
    {
     "data": {
      "text/html": [
       "<pre style=\"white-space:pre;overflow-x:auto;line-height:normal;font-family:Menlo,'DejaVu Sans Mono',consolas,'Courier New',monospace\"><span style=\"font-weight: bold\">{</span><span style=\"color: #008000; text-decoration-color: #008000\">'Data'</span>: <span style=\"font-weight: bold\">{</span><span style=\"color: #008000; text-decoration-color: #008000\">'a_struct'</span>: <span style=\"color: #800080; text-decoration-color: #800080; font-style: italic\">None</span><span style=\"font-weight: bold\">}}</span>\n",
       "</pre>\n"
      ],
      "text/plain": [
       "\u001b[1m{\u001b[0m\u001b[32m'Data'\u001b[0m: \u001b[1m{\u001b[0m\u001b[32m'a_struct'\u001b[0m: \u001b[3;35mNone\u001b[0m\u001b[1m}\u001b[0m\u001b[1m}\u001b[0m\n"
      ]
     },
     "metadata": {},
     "output_type": "display_data"
    },
    {
     "name": "stdout",
     "output_type": "stream",
     "text": [
      "-------------------- schema --------------------\n"
     ]
    },
    {
     "data": {
      "text/html": [
       "<pre style=\"white-space:pre;overflow-x:auto;line-height:normal;font-family:Menlo,'DejaVu Sans Mono',consolas,'Courier New',monospace\"><span style=\"color: #800080; text-decoration-color: #800080; font-weight: bold\">Schema</span><span style=\"font-weight: bold\">([(</span><span style=\"color: #008000; text-decoration-color: #008000\">'a_struct'</span>, <span style=\"color: #800080; text-decoration-color: #800080; font-weight: bold\">Struct</span><span style=\"font-weight: bold\">({</span><span style=\"color: #008000; text-decoration-color: #008000\">'M'</span>: <span style=\"color: #800080; text-decoration-color: #800080; font-weight: bold\">Struct</span><span style=\"font-weight: bold\">({</span><span style=\"color: #008000; text-decoration-color: #008000\">'a_int_list'</span>: <span style=\"color: #800080; text-decoration-color: #800080; font-weight: bold\">Struct</span><span style=\"font-weight: bold\">({</span><span style=\"color: #008000; text-decoration-color: #008000\">'a_int_list'</span>: <span style=\"color: #800080; text-decoration-color: #800080; font-weight: bold\">List</span><span style=\"font-weight: bold\">(</span><span style=\"color: #800080; text-decoration-color: #800080; font-weight: bold\">Struct</span><span style=\"font-weight: bold\">({</span><span style=\"color: #008000; text-decoration-color: #008000\">'N'</span>: String<span style=\"font-weight: bold\">}))})})}))])</span>\n",
       "</pre>\n"
      ],
      "text/plain": [
       "\u001b[1;35mSchema\u001b[0m\u001b[1m(\u001b[0m\u001b[1m[\u001b[0m\u001b[1m(\u001b[0m\u001b[32m'a_struct'\u001b[0m, \u001b[1;35mStruct\u001b[0m\u001b[1m(\u001b[0m\u001b[1m{\u001b[0m\u001b[32m'M'\u001b[0m: \u001b[1;35mStruct\u001b[0m\u001b[1m(\u001b[0m\u001b[1m{\u001b[0m\u001b[32m'a_int_list'\u001b[0m: \u001b[1;35mStruct\u001b[0m\u001b[1m(\u001b[0m\u001b[1m{\u001b[0m\u001b[32m'a_int_list'\u001b[0m: \u001b[1;35mList\u001b[0m\u001b[1m(\u001b[0m\u001b[1;35mStruct\u001b[0m\u001b[1m(\u001b[0m\u001b[1m{\u001b[0m\u001b[32m'N'\u001b[0m: String\u001b[1m}\u001b[0m\u001b[1m)\u001b[0m\u001b[1m)\u001b[0m\u001b[1m}\u001b[0m\u001b[1m)\u001b[0m\u001b[1m}\u001b[0m\u001b[1m)\u001b[0m\u001b[1m}\u001b[0m\u001b[1m)\u001b[0m\u001b[1m)\u001b[0m\u001b[1m]\u001b[0m\u001b[1m)\u001b[0m\n"
      ]
     },
     "metadata": {},
     "output_type": "display_data"
    },
    {
     "name": "stdout",
     "output_type": "stream",
     "text": [
      "-------------------- df records --------------------\n"
     ]
    },
    {
     "data": {
      "text/html": [
       "<pre style=\"white-space:pre;overflow-x:auto;line-height:normal;font-family:Menlo,'DejaVu Sans Mono',consolas,'Courier New',monospace\"><span style=\"font-weight: bold\">{</span><span style=\"color: #008000; text-decoration-color: #008000\">'a_struct'</span>: <span style=\"font-weight: bold\">{</span><span style=\"color: #008000; text-decoration-color: #008000\">'M'</span>: <span style=\"font-weight: bold\">{</span><span style=\"color: #008000; text-decoration-color: #008000\">'a_int_list'</span>: <span style=\"font-weight: bold\">{</span><span style=\"color: #008000; text-decoration-color: #008000\">'a_int_list'</span>: <span style=\"font-weight: bold\">[{</span><span style=\"color: #008000; text-decoration-color: #008000\">'N'</span>: <span style=\"color: #008000; text-decoration-color: #008000\">'1'</span><span style=\"font-weight: bold\">}</span>, <span style=\"font-weight: bold\">{</span><span style=\"color: #008000; text-decoration-color: #008000\">'N'</span>: <span style=\"color: #008000; text-decoration-color: #008000\">'2'</span><span style=\"font-weight: bold\">}</span>, <span style=\"font-weight: bold\">{</span><span style=\"color: #008000; text-decoration-color: #008000\">'N'</span>: <span style=\"color: #008000; text-decoration-color: #008000\">'3'</span><span style=\"font-weight: bold\">}]}}}}</span>\n",
       "</pre>\n"
      ],
      "text/plain": [
       "\u001b[1m{\u001b[0m\u001b[32m'a_struct'\u001b[0m: \u001b[1m{\u001b[0m\u001b[32m'M'\u001b[0m: \u001b[1m{\u001b[0m\u001b[32m'a_int_list'\u001b[0m: \u001b[1m{\u001b[0m\u001b[32m'a_int_list'\u001b[0m: \u001b[1m[\u001b[0m\u001b[1m{\u001b[0m\u001b[32m'N'\u001b[0m: \u001b[32m'1'\u001b[0m\u001b[1m}\u001b[0m, \u001b[1m{\u001b[0m\u001b[32m'N'\u001b[0m: \u001b[32m'2'\u001b[0m\u001b[1m}\u001b[0m, \u001b[1m{\u001b[0m\u001b[32m'N'\u001b[0m: \u001b[32m'3'\u001b[0m\u001b[1m}\u001b[0m\u001b[1m]\u001b[0m\u001b[1m}\u001b[0m\u001b[1m}\u001b[0m\u001b[1m}\u001b[0m\u001b[1m}\u001b[0m\n"
      ]
     },
     "metadata": {},
     "output_type": "display_data"
    },
    {
     "data": {
      "text/html": [
       "<pre style=\"white-space:pre;overflow-x:auto;line-height:normal;font-family:Menlo,'DejaVu Sans Mono',consolas,'Courier New',monospace\"><span style=\"font-weight: bold\">{</span><span style=\"color: #008000; text-decoration-color: #008000\">'a_struct'</span>: <span style=\"font-weight: bold\">{</span><span style=\"color: #008000; text-decoration-color: #008000\">'M'</span>: <span style=\"font-weight: bold\">{</span><span style=\"color: #008000; text-decoration-color: #008000\">'a_int_list'</span>: <span style=\"font-weight: bold\">{</span><span style=\"color: #008000; text-decoration-color: #008000\">'a_int_list'</span>: <span style=\"font-weight: bold\">[{</span><span style=\"color: #008000; text-decoration-color: #008000\">'N'</span>: <span style=\"color: #008000; text-decoration-color: #008000\">'1'</span><span style=\"font-weight: bold\">}</span>, <span style=\"font-weight: bold\">{</span><span style=\"color: #008000; text-decoration-color: #008000\">'N'</span>: <span style=\"color: #008000; text-decoration-color: #008000\">'-999'</span><span style=\"font-weight: bold\">}</span>, <span style=\"font-weight: bold\">{</span><span style=\"color: #008000; text-decoration-color: #008000\">'N'</span>: <span style=\"color: #008000; text-decoration-color: #008000\">'3'</span><span style=\"font-weight: bold\">}]}}}}</span>\n",
       "</pre>\n"
      ],
      "text/plain": [
       "\u001b[1m{\u001b[0m\u001b[32m'a_struct'\u001b[0m: \u001b[1m{\u001b[0m\u001b[32m'M'\u001b[0m: \u001b[1m{\u001b[0m\u001b[32m'a_int_list'\u001b[0m: \u001b[1m{\u001b[0m\u001b[32m'a_int_list'\u001b[0m: \u001b[1m[\u001b[0m\u001b[1m{\u001b[0m\u001b[32m'N'\u001b[0m: \u001b[32m'1'\u001b[0m\u001b[1m}\u001b[0m, \u001b[1m{\u001b[0m\u001b[32m'N'\u001b[0m: \u001b[32m'-999'\u001b[0m\u001b[1m}\u001b[0m, \u001b[1m{\u001b[0m\u001b[32m'N'\u001b[0m: \u001b[32m'3'\u001b[0m\u001b[1m}\u001b[0m\u001b[1m]\u001b[0m\u001b[1m}\u001b[0m\u001b[1m}\u001b[0m\u001b[1m}\u001b[0m\u001b[1m}\u001b[0m\n"
      ]
     },
     "metadata": {},
     "output_type": "display_data"
    },
    {
     "data": {
      "text/html": [
       "<pre style=\"white-space:pre;overflow-x:auto;line-height:normal;font-family:Menlo,'DejaVu Sans Mono',consolas,'Courier New',monospace\"><span style=\"font-weight: bold\">{</span><span style=\"color: #008000; text-decoration-color: #008000\">'a_struct'</span>: <span style=\"font-weight: bold\">{</span><span style=\"color: #008000; text-decoration-color: #008000\">'M'</span>: <span style=\"font-weight: bold\">{</span><span style=\"color: #008000; text-decoration-color: #008000\">'a_int_list'</span>: <span style=\"font-weight: bold\">{</span><span style=\"color: #008000; text-decoration-color: #008000\">'a_int_list'</span>: <span style=\"font-weight: bold\">[{</span><span style=\"color: #008000; text-decoration-color: #008000\">'N'</span>: <span style=\"color: #008000; text-decoration-color: #008000\">'-999'</span><span style=\"font-weight: bold\">}</span>, <span style=\"font-weight: bold\">{</span><span style=\"color: #008000; text-decoration-color: #008000\">'N'</span>: <span style=\"color: #008000; text-decoration-color: #008000\">'-999'</span><span style=\"font-weight: bold\">}</span>, <span style=\"font-weight: bold\">{</span><span style=\"color: #008000; text-decoration-color: #008000\">'N'</span>: <span style=\"color: #008000; text-decoration-color: #008000\">'-999'</span><span style=\"font-weight: bold\">}]}}}}</span>\n",
       "</pre>\n"
      ],
      "text/plain": [
       "\u001b[1m{\u001b[0m\u001b[32m'a_struct'\u001b[0m: \u001b[1m{\u001b[0m\u001b[32m'M'\u001b[0m: \u001b[1m{\u001b[0m\u001b[32m'a_int_list'\u001b[0m: \u001b[1m{\u001b[0m\u001b[32m'a_int_list'\u001b[0m: \u001b[1m[\u001b[0m\u001b[1m{\u001b[0m\u001b[32m'N'\u001b[0m: \u001b[32m'-999'\u001b[0m\u001b[1m}\u001b[0m, \u001b[1m{\u001b[0m\u001b[32m'N'\u001b[0m: \u001b[32m'-999'\u001b[0m\u001b[1m}\u001b[0m, \u001b[1m{\u001b[0m\u001b[32m'N'\u001b[0m: \u001b[32m'-999'\u001b[0m\u001b[1m}\u001b[0m\u001b[1m]\u001b[0m\u001b[1m}\u001b[0m\u001b[1m}\u001b[0m\u001b[1m}\u001b[0m\u001b[1m}\u001b[0m\n"
      ]
     },
     "metadata": {},
     "output_type": "display_data"
    },
    {
     "data": {
      "text/html": [
       "<pre style=\"white-space:pre;overflow-x:auto;line-height:normal;font-family:Menlo,'DejaVu Sans Mono',consolas,'Courier New',monospace\"><span style=\"font-weight: bold\">{</span><span style=\"color: #008000; text-decoration-color: #008000\">'a_struct'</span>: <span style=\"font-weight: bold\">{</span><span style=\"color: #008000; text-decoration-color: #008000\">'M'</span>: <span style=\"font-weight: bold\">{</span><span style=\"color: #008000; text-decoration-color: #008000\">'a_int_list'</span>: <span style=\"font-weight: bold\">{</span><span style=\"color: #008000; text-decoration-color: #008000\">'a_int_list'</span>: <span style=\"font-weight: bold\">[]}}}}</span>\n",
       "</pre>\n"
      ],
      "text/plain": [
       "\u001b[1m{\u001b[0m\u001b[32m'a_struct'\u001b[0m: \u001b[1m{\u001b[0m\u001b[32m'M'\u001b[0m: \u001b[1m{\u001b[0m\u001b[32m'a_int_list'\u001b[0m: \u001b[1m{\u001b[0m\u001b[32m'a_int_list'\u001b[0m: \u001b[1m[\u001b[0m\u001b[1m]\u001b[0m\u001b[1m}\u001b[0m\u001b[1m}\u001b[0m\u001b[1m}\u001b[0m\u001b[1m}\u001b[0m\n"
      ]
     },
     "metadata": {},
     "output_type": "display_data"
    },
    {
     "data": {
      "text/html": [
       "<pre style=\"white-space:pre;overflow-x:auto;line-height:normal;font-family:Menlo,'DejaVu Sans Mono',consolas,'Courier New',monospace\"><span style=\"font-weight: bold\">{</span><span style=\"color: #008000; text-decoration-color: #008000\">'a_struct'</span>: <span style=\"font-weight: bold\">{</span><span style=\"color: #008000; text-decoration-color: #008000\">'M'</span>: <span style=\"font-weight: bold\">{</span><span style=\"color: #008000; text-decoration-color: #008000\">'a_int_list'</span>: <span style=\"font-weight: bold\">{</span><span style=\"color: #008000; text-decoration-color: #008000\">'a_int_list'</span>: <span style=\"font-weight: bold\">[]}}}}</span>\n",
       "</pre>\n"
      ],
      "text/plain": [
       "\u001b[1m{\u001b[0m\u001b[32m'a_struct'\u001b[0m: \u001b[1m{\u001b[0m\u001b[32m'M'\u001b[0m: \u001b[1m{\u001b[0m\u001b[32m'a_int_list'\u001b[0m: \u001b[1m{\u001b[0m\u001b[32m'a_int_list'\u001b[0m: \u001b[1m[\u001b[0m\u001b[1m]\u001b[0m\u001b[1m}\u001b[0m\u001b[1m}\u001b[0m\u001b[1m}\u001b[0m\u001b[1m}\u001b[0m\n"
      ]
     },
     "metadata": {},
     "output_type": "display_data"
    }
   ],
   "source": [
    "df = pl.DataFrame(\n",
    "    [\n",
    "        {\"Data\": {\"a_struct\": {\"a_int_list\": [1, 2, 3]}}},\n",
    "        {\"Data\": {\"a_struct\": {\"a_int_list\": [1, None, 3]}}},\n",
    "        {\"Data\": {\"a_struct\": {\"a_int_list\": [None, None, None]}}},\n",
    "        {\"Data\": {\"a_struct\": {\"a_int_list\": None}}},\n",
    "        {\"Data\": {\"a_struct\": None}},\n",
    "    ],\n",
    "    schema={\n",
    "        \"Data\": pl.Struct({\"a_struct\": pl.Struct({\"a_int_list\": pl.List(pl.Int64())})}),\n",
    "    }\n",
    ")\n",
    "print_df(df)\n",
    "\n",
    "df_res = df.with_columns(\n",
    "    pl.struct(\n",
    "        pl.struct(\n",
    "            pl.struct(\n",
    "                pl.col(\"Data\").struct.field(\"a_struct\").struct.field(\"a_int_list\").fill_null([]).list.eval(\n",
    "                    pl.struct(\n",
    "                        pl.element().fill_null(-999).cast(pl.Utf8()).alias(\"N\")\n",
    "                    )\n",
    "                )\n",
    "            ).alias(\"a_int_list\"),\n",
    "        ).alias(\"M\")\n",
    "    ).alias(\"a_struct\")\n",
    ").drop(\"Data\")\n",
    "print_df(df_res)"
   ]
  },
  {
   "cell_type": "code",
   "execution_count": null,
   "id": "ca4fd75d0788f23b",
   "metadata": {
    "collapsed": false,
    "jupyter": {
     "outputs_hidden": false
    }
   },
   "outputs": [],
   "source": []
  }
 ],
 "metadata": {
  "kernelspec": {
   "display_name": "Python 3 (ipykernel)",
   "language": "python",
   "name": "python3"
  },
  "language_info": {
   "codemirror_mode": {
    "name": "ipython",
    "version": 3
   },
   "file_extension": ".py",
   "mimetype": "text/x-python",
   "name": "python",
   "nbconvert_exporter": "python",
   "pygments_lexer": "ipython3",
   "version": "3.10.10"
  }
 },
 "nbformat": 4,
 "nbformat_minor": 5
}
