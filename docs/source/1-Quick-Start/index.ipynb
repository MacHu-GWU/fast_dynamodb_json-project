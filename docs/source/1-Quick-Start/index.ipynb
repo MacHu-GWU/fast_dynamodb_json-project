{
 "cells": [
  {
   "cell_type": "markdown",
   "id": "eba6e29c-d3a8-4290-aaab-05bdd6960311",
   "metadata": {},
   "source": [
    "# Quick Start\n",
    "\n",
    "Let's say just export a DynamoDB table to S3, now you want to analyze the exported data.\n",
    "\n",
    "## Get Sample Data"
   ]
  },
  {
   "cell_type": "code",
   "execution_count": 1,
   "id": "09caf654-c1f6-48d0-97da-59ac5d57170e",
   "metadata": {},
   "outputs": [],
   "source": [
    "import json\n",
    "import time\n",
    "from pathlib import Path\n",
    "from urllib import request\n",
    "\n",
    "import polars as pl\n",
    "from rich import print as rprint\n",
    "from fast_dynamodb_json.vendor.polars_utils import pprint_df\n",
    "from fast_dynamodb_json.vendor.timer import DateTimeTimer\n",
    "\n",
    "dir_here = Path.cwd()\n",
    "path_json_gz = dir_here / \"data.json.gz\""
   ]
  },
  {
   "cell_type": "code",
   "execution_count": 2,
   "id": "c2c81e41-ba3c-46db-86bf-031dfda22b77",
   "metadata": {},
   "outputs": [],
   "source": [
    "url = \"https://github.com/MacHu-GWU/fast_dynamodb_json-project/releases/download/0.1.1/xz5bebbfty4bvho4mujjbfdz7m.json.gz\"\n",
    "with request.urlopen(url) as response:\n",
    "    path_json_gz.write_bytes(response.read())"
   ]
  },
  {
   "cell_type": "markdown",
   "id": "4759c892-f150-45c4-b243-f1bb8ae90daf",
   "metadata": {},
   "source": [
    "## Load Export JSON Line Data\n",
    "\n",
    "For efficient processing of exported JSON line data, we strongly recommend using the [polars.read_ndjson](https://docs.pola.rs/api/python/stable/reference/api/polars.read_ndjson.html) API. This powerful function eliminates the need for manual line-by-line JSON parsing, offering significant performance benefits. It leverages Polars' optimized routines to rapidly ingest and parse NDJSON (Newline Delimited JSON) files, converting them directly into Polars DataFrames."
   ]
  },
  {
   "cell_type": "code",
   "execution_count": 3,
   "id": "94da0ce4-8cdc-4519-879a-1af4fdc96729",
   "metadata": {},
   "outputs": [],
   "source": [
    "df = pl.read_ndjson(str(path_json_gz))"
   ]
  },
  {
   "cell_type": "markdown",
   "id": "57ad76db-8bf9-430b-a348-a33eae3b00f6",
   "metadata": {},
   "source": [
    "## Preview Sample Data"
   ]
  },
  {
   "cell_type": "code",
   "execution_count": 4,
   "id": "245d8937-9273-4966-96c7-881187694a88",
   "metadata": {},
   "outputs": [
    {
     "data": {
      "text/plain": [
       "(142928, 1)"
      ]
     },
     "execution_count": 4,
     "metadata": {},
     "output_type": "execute_result"
    }
   ],
   "source": [
    "# 143K records\n",
    "df.shape"
   ]
  },
  {
   "cell_type": "code",
   "execution_count": 5,
   "id": "3ccd6324-2e6a-44f1-b73d-33e7259a0a58",
   "metadata": {},
   "outputs": [
    {
     "data": {
      "text/html": [
       "<pre style=\"white-space:pre;overflow-x:auto;line-height:normal;font-family:Menlo,'DejaVu Sans Mono',consolas,'Courier New',monospace\"><span style=\"font-weight: bold\">{</span>\n",
       "    <span style=\"color: #008000; text-decoration-color: #008000\">'Item'</span>: <span style=\"font-weight: bold\">{</span>\n",
       "        <span style=\"color: #008000; text-decoration-color: #008000\">'CustomerID'</span>: <span style=\"font-weight: bold\">{</span><span style=\"color: #008000; text-decoration-color: #008000\">'S'</span>: <span style=\"color: #008000; text-decoration-color: #008000\">'CUST-065334'</span><span style=\"font-weight: bold\">}</span>,\n",
       "        <span style=\"color: #008000; text-decoration-color: #008000\">'OrderID'</span>: <span style=\"font-weight: bold\">{</span><span style=\"color: #008000; text-decoration-color: #008000\">'S'</span>: <span style=\"color: #008000; text-decoration-color: #008000\">'ORD-000063927'</span><span style=\"font-weight: bold\">}</span>,\n",
       "        <span style=\"color: #008000; text-decoration-color: #008000\">'OrderDate'</span>: <span style=\"font-weight: bold\">{</span><span style=\"color: #008000; text-decoration-color: #008000\">'S'</span>: <span style=\"color: #008000; text-decoration-color: #008000\">'2023-09-23T11:43:54'</span><span style=\"font-weight: bold\">}</span>,\n",
       "        <span style=\"color: #008000; text-decoration-color: #008000\">'ShippingAddress'</span>: <span style=\"font-weight: bold\">{</span>\n",
       "            <span style=\"color: #008000; text-decoration-color: #008000\">'M'</span>: <span style=\"font-weight: bold\">{</span>\n",
       "                <span style=\"color: #008000; text-decoration-color: #008000\">'StreetAddress'</span>: <span style=\"font-weight: bold\">{</span><span style=\"color: #008000; text-decoration-color: #008000\">'S'</span>: <span style=\"color: #008000; text-decoration-color: #008000\">'7943 Holmes Points Apt. 973'</span><span style=\"font-weight: bold\">}</span>,\n",
       "                <span style=\"color: #008000; text-decoration-color: #008000\">'City'</span>: <span style=\"font-weight: bold\">{</span><span style=\"color: #008000; text-decoration-color: #008000\">'S'</span>: <span style=\"color: #008000; text-decoration-color: #008000\">'Judychester'</span><span style=\"font-weight: bold\">}</span>,\n",
       "                <span style=\"color: #008000; text-decoration-color: #008000\">'State'</span>: <span style=\"font-weight: bold\">{</span><span style=\"color: #008000; text-decoration-color: #008000\">'S'</span>: <span style=\"color: #008000; text-decoration-color: #008000\">'CT'</span><span style=\"font-weight: bold\">}</span>,\n",
       "                <span style=\"color: #008000; text-decoration-color: #008000\">'ZipCode'</span>: <span style=\"font-weight: bold\">{</span><span style=\"color: #008000; text-decoration-color: #008000\">'S'</span>: <span style=\"color: #008000; text-decoration-color: #008000\">'49536'</span><span style=\"font-weight: bold\">}</span>,\n",
       "                <span style=\"color: #008000; text-decoration-color: #008000\">'Country'</span>: <span style=\"font-weight: bold\">{</span><span style=\"color: #008000; text-decoration-color: #008000\">'S'</span>: <span style=\"color: #008000; text-decoration-color: #008000\">'USA'</span><span style=\"font-weight: bold\">}</span>\n",
       "            <span style=\"font-weight: bold\">}</span>\n",
       "        <span style=\"font-weight: bold\">}</span>,\n",
       "        <span style=\"color: #008000; text-decoration-color: #008000\">'AppliedCoupons'</span>: <span style=\"font-weight: bold\">{</span><span style=\"color: #008000; text-decoration-color: #008000\">'L'</span>: <span style=\"font-weight: bold\">[]}</span>,\n",
       "        <span style=\"color: #008000; text-decoration-color: #008000\">'EstimatedDeliveryDate'</span>: <span style=\"font-weight: bold\">{</span><span style=\"color: #008000; text-decoration-color: #008000\">'S'</span>: <span style=\"color: #008000; text-decoration-color: #008000\">'2023-09-28T11:43:54'</span><span style=\"font-weight: bold\">}</span>,\n",
       "        <span style=\"color: #008000; text-decoration-color: #008000\">'Status'</span>: <span style=\"font-weight: bold\">{</span><span style=\"color: #008000; text-decoration-color: #008000\">'S'</span>: <span style=\"color: #008000; text-decoration-color: #008000\">'Pending'</span><span style=\"font-weight: bold\">}</span>,\n",
       "        <span style=\"color: #008000; text-decoration-color: #008000\">'Items'</span>: <span style=\"font-weight: bold\">{</span>\n",
       "            <span style=\"color: #008000; text-decoration-color: #008000\">'L'</span>: <span style=\"font-weight: bold\">[</span>\n",
       "                <span style=\"font-weight: bold\">{</span>\n",
       "                    <span style=\"color: #008000; text-decoration-color: #008000\">'M'</span>: <span style=\"font-weight: bold\">{</span>\n",
       "                        <span style=\"color: #008000; text-decoration-color: #008000\">'ProductID'</span>: <span style=\"font-weight: bold\">{</span><span style=\"color: #008000; text-decoration-color: #008000\">'S'</span>: <span style=\"color: #008000; text-decoration-color: #008000\">'PROD-000523'</span><span style=\"font-weight: bold\">}</span>,\n",
       "                        <span style=\"color: #008000; text-decoration-color: #008000\">'Name'</span>: <span style=\"font-weight: bold\">{</span><span style=\"color: #008000; text-decoration-color: #008000\">'S'</span>: <span style=\"color: #008000; text-decoration-color: #008000\">'Send usually'</span><span style=\"font-weight: bold\">}</span>,\n",
       "                        <span style=\"color: #008000; text-decoration-color: #008000\">'Price'</span>: <span style=\"font-weight: bold\">{</span><span style=\"color: #008000; text-decoration-color: #008000\">'N'</span>: <span style=\"color: #008000; text-decoration-color: #008000\">'164.15'</span><span style=\"font-weight: bold\">}</span>,\n",
       "                        <span style=\"color: #008000; text-decoration-color: #008000\">'Quantity'</span>: <span style=\"font-weight: bold\">{</span><span style=\"color: #008000; text-decoration-color: #008000\">'N'</span>: <span style=\"color: #008000; text-decoration-color: #008000\">'2'</span><span style=\"font-weight: bold\">}</span>\n",
       "                    <span style=\"font-weight: bold\">}</span>\n",
       "                <span style=\"font-weight: bold\">}</span>,\n",
       "                <span style=\"font-weight: bold\">{</span>\n",
       "                    <span style=\"color: #008000; text-decoration-color: #008000\">'M'</span>: <span style=\"font-weight: bold\">{</span>\n",
       "                        <span style=\"color: #008000; text-decoration-color: #008000\">'ProductID'</span>: <span style=\"font-weight: bold\">{</span><span style=\"color: #008000; text-decoration-color: #008000\">'S'</span>: <span style=\"color: #008000; text-decoration-color: #008000\">'PROD-000880'</span><span style=\"font-weight: bold\">}</span>,\n",
       "                        <span style=\"color: #008000; text-decoration-color: #008000\">'Name'</span>: <span style=\"font-weight: bold\">{</span><span style=\"color: #008000; text-decoration-color: #008000\">'S'</span>: <span style=\"color: #008000; text-decoration-color: #008000\">'Employee study'</span><span style=\"font-weight: bold\">}</span>,\n",
       "                        <span style=\"color: #008000; text-decoration-color: #008000\">'Price'</span>: <span style=\"font-weight: bold\">{</span><span style=\"color: #008000; text-decoration-color: #008000\">'N'</span>: <span style=\"color: #008000; text-decoration-color: #008000\">'101.44'</span><span style=\"font-weight: bold\">}</span>,\n",
       "                        <span style=\"color: #008000; text-decoration-color: #008000\">'Quantity'</span>: <span style=\"font-weight: bold\">{</span><span style=\"color: #008000; text-decoration-color: #008000\">'N'</span>: <span style=\"color: #008000; text-decoration-color: #008000\">'4'</span><span style=\"font-weight: bold\">}</span>\n",
       "                    <span style=\"font-weight: bold\">}</span>\n",
       "                <span style=\"font-weight: bold\">}</span>,\n",
       "                <span style=\"font-weight: bold\">{</span>\n",
       "                    <span style=\"color: #008000; text-decoration-color: #008000\">'M'</span>: <span style=\"font-weight: bold\">{</span>\n",
       "                        <span style=\"color: #008000; text-decoration-color: #008000\">'ProductID'</span>: <span style=\"font-weight: bold\">{</span><span style=\"color: #008000; text-decoration-color: #008000\">'S'</span>: <span style=\"color: #008000; text-decoration-color: #008000\">'PROD-000422'</span><span style=\"font-weight: bold\">}</span>,\n",
       "                        <span style=\"color: #008000; text-decoration-color: #008000\">'Name'</span>: <span style=\"font-weight: bold\">{</span><span style=\"color: #008000; text-decoration-color: #008000\">'S'</span>: <span style=\"color: #008000; text-decoration-color: #008000\">'Audience service'</span><span style=\"font-weight: bold\">}</span>,\n",
       "                        <span style=\"color: #008000; text-decoration-color: #008000\">'Price'</span>: <span style=\"font-weight: bold\">{</span><span style=\"color: #008000; text-decoration-color: #008000\">'N'</span>: <span style=\"color: #008000; text-decoration-color: #008000\">'112.49'</span><span style=\"font-weight: bold\">}</span>,\n",
       "                        <span style=\"color: #008000; text-decoration-color: #008000\">'Quantity'</span>: <span style=\"font-weight: bold\">{</span><span style=\"color: #008000; text-decoration-color: #008000\">'N'</span>: <span style=\"color: #008000; text-decoration-color: #008000\">'2'</span><span style=\"font-weight: bold\">}</span>\n",
       "                    <span style=\"font-weight: bold\">}</span>\n",
       "                <span style=\"font-weight: bold\">}</span>,\n",
       "                <span style=\"font-weight: bold\">{</span>\n",
       "                    <span style=\"color: #008000; text-decoration-color: #008000\">'M'</span>: <span style=\"font-weight: bold\">{</span>\n",
       "                        <span style=\"color: #008000; text-decoration-color: #008000\">'ProductID'</span>: <span style=\"font-weight: bold\">{</span><span style=\"color: #008000; text-decoration-color: #008000\">'S'</span>: <span style=\"color: #008000; text-decoration-color: #008000\">'PROD-000250'</span><span style=\"font-weight: bold\">}</span>,\n",
       "                        <span style=\"color: #008000; text-decoration-color: #008000\">'Name'</span>: <span style=\"font-weight: bold\">{</span><span style=\"color: #008000; text-decoration-color: #008000\">'S'</span>: <span style=\"color: #008000; text-decoration-color: #008000\">'Real message'</span><span style=\"font-weight: bold\">}</span>,\n",
       "                        <span style=\"color: #008000; text-decoration-color: #008000\">'Price'</span>: <span style=\"font-weight: bold\">{</span><span style=\"color: #008000; text-decoration-color: #008000\">'N'</span>: <span style=\"color: #008000; text-decoration-color: #008000\">'164.21'</span><span style=\"font-weight: bold\">}</span>,\n",
       "                        <span style=\"color: #008000; text-decoration-color: #008000\">'Quantity'</span>: <span style=\"font-weight: bold\">{</span><span style=\"color: #008000; text-decoration-color: #008000\">'N'</span>: <span style=\"color: #008000; text-decoration-color: #008000\">'3'</span><span style=\"font-weight: bold\">}</span>\n",
       "                    <span style=\"font-weight: bold\">}</span>\n",
       "                <span style=\"font-weight: bold\">}</span>\n",
       "            <span style=\"font-weight: bold\">]</span>\n",
       "        <span style=\"font-weight: bold\">}</span>,\n",
       "        <span style=\"color: #008000; text-decoration-color: #008000\">'TotalAmount'</span>: <span style=\"font-weight: bold\">{</span><span style=\"color: #008000; text-decoration-color: #008000\">'N'</span>: <span style=\"color: #008000; text-decoration-color: #008000\">'606.4'</span><span style=\"font-weight: bold\">}</span>,\n",
       "        <span style=\"color: #008000; text-decoration-color: #008000\">'GiftMessage'</span>: <span style=\"font-weight: bold\">{</span><span style=\"color: #008000; text-decoration-color: #008000\">'NULL'</span>: <span style=\"color: #00ff00; text-decoration-color: #00ff00; font-style: italic\">True</span>, <span style=\"color: #008000; text-decoration-color: #008000\">'S'</span>: <span style=\"color: #800080; text-decoration-color: #800080; font-style: italic\">None</span><span style=\"font-weight: bold\">}</span>,\n",
       "        <span style=\"color: #008000; text-decoration-color: #008000\">'LastFourDigits'</span>: <span style=\"font-weight: bold\">{</span><span style=\"color: #008000; text-decoration-color: #008000\">'S'</span>: <span style=\"color: #008000; text-decoration-color: #008000\">'9151'</span><span style=\"font-weight: bold\">}</span>,\n",
       "        <span style=\"color: #008000; text-decoration-color: #008000\">'GiftWrap'</span>: <span style=\"font-weight: bold\">{</span><span style=\"color: #008000; text-decoration-color: #008000\">'BOOL'</span>: <span style=\"color: #00ff00; text-decoration-color: #00ff00; font-style: italic\">True</span><span style=\"font-weight: bold\">}</span>,\n",
       "        <span style=\"color: #008000; text-decoration-color: #008000\">'PaymentMethod'</span>: <span style=\"font-weight: bold\">{</span><span style=\"color: #008000; text-decoration-color: #008000\">'S'</span>: <span style=\"color: #008000; text-decoration-color: #008000\">'Bank Transfer'</span><span style=\"font-weight: bold\">}</span>\n",
       "    <span style=\"font-weight: bold\">}</span>\n",
       "<span style=\"font-weight: bold\">}</span>\n",
       "</pre>\n"
      ],
      "text/plain": [
       "\u001b[1m{\u001b[0m\n",
       "    \u001b[32m'Item'\u001b[0m: \u001b[1m{\u001b[0m\n",
       "        \u001b[32m'CustomerID'\u001b[0m: \u001b[1m{\u001b[0m\u001b[32m'S'\u001b[0m: \u001b[32m'CUST-065334'\u001b[0m\u001b[1m}\u001b[0m,\n",
       "        \u001b[32m'OrderID'\u001b[0m: \u001b[1m{\u001b[0m\u001b[32m'S'\u001b[0m: \u001b[32m'ORD-000063927'\u001b[0m\u001b[1m}\u001b[0m,\n",
       "        \u001b[32m'OrderDate'\u001b[0m: \u001b[1m{\u001b[0m\u001b[32m'S'\u001b[0m: \u001b[32m'2023-09-23T11:43:54'\u001b[0m\u001b[1m}\u001b[0m,\n",
       "        \u001b[32m'ShippingAddress'\u001b[0m: \u001b[1m{\u001b[0m\n",
       "            \u001b[32m'M'\u001b[0m: \u001b[1m{\u001b[0m\n",
       "                \u001b[32m'StreetAddress'\u001b[0m: \u001b[1m{\u001b[0m\u001b[32m'S'\u001b[0m: \u001b[32m'7943 Holmes Points Apt. 973'\u001b[0m\u001b[1m}\u001b[0m,\n",
       "                \u001b[32m'City'\u001b[0m: \u001b[1m{\u001b[0m\u001b[32m'S'\u001b[0m: \u001b[32m'Judychester'\u001b[0m\u001b[1m}\u001b[0m,\n",
       "                \u001b[32m'State'\u001b[0m: \u001b[1m{\u001b[0m\u001b[32m'S'\u001b[0m: \u001b[32m'CT'\u001b[0m\u001b[1m}\u001b[0m,\n",
       "                \u001b[32m'ZipCode'\u001b[0m: \u001b[1m{\u001b[0m\u001b[32m'S'\u001b[0m: \u001b[32m'49536'\u001b[0m\u001b[1m}\u001b[0m,\n",
       "                \u001b[32m'Country'\u001b[0m: \u001b[1m{\u001b[0m\u001b[32m'S'\u001b[0m: \u001b[32m'USA'\u001b[0m\u001b[1m}\u001b[0m\n",
       "            \u001b[1m}\u001b[0m\n",
       "        \u001b[1m}\u001b[0m,\n",
       "        \u001b[32m'AppliedCoupons'\u001b[0m: \u001b[1m{\u001b[0m\u001b[32m'L'\u001b[0m: \u001b[1m[\u001b[0m\u001b[1m]\u001b[0m\u001b[1m}\u001b[0m,\n",
       "        \u001b[32m'EstimatedDeliveryDate'\u001b[0m: \u001b[1m{\u001b[0m\u001b[32m'S'\u001b[0m: \u001b[32m'2023-09-28T11:43:54'\u001b[0m\u001b[1m}\u001b[0m,\n",
       "        \u001b[32m'Status'\u001b[0m: \u001b[1m{\u001b[0m\u001b[32m'S'\u001b[0m: \u001b[32m'Pending'\u001b[0m\u001b[1m}\u001b[0m,\n",
       "        \u001b[32m'Items'\u001b[0m: \u001b[1m{\u001b[0m\n",
       "            \u001b[32m'L'\u001b[0m: \u001b[1m[\u001b[0m\n",
       "                \u001b[1m{\u001b[0m\n",
       "                    \u001b[32m'M'\u001b[0m: \u001b[1m{\u001b[0m\n",
       "                        \u001b[32m'ProductID'\u001b[0m: \u001b[1m{\u001b[0m\u001b[32m'S'\u001b[0m: \u001b[32m'PROD-000523'\u001b[0m\u001b[1m}\u001b[0m,\n",
       "                        \u001b[32m'Name'\u001b[0m: \u001b[1m{\u001b[0m\u001b[32m'S'\u001b[0m: \u001b[32m'Send usually'\u001b[0m\u001b[1m}\u001b[0m,\n",
       "                        \u001b[32m'Price'\u001b[0m: \u001b[1m{\u001b[0m\u001b[32m'N'\u001b[0m: \u001b[32m'164.15'\u001b[0m\u001b[1m}\u001b[0m,\n",
       "                        \u001b[32m'Quantity'\u001b[0m: \u001b[1m{\u001b[0m\u001b[32m'N'\u001b[0m: \u001b[32m'2'\u001b[0m\u001b[1m}\u001b[0m\n",
       "                    \u001b[1m}\u001b[0m\n",
       "                \u001b[1m}\u001b[0m,\n",
       "                \u001b[1m{\u001b[0m\n",
       "                    \u001b[32m'M'\u001b[0m: \u001b[1m{\u001b[0m\n",
       "                        \u001b[32m'ProductID'\u001b[0m: \u001b[1m{\u001b[0m\u001b[32m'S'\u001b[0m: \u001b[32m'PROD-000880'\u001b[0m\u001b[1m}\u001b[0m,\n",
       "                        \u001b[32m'Name'\u001b[0m: \u001b[1m{\u001b[0m\u001b[32m'S'\u001b[0m: \u001b[32m'Employee study'\u001b[0m\u001b[1m}\u001b[0m,\n",
       "                        \u001b[32m'Price'\u001b[0m: \u001b[1m{\u001b[0m\u001b[32m'N'\u001b[0m: \u001b[32m'101.44'\u001b[0m\u001b[1m}\u001b[0m,\n",
       "                        \u001b[32m'Quantity'\u001b[0m: \u001b[1m{\u001b[0m\u001b[32m'N'\u001b[0m: \u001b[32m'4'\u001b[0m\u001b[1m}\u001b[0m\n",
       "                    \u001b[1m}\u001b[0m\n",
       "                \u001b[1m}\u001b[0m,\n",
       "                \u001b[1m{\u001b[0m\n",
       "                    \u001b[32m'M'\u001b[0m: \u001b[1m{\u001b[0m\n",
       "                        \u001b[32m'ProductID'\u001b[0m: \u001b[1m{\u001b[0m\u001b[32m'S'\u001b[0m: \u001b[32m'PROD-000422'\u001b[0m\u001b[1m}\u001b[0m,\n",
       "                        \u001b[32m'Name'\u001b[0m: \u001b[1m{\u001b[0m\u001b[32m'S'\u001b[0m: \u001b[32m'Audience service'\u001b[0m\u001b[1m}\u001b[0m,\n",
       "                        \u001b[32m'Price'\u001b[0m: \u001b[1m{\u001b[0m\u001b[32m'N'\u001b[0m: \u001b[32m'112.49'\u001b[0m\u001b[1m}\u001b[0m,\n",
       "                        \u001b[32m'Quantity'\u001b[0m: \u001b[1m{\u001b[0m\u001b[32m'N'\u001b[0m: \u001b[32m'2'\u001b[0m\u001b[1m}\u001b[0m\n",
       "                    \u001b[1m}\u001b[0m\n",
       "                \u001b[1m}\u001b[0m,\n",
       "                \u001b[1m{\u001b[0m\n",
       "                    \u001b[32m'M'\u001b[0m: \u001b[1m{\u001b[0m\n",
       "                        \u001b[32m'ProductID'\u001b[0m: \u001b[1m{\u001b[0m\u001b[32m'S'\u001b[0m: \u001b[32m'PROD-000250'\u001b[0m\u001b[1m}\u001b[0m,\n",
       "                        \u001b[32m'Name'\u001b[0m: \u001b[1m{\u001b[0m\u001b[32m'S'\u001b[0m: \u001b[32m'Real message'\u001b[0m\u001b[1m}\u001b[0m,\n",
       "                        \u001b[32m'Price'\u001b[0m: \u001b[1m{\u001b[0m\u001b[32m'N'\u001b[0m: \u001b[32m'164.21'\u001b[0m\u001b[1m}\u001b[0m,\n",
       "                        \u001b[32m'Quantity'\u001b[0m: \u001b[1m{\u001b[0m\u001b[32m'N'\u001b[0m: \u001b[32m'3'\u001b[0m\u001b[1m}\u001b[0m\n",
       "                    \u001b[1m}\u001b[0m\n",
       "                \u001b[1m}\u001b[0m\n",
       "            \u001b[1m]\u001b[0m\n",
       "        \u001b[1m}\u001b[0m,\n",
       "        \u001b[32m'TotalAmount'\u001b[0m: \u001b[1m{\u001b[0m\u001b[32m'N'\u001b[0m: \u001b[32m'606.4'\u001b[0m\u001b[1m}\u001b[0m,\n",
       "        \u001b[32m'GiftMessage'\u001b[0m: \u001b[1m{\u001b[0m\u001b[32m'NULL'\u001b[0m: \u001b[3;92mTrue\u001b[0m, \u001b[32m'S'\u001b[0m: \u001b[3;35mNone\u001b[0m\u001b[1m}\u001b[0m,\n",
       "        \u001b[32m'LastFourDigits'\u001b[0m: \u001b[1m{\u001b[0m\u001b[32m'S'\u001b[0m: \u001b[32m'9151'\u001b[0m\u001b[1m}\u001b[0m,\n",
       "        \u001b[32m'GiftWrap'\u001b[0m: \u001b[1m{\u001b[0m\u001b[32m'BOOL'\u001b[0m: \u001b[3;92mTrue\u001b[0m\u001b[1m}\u001b[0m,\n",
       "        \u001b[32m'PaymentMethod'\u001b[0m: \u001b[1m{\u001b[0m\u001b[32m'S'\u001b[0m: \u001b[32m'Bank Transfer'\u001b[0m\u001b[1m}\u001b[0m\n",
       "    \u001b[1m}\u001b[0m\n",
       "\u001b[1m}\u001b[0m\n"
      ]
     },
     "metadata": {},
     "output_type": "display_data"
    }
   ],
   "source": [
    "record = df.head(1).to_dicts()[0]\n",
    "rprint(record)"
   ]
  },
  {
   "cell_type": "markdown",
   "id": "6159a20e-6196-417e-9464-b2652e004591",
   "metadata": {},
   "source": [
    "## Import fast_dynamodb_json Library\n",
    "\n",
    "You can import ``fast_dynamodb_json.api`` to access all public APIs."
   ]
  },
  {
   "cell_type": "code",
   "execution_count": 6,
   "id": "64e5df2c-90ba-4187-af2d-9da3a259e2b6",
   "metadata": {},
   "outputs": [],
   "source": [
    "from fast_dynamodb_json.api import (\n",
    "    Integer,\n",
    "    Float,\n",
    "    String,\n",
    "    Binary,\n",
    "    Bool,\n",
    "    Null,\n",
    "    Set,\n",
    "    List,\n",
    "    Struct,\n",
    "    deserialize_df,\n",
    ")"
   ]
  },
  {
   "cell_type": "markdown",
   "id": "184edcca-027f-4c29-b053-3fce64fd3e57",
   "metadata": {},
   "source": [
    "## Define Your DynamoDB Table Schema\n",
    "\n",
    "You have to define DynamoDB table schema so that ``fast_dynamodb_json`` knows how to resolve data type conflict."
   ]
  },
  {
   "cell_type": "code",
   "execution_count": 7,
   "id": "af2ad8f5-cf2b-4868-ba01-a6a700f4c92d",
   "metadata": {},
   "outputs": [],
   "source": [
    "simple_schema = {\n",
    "    \"OrderID\": String(),\n",
    "    \"CustomerID\": String(),\n",
    "    \"OrderDate\": String(),\n",
    "    \"TotalAmount\": Float(),\n",
    "    \"Status\": String(),\n",
    "    \"ShippingAddress\": Struct(\n",
    "        {\n",
    "            \"StreetAddress\": String(),\n",
    "            \"City\": String(),\n",
    "            \"State\": String(),\n",
    "            \"ZipCode\": String(),\n",
    "            \"Country\": String(),\n",
    "        }\n",
    "    ),\n",
    "    \"Items\": List(\n",
    "        Struct(\n",
    "            {\n",
    "                \"ProductID\": String(),\n",
    "                \"Name\": String(),\n",
    "                \"Price\": Float(),\n",
    "                \"Quantity\": Integer(),\n",
    "            }\n",
    "        ),\n",
    "    ),\n",
    "    \"AppliedCoupons\": List(String()),\n",
    "    \"PaymentMethod\": String(),\n",
    "    \"LastFourDigits\": String(),\n",
    "    \"EstimatedDeliveryDate\": String(),\n",
    "    \"GiftWrap\": Bool(),\n",
    "    \"GiftMessage\": String(),\n",
    "}"
   ]
  },
  {
   "cell_type": "markdown",
   "id": "0986d095-eaaa-444b-bd5e-484665b367f6",
   "metadata": {},
   "source": [
    "## Deserialize DynamoDB JSON\n",
    "\n",
    "This library achieves exceptional performance through several key optimizations:\n",
    "\n",
    "1. Vectorized Parsing: The parser operates in vectorization mode, enabling efficient processing of multiple data elements simultaneously. This approach maximizes CPU utilization and significantly reduces processing time.\n",
    "2. Columnar Data Storage: The original DynamoDB JSON data is stored in a columnar format. This structure facilitates parallel processing across multiple CPU cores, further enhancing performance.\n",
    "3. Zero-Copy Techniques: By employing zero-copy methods, the library minimizes data movement between memory locations. This strategy reduces memory bandwidth usage and improves overall processing speed.\n",
    "4. Minimal Intermediate Object Creation: The library avoids generating unnecessary intermediate Python objects such as lists and dictionaries. This approach not only reduces memory consumption but also decreases the overhead associated with object creation and garbage collection.\n",
    "\n",
    "These optimizations work in concert to deliver a highly efficient DynamoDB JSON deserialization process, resulting in faster execution times and lower memory usage compared to traditional parsing methods."
   ]
  },
  {
   "cell_type": "code",
   "execution_count": 19,
   "id": "fc06b515-c3d5-4414-932e-810f4e012af2",
   "metadata": {},
   "outputs": [
    {
     "name": "stdout",
     "output_type": "stream",
     "text": [
      "Deserialize 142928 DynamoDB JSON records: from 2024-08-07 20:45:12.635942 to 2024-08-07 20:45:12.702129 elapsed 0.066187 second.\n"
     ]
    }
   ],
   "source": [
    "with DateTimeTimer(f\"Deserialize {df.shape[0]} DynamoDB JSON records\"):\n",
    "    df_res = deserialize_df(df, simple_schema, dynamodb_json_col=\"Item\")"
   ]
  },
  {
   "cell_type": "code",
   "execution_count": 15,
   "id": "4f86acd2-4b7d-4522-b915-f0f1de4a0216",
   "metadata": {},
   "outputs": [
    {
     "data": {
      "text/plain": [
       "(142928, 13)"
      ]
     },
     "execution_count": 15,
     "metadata": {},
     "output_type": "execute_result"
    }
   ],
   "source": [
    "# 143K, 13 fields\n",
    "df_res.shape"
   ]
  },
  {
   "cell_type": "code",
   "execution_count": 16,
   "id": "6dfd4aa6-d8bb-4343-84f3-34b11a9f8822",
   "metadata": {},
   "outputs": [
    {
     "name": "stdout",
     "output_type": "stream",
     "text": [
      "+---------------+--------------+---------------------+---------------+-----------+-----------------------------------------------------------------------------------------------------------------------------------+---------------------------------------------------------------------------------------------------------------------------------------------------------------------------------------------------------------------------------------------------------------------------------------------------------------------------------------------------------------------------------------------------------------------------------------+--------------------------+-----------------+------------------+-------------------------+------------+------------------------------------------------+\n",
      "| OrderID       | CustomerID   | OrderDate           |   TotalAmount | Status    | ShippingAddress                                                                                                                   | Items                                                                                                                                                                                                                                                                                                                                                                                                                                 | AppliedCoupons           | PaymentMethod   |   LastFourDigits | EstimatedDeliveryDate   | GiftWrap   | GiftMessage                                    |\n",
      "+===============+==============+=====================+===============+===========+===================================================================================================================================+=======================================================================================================================================================================================================================================================================================================================================================================================================================================+==========================+=================+==================+=========================+============+================================================+\n",
      "| ORD-000063927 | CUST-065334  | 2023-09-23T11:43:54 |        606.4  | Pending   | {'StreetAddress': '7943 Holmes Points Apt. 973', 'City': 'Judychester', 'State': 'CT', 'ZipCode': '49536', 'Country': 'USA'}      | [{'ProductID': 'PROD-000523', 'Name': 'Send usually', 'Price': 164.15, 'Quantity': 2}, {'ProductID': 'PROD-000880', 'Name': 'Employee study', 'Price': 101.44, 'Quantity': 4}, {'ProductID': 'PROD-000422', 'Name': 'Audience service', 'Price': 112.49, 'Quantity': 2}, {'ProductID': 'PROD-000250', 'Name': 'Real message', 'Price': 164.21, 'Quantity': 3}]                                                                        | []                       | Bank Transfer   |             9151 | 2023-09-28T11:43:54     | True       |                                                |\n",
      "+---------------+--------------+---------------------+---------------+-----------+-----------------------------------------------------------------------------------------------------------------------------------+---------------------------------------------------------------------------------------------------------------------------------------------------------------------------------------------------------------------------------------------------------------------------------------------------------------------------------------------------------------------------------------------------------------------------------------+--------------------------+-----------------+------------------+-------------------------+------------+------------------------------------------------+\n",
      "| ORD-000089741 | CUST-065334  | 2023-03-04T18:06:52 |         70.55 | Delivered | {'StreetAddress': '9955 Amy Tunnel', 'City': 'Joshuaborough', 'State': 'IN', 'ZipCode': '01663', 'Country': 'USA'}                | [{'ProductID': 'PROD-000298', 'Name': 'Ago establish', 'Price': 169.18, 'Quantity': 3}]                                                                                                                                                                                                                                                                                                                                               | ['TIDLSHIP']             | Bank Transfer   |             3549 | 2023-03-08T18:06:52     | False      | Bill area information research long Democrat.  |\n",
      "+---------------+--------------+---------------------+---------------+-----------+-----------------------------------------------------------------------------------------------------------------------------------+---------------------------------------------------------------------------------------------------------------------------------------------------------------------------------------------------------------------------------------------------------------------------------------------------------------------------------------------------------------------------------------------------------------------------------------+--------------------------+-----------------+------------------+-------------------------+------------+------------------------------------------------+\n",
      "| ORD-000111926 | CUST-065334  | 2023-07-29T17:57:46 |         29.57 | Delivered | {'StreetAddress': '11651 Jerry Trail Suite 818', 'City': 'North Tammyville', 'State': 'VI', 'ZipCode': '61724', 'Country': 'USA'} | [{'ProductID': 'PROD-000285', 'Name': 'He house', 'Price': 194.99, 'Quantity': 3}]                                                                                                                                                                                                                                                                                                                                                    | []                       | Bank Transfer   |             3454 | 2023-08-07T17:57:46     | True       | Write claim finish. Firm thing pattern almost. |\n",
      "+---------------+--------------+---------------------+---------------+-----------+-----------------------------------------------------------------------------------------------------------------------------------+---------------------------------------------------------------------------------------------------------------------------------------------------------------------------------------------------------------------------------------------------------------------------------------------------------------------------------------------------------------------------------------------------------------------------------------+--------------------------+-----------------+------------------+-------------------------+------------+------------------------------------------------+\n",
      "| ORD-000123884 | CUST-065334  | 2023-06-05T19:07:44 |        206.37 | Delivered | {'StreetAddress': '20731 Smith Skyway', 'City': 'North Ronaldhaven', 'State': 'KY', 'ZipCode': '95666', 'Country': 'USA'}         | [{'ProductID': 'PROD-000065', 'Name': 'Unit bar', 'Price': 165.98, 'Quantity': 5}, {'ProductID': 'PROD-000472', 'Name': 'Edge until', 'Price': 164.14, 'Quantity': 4}, {'ProductID': 'PROD-000899', 'Name': 'Shake type', 'Price': 167.48, 'Quantity': 3}, {'ProductID': 'PROD-000855', 'Name': 'South heavy', 'Price': 115.55, 'Quantity': 1}, {'ProductID': 'PROD-000028', 'Name': 'Health dinner', 'Price': 51.86, 'Quantity': 4}] | ['CB8RSHIP', 'U0FUBOGO'] | Credit Card     |             2206 | 2023-06-15T19:07:44     | True       |                                                |\n",
      "+---------------+--------------+---------------------+---------------+-----------+-----------------------------------------------------------------------------------------------------------------------------------+---------------------------------------------------------------------------------------------------------------------------------------------------------------------------------------------------------------------------------------------------------------------------------------------------------------------------------------------------------------------------------------------------------------------------------------+--------------------------+-----------------+------------------+-------------------------+------------+------------------------------------------------+\n",
      "| ORD-000191221 | CUST-065334  | 2023-06-11T19:49:24 |        360.03 | Cancelled | {'StreetAddress': '950 Thompson Rue', 'City': 'Ashleymouth', 'State': 'OH', 'ZipCode': '03061', 'Country': 'USA'}                 | [{'ProductID': 'PROD-000446', 'Name': 'Contain want', 'Price': 98.3, 'Quantity': 1}, {'ProductID': 'PROD-000441', 'Name': 'Study focus', 'Price': 164.45, 'Quantity': 4}, {'ProductID': 'PROD-000397', 'Name': 'Pressure most', 'Price': 73.39, 'Quantity': 5}]                                                                                                                                                                       | ['YFRUBOGO', 'DR92BOGO'] | Bank Transfer   |             7851 | 2023-06-24T19:49:24     | False      | Card hard get writer task without live.        |\n",
      "+---------------+--------------+---------------------+---------------+-----------+-----------------------------------------------------------------------------------------------------------------------------------+---------------------------------------------------------------------------------------------------------------------------------------------------------------------------------------------------------------------------------------------------------------------------------------------------------------------------------------------------------------------------------------------------------------------------------------+--------------------------+-----------------+------------------+-------------------------+------------+------------------------------------------------+\n"
     ]
    }
   ],
   "source": [
    "pprint_df(df_res.head(5))"
   ]
  },
  {
   "cell_type": "code",
   "execution_count": 17,
   "id": "d8bed6fd-e7fc-45a9-9a95-731670e30bec",
   "metadata": {},
   "outputs": [
    {
     "data": {
      "text/html": [
       "<pre style=\"white-space:pre;overflow-x:auto;line-height:normal;font-family:Menlo,'DejaVu Sans Mono',consolas,'Courier New',monospace\"><span style=\"font-weight: bold\">{</span>\n",
       "    <span style=\"color: #008000; text-decoration-color: #008000\">'OrderID'</span>: <span style=\"color: #008000; text-decoration-color: #008000\">'ORD-000063927'</span>,\n",
       "    <span style=\"color: #008000; text-decoration-color: #008000\">'CustomerID'</span>: <span style=\"color: #008000; text-decoration-color: #008000\">'CUST-065334'</span>,\n",
       "    <span style=\"color: #008000; text-decoration-color: #008000\">'OrderDate'</span>: <span style=\"color: #008000; text-decoration-color: #008000\">'2023-09-23T11:43:54'</span>,\n",
       "    <span style=\"color: #008000; text-decoration-color: #008000\">'TotalAmount'</span>: <span style=\"color: #008080; text-decoration-color: #008080; font-weight: bold\">606.4</span>,\n",
       "    <span style=\"color: #008000; text-decoration-color: #008000\">'Status'</span>: <span style=\"color: #008000; text-decoration-color: #008000\">'Pending'</span>,\n",
       "    <span style=\"color: #008000; text-decoration-color: #008000\">'ShippingAddress'</span>: <span style=\"font-weight: bold\">{</span>\n",
       "        <span style=\"color: #008000; text-decoration-color: #008000\">'StreetAddress'</span>: <span style=\"color: #008000; text-decoration-color: #008000\">'7943 Holmes Points Apt. 973'</span>,\n",
       "        <span style=\"color: #008000; text-decoration-color: #008000\">'City'</span>: <span style=\"color: #008000; text-decoration-color: #008000\">'Judychester'</span>,\n",
       "        <span style=\"color: #008000; text-decoration-color: #008000\">'State'</span>: <span style=\"color: #008000; text-decoration-color: #008000\">'CT'</span>,\n",
       "        <span style=\"color: #008000; text-decoration-color: #008000\">'ZipCode'</span>: <span style=\"color: #008000; text-decoration-color: #008000\">'49536'</span>,\n",
       "        <span style=\"color: #008000; text-decoration-color: #008000\">'Country'</span>: <span style=\"color: #008000; text-decoration-color: #008000\">'USA'</span>\n",
       "    <span style=\"font-weight: bold\">}</span>,\n",
       "    <span style=\"color: #008000; text-decoration-color: #008000\">'Items'</span>: <span style=\"font-weight: bold\">[</span>\n",
       "        <span style=\"font-weight: bold\">{</span><span style=\"color: #008000; text-decoration-color: #008000\">'ProductID'</span>: <span style=\"color: #008000; text-decoration-color: #008000\">'PROD-000523'</span>, <span style=\"color: #008000; text-decoration-color: #008000\">'Name'</span>: <span style=\"color: #008000; text-decoration-color: #008000\">'Send usually'</span>, <span style=\"color: #008000; text-decoration-color: #008000\">'Price'</span>: <span style=\"color: #008080; text-decoration-color: #008080; font-weight: bold\">164.15</span>, <span style=\"color: #008000; text-decoration-color: #008000\">'Quantity'</span>: <span style=\"color: #008080; text-decoration-color: #008080; font-weight: bold\">2</span><span style=\"font-weight: bold\">}</span>,\n",
       "        <span style=\"font-weight: bold\">{</span><span style=\"color: #008000; text-decoration-color: #008000\">'ProductID'</span>: <span style=\"color: #008000; text-decoration-color: #008000\">'PROD-000880'</span>, <span style=\"color: #008000; text-decoration-color: #008000\">'Name'</span>: <span style=\"color: #008000; text-decoration-color: #008000\">'Employee study'</span>, <span style=\"color: #008000; text-decoration-color: #008000\">'Price'</span>: <span style=\"color: #008080; text-decoration-color: #008080; font-weight: bold\">101.44</span>, <span style=\"color: #008000; text-decoration-color: #008000\">'Quantity'</span>: <span style=\"color: #008080; text-decoration-color: #008080; font-weight: bold\">4</span><span style=\"font-weight: bold\">}</span>,\n",
       "        <span style=\"font-weight: bold\">{</span><span style=\"color: #008000; text-decoration-color: #008000\">'ProductID'</span>: <span style=\"color: #008000; text-decoration-color: #008000\">'PROD-000422'</span>, <span style=\"color: #008000; text-decoration-color: #008000\">'Name'</span>: <span style=\"color: #008000; text-decoration-color: #008000\">'Audience service'</span>, <span style=\"color: #008000; text-decoration-color: #008000\">'Price'</span>: <span style=\"color: #008080; text-decoration-color: #008080; font-weight: bold\">112.49</span>, <span style=\"color: #008000; text-decoration-color: #008000\">'Quantity'</span>: <span style=\"color: #008080; text-decoration-color: #008080; font-weight: bold\">2</span><span style=\"font-weight: bold\">}</span>,\n",
       "        <span style=\"font-weight: bold\">{</span><span style=\"color: #008000; text-decoration-color: #008000\">'ProductID'</span>: <span style=\"color: #008000; text-decoration-color: #008000\">'PROD-000250'</span>, <span style=\"color: #008000; text-decoration-color: #008000\">'Name'</span>: <span style=\"color: #008000; text-decoration-color: #008000\">'Real message'</span>, <span style=\"color: #008000; text-decoration-color: #008000\">'Price'</span>: <span style=\"color: #008080; text-decoration-color: #008080; font-weight: bold\">164.21</span>, <span style=\"color: #008000; text-decoration-color: #008000\">'Quantity'</span>: <span style=\"color: #008080; text-decoration-color: #008080; font-weight: bold\">3</span><span style=\"font-weight: bold\">}</span>\n",
       "    <span style=\"font-weight: bold\">]</span>,\n",
       "    <span style=\"color: #008000; text-decoration-color: #008000\">'AppliedCoupons'</span>: <span style=\"font-weight: bold\">[]</span>,\n",
       "    <span style=\"color: #008000; text-decoration-color: #008000\">'PaymentMethod'</span>: <span style=\"color: #008000; text-decoration-color: #008000\">'Bank Transfer'</span>,\n",
       "    <span style=\"color: #008000; text-decoration-color: #008000\">'LastFourDigits'</span>: <span style=\"color: #008000; text-decoration-color: #008000\">'9151'</span>,\n",
       "    <span style=\"color: #008000; text-decoration-color: #008000\">'EstimatedDeliveryDate'</span>: <span style=\"color: #008000; text-decoration-color: #008000\">'2023-09-28T11:43:54'</span>,\n",
       "    <span style=\"color: #008000; text-decoration-color: #008000\">'GiftWrap'</span>: <span style=\"color: #00ff00; text-decoration-color: #00ff00; font-style: italic\">True</span>,\n",
       "    <span style=\"color: #008000; text-decoration-color: #008000\">'GiftMessage'</span>: <span style=\"color: #800080; text-decoration-color: #800080; font-style: italic\">None</span>\n",
       "<span style=\"font-weight: bold\">}</span>\n",
       "</pre>\n"
      ],
      "text/plain": [
       "\u001b[1m{\u001b[0m\n",
       "    \u001b[32m'OrderID'\u001b[0m: \u001b[32m'ORD-000063927'\u001b[0m,\n",
       "    \u001b[32m'CustomerID'\u001b[0m: \u001b[32m'CUST-065334'\u001b[0m,\n",
       "    \u001b[32m'OrderDate'\u001b[0m: \u001b[32m'2023-09-23T11:43:54'\u001b[0m,\n",
       "    \u001b[32m'TotalAmount'\u001b[0m: \u001b[1;36m606.4\u001b[0m,\n",
       "    \u001b[32m'Status'\u001b[0m: \u001b[32m'Pending'\u001b[0m,\n",
       "    \u001b[32m'ShippingAddress'\u001b[0m: \u001b[1m{\u001b[0m\n",
       "        \u001b[32m'StreetAddress'\u001b[0m: \u001b[32m'7943 Holmes Points Apt. 973'\u001b[0m,\n",
       "        \u001b[32m'City'\u001b[0m: \u001b[32m'Judychester'\u001b[0m,\n",
       "        \u001b[32m'State'\u001b[0m: \u001b[32m'CT'\u001b[0m,\n",
       "        \u001b[32m'ZipCode'\u001b[0m: \u001b[32m'49536'\u001b[0m,\n",
       "        \u001b[32m'Country'\u001b[0m: \u001b[32m'USA'\u001b[0m\n",
       "    \u001b[1m}\u001b[0m,\n",
       "    \u001b[32m'Items'\u001b[0m: \u001b[1m[\u001b[0m\n",
       "        \u001b[1m{\u001b[0m\u001b[32m'ProductID'\u001b[0m: \u001b[32m'PROD-000523'\u001b[0m, \u001b[32m'Name'\u001b[0m: \u001b[32m'Send usually'\u001b[0m, \u001b[32m'Price'\u001b[0m: \u001b[1;36m164.15\u001b[0m, \u001b[32m'Quantity'\u001b[0m: \u001b[1;36m2\u001b[0m\u001b[1m}\u001b[0m,\n",
       "        \u001b[1m{\u001b[0m\u001b[32m'ProductID'\u001b[0m: \u001b[32m'PROD-000880'\u001b[0m, \u001b[32m'Name'\u001b[0m: \u001b[32m'Employee study'\u001b[0m, \u001b[32m'Price'\u001b[0m: \u001b[1;36m101.44\u001b[0m, \u001b[32m'Quantity'\u001b[0m: \u001b[1;36m4\u001b[0m\u001b[1m}\u001b[0m,\n",
       "        \u001b[1m{\u001b[0m\u001b[32m'ProductID'\u001b[0m: \u001b[32m'PROD-000422'\u001b[0m, \u001b[32m'Name'\u001b[0m: \u001b[32m'Audience service'\u001b[0m, \u001b[32m'Price'\u001b[0m: \u001b[1;36m112.49\u001b[0m, \u001b[32m'Quantity'\u001b[0m: \u001b[1;36m2\u001b[0m\u001b[1m}\u001b[0m,\n",
       "        \u001b[1m{\u001b[0m\u001b[32m'ProductID'\u001b[0m: \u001b[32m'PROD-000250'\u001b[0m, \u001b[32m'Name'\u001b[0m: \u001b[32m'Real message'\u001b[0m, \u001b[32m'Price'\u001b[0m: \u001b[1;36m164.21\u001b[0m, \u001b[32m'Quantity'\u001b[0m: \u001b[1;36m3\u001b[0m\u001b[1m}\u001b[0m\n",
       "    \u001b[1m]\u001b[0m,\n",
       "    \u001b[32m'AppliedCoupons'\u001b[0m: \u001b[1m[\u001b[0m\u001b[1m]\u001b[0m,\n",
       "    \u001b[32m'PaymentMethod'\u001b[0m: \u001b[32m'Bank Transfer'\u001b[0m,\n",
       "    \u001b[32m'LastFourDigits'\u001b[0m: \u001b[32m'9151'\u001b[0m,\n",
       "    \u001b[32m'EstimatedDeliveryDate'\u001b[0m: \u001b[32m'2023-09-28T11:43:54'\u001b[0m,\n",
       "    \u001b[32m'GiftWrap'\u001b[0m: \u001b[3;92mTrue\u001b[0m,\n",
       "    \u001b[32m'GiftMessage'\u001b[0m: \u001b[3;35mNone\u001b[0m\n",
       "\u001b[1m}\u001b[0m\n"
      ]
     },
     "metadata": {},
     "output_type": "display_data"
    }
   ],
   "source": [
    "record = df_res.head(1).to_dicts()[0]\n",
    "rprint(record)"
   ]
  },
  {
   "cell_type": "markdown",
   "id": "669200fd-c57e-4592-a0d1-b202dedc3abe",
   "metadata": {},
   "source": [
    "## Performance Comparison\n",
    "\n",
    "To demonstrate the efficiency of fast_dynamodb_json, we conducted a comparative analysis against the widely-used pure Python dynamodb_json library. This benchmark aims to highlight the performance advantages of our optimized implementation."
   ]
  },
  {
   "cell_type": "code",
   "execution_count": 12,
   "id": "591863e0-844c-4c2e-94e2-67fb7cec860a",
   "metadata": {},
   "outputs": [
    {
     "name": "stdout",
     "output_type": "stream",
     "text": [
      "Deserialize 142928 DynamoDB JSON records: from 2024-08-08 01:14:03.451483 to 2024-08-08 01:14:22.992041 elapsed 19.540558 second.\n"
     ]
    }
   ],
   "source": [
    "from dynamodb_json import json_util\n",
    "\n",
    "with DateTimeTimer(f\"Deserialize {df.shape[0]} DynamoDB JSON records\"):\n",
    "    items = list()\n",
    "    for record in df.to_dicts():\n",
    "        item = json_util.loads(record[\"Item\"])\n",
    "        items.append(item)"
   ]
  },
  {
   "cell_type": "code",
   "execution_count": 13,
   "id": "5c13bcbc-a684-4b63-9e47-5b21dbd99ba8",
   "metadata": {},
   "outputs": [
    {
     "data": {
      "text/html": [
       "<pre style=\"white-space:pre;overflow-x:auto;line-height:normal;font-family:Menlo,'DejaVu Sans Mono',consolas,'Courier New',monospace\"><span style=\"font-weight: bold\">{</span>\n",
       "    <span style=\"color: #008000; text-decoration-color: #008000\">'CustomerID'</span>: <span style=\"color: #008000; text-decoration-color: #008000\">'CUST-065334'</span>,\n",
       "    <span style=\"color: #008000; text-decoration-color: #008000\">'OrderID'</span>: <span style=\"color: #008000; text-decoration-color: #008000\">'ORD-000063927'</span>,\n",
       "    <span style=\"color: #008000; text-decoration-color: #008000\">'OrderDate'</span>: <span style=\"color: #008000; text-decoration-color: #008000\">'2023-09-23T11:43:54'</span>,\n",
       "    <span style=\"color: #008000; text-decoration-color: #008000\">'ShippingAddress'</span>: <span style=\"font-weight: bold\">{</span>\n",
       "        <span style=\"color: #008000; text-decoration-color: #008000\">'StreetAddress'</span>: <span style=\"color: #008000; text-decoration-color: #008000\">'7943 Holmes Points Apt. 973'</span>,\n",
       "        <span style=\"color: #008000; text-decoration-color: #008000\">'City'</span>: <span style=\"color: #008000; text-decoration-color: #008000\">'Judychester'</span>,\n",
       "        <span style=\"color: #008000; text-decoration-color: #008000\">'State'</span>: <span style=\"color: #008000; text-decoration-color: #008000\">'CT'</span>,\n",
       "        <span style=\"color: #008000; text-decoration-color: #008000\">'ZipCode'</span>: <span style=\"color: #008000; text-decoration-color: #008000\">'49536'</span>,\n",
       "        <span style=\"color: #008000; text-decoration-color: #008000\">'Country'</span>: <span style=\"color: #008000; text-decoration-color: #008000\">'USA'</span>\n",
       "    <span style=\"font-weight: bold\">}</span>,\n",
       "    <span style=\"color: #008000; text-decoration-color: #008000\">'AppliedCoupons'</span>: <span style=\"font-weight: bold\">[]</span>,\n",
       "    <span style=\"color: #008000; text-decoration-color: #008000\">'EstimatedDeliveryDate'</span>: <span style=\"color: #008000; text-decoration-color: #008000\">'2023-09-28T11:43:54'</span>,\n",
       "    <span style=\"color: #008000; text-decoration-color: #008000\">'Status'</span>: <span style=\"color: #008000; text-decoration-color: #008000\">'Pending'</span>,\n",
       "    <span style=\"color: #008000; text-decoration-color: #008000\">'Items'</span>: <span style=\"font-weight: bold\">[</span>\n",
       "        <span style=\"font-weight: bold\">{</span><span style=\"color: #008000; text-decoration-color: #008000\">'ProductID'</span>: <span style=\"color: #008000; text-decoration-color: #008000\">'PROD-000523'</span>, <span style=\"color: #008000; text-decoration-color: #008000\">'Name'</span>: <span style=\"color: #008000; text-decoration-color: #008000\">'Send usually'</span>, <span style=\"color: #008000; text-decoration-color: #008000\">'Price'</span>: <span style=\"color: #008080; text-decoration-color: #008080; font-weight: bold\">164.15</span>, <span style=\"color: #008000; text-decoration-color: #008000\">'Quantity'</span>: <span style=\"color: #008080; text-decoration-color: #008080; font-weight: bold\">2</span><span style=\"font-weight: bold\">}</span>,\n",
       "        <span style=\"font-weight: bold\">{</span><span style=\"color: #008000; text-decoration-color: #008000\">'ProductID'</span>: <span style=\"color: #008000; text-decoration-color: #008000\">'PROD-000880'</span>, <span style=\"color: #008000; text-decoration-color: #008000\">'Name'</span>: <span style=\"color: #008000; text-decoration-color: #008000\">'Employee study'</span>, <span style=\"color: #008000; text-decoration-color: #008000\">'Price'</span>: <span style=\"color: #008080; text-decoration-color: #008080; font-weight: bold\">101.44</span>, <span style=\"color: #008000; text-decoration-color: #008000\">'Quantity'</span>: <span style=\"color: #008080; text-decoration-color: #008080; font-weight: bold\">4</span><span style=\"font-weight: bold\">}</span>,\n",
       "        <span style=\"font-weight: bold\">{</span><span style=\"color: #008000; text-decoration-color: #008000\">'ProductID'</span>: <span style=\"color: #008000; text-decoration-color: #008000\">'PROD-000422'</span>, <span style=\"color: #008000; text-decoration-color: #008000\">'Name'</span>: <span style=\"color: #008000; text-decoration-color: #008000\">'Audience service'</span>, <span style=\"color: #008000; text-decoration-color: #008000\">'Price'</span>: <span style=\"color: #008080; text-decoration-color: #008080; font-weight: bold\">112.49</span>, <span style=\"color: #008000; text-decoration-color: #008000\">'Quantity'</span>: <span style=\"color: #008080; text-decoration-color: #008080; font-weight: bold\">2</span><span style=\"font-weight: bold\">}</span>,\n",
       "        <span style=\"font-weight: bold\">{</span><span style=\"color: #008000; text-decoration-color: #008000\">'ProductID'</span>: <span style=\"color: #008000; text-decoration-color: #008000\">'PROD-000250'</span>, <span style=\"color: #008000; text-decoration-color: #008000\">'Name'</span>: <span style=\"color: #008000; text-decoration-color: #008000\">'Real message'</span>, <span style=\"color: #008000; text-decoration-color: #008000\">'Price'</span>: <span style=\"color: #008080; text-decoration-color: #008080; font-weight: bold\">164.21</span>, <span style=\"color: #008000; text-decoration-color: #008000\">'Quantity'</span>: <span style=\"color: #008080; text-decoration-color: #008080; font-weight: bold\">3</span><span style=\"font-weight: bold\">}</span>\n",
       "    <span style=\"font-weight: bold\">]</span>,\n",
       "    <span style=\"color: #008000; text-decoration-color: #008000\">'TotalAmount'</span>: <span style=\"color: #008080; text-decoration-color: #008080; font-weight: bold\">606.4</span>,\n",
       "    <span style=\"color: #008000; text-decoration-color: #008000\">'GiftMessage'</span>: <span style=\"color: #008000; text-decoration-color: #008000\">'None'</span>,\n",
       "    <span style=\"color: #008000; text-decoration-color: #008000\">'LastFourDigits'</span>: <span style=\"color: #008000; text-decoration-color: #008000\">'9151'</span>,\n",
       "    <span style=\"color: #008000; text-decoration-color: #008000\">'GiftWrap'</span>: <span style=\"color: #00ff00; text-decoration-color: #00ff00; font-style: italic\">True</span>,\n",
       "    <span style=\"color: #008000; text-decoration-color: #008000\">'PaymentMethod'</span>: <span style=\"color: #008000; text-decoration-color: #008000\">'Bank Transfer'</span>\n",
       "<span style=\"font-weight: bold\">}</span>\n",
       "</pre>\n"
      ],
      "text/plain": [
       "\u001b[1m{\u001b[0m\n",
       "    \u001b[32m'CustomerID'\u001b[0m: \u001b[32m'CUST-065334'\u001b[0m,\n",
       "    \u001b[32m'OrderID'\u001b[0m: \u001b[32m'ORD-000063927'\u001b[0m,\n",
       "    \u001b[32m'OrderDate'\u001b[0m: \u001b[32m'2023-09-23T11:43:54'\u001b[0m,\n",
       "    \u001b[32m'ShippingAddress'\u001b[0m: \u001b[1m{\u001b[0m\n",
       "        \u001b[32m'StreetAddress'\u001b[0m: \u001b[32m'7943 Holmes Points Apt. 973'\u001b[0m,\n",
       "        \u001b[32m'City'\u001b[0m: \u001b[32m'Judychester'\u001b[0m,\n",
       "        \u001b[32m'State'\u001b[0m: \u001b[32m'CT'\u001b[0m,\n",
       "        \u001b[32m'ZipCode'\u001b[0m: \u001b[32m'49536'\u001b[0m,\n",
       "        \u001b[32m'Country'\u001b[0m: \u001b[32m'USA'\u001b[0m\n",
       "    \u001b[1m}\u001b[0m,\n",
       "    \u001b[32m'AppliedCoupons'\u001b[0m: \u001b[1m[\u001b[0m\u001b[1m]\u001b[0m,\n",
       "    \u001b[32m'EstimatedDeliveryDate'\u001b[0m: \u001b[32m'2023-09-28T11:43:54'\u001b[0m,\n",
       "    \u001b[32m'Status'\u001b[0m: \u001b[32m'Pending'\u001b[0m,\n",
       "    \u001b[32m'Items'\u001b[0m: \u001b[1m[\u001b[0m\n",
       "        \u001b[1m{\u001b[0m\u001b[32m'ProductID'\u001b[0m: \u001b[32m'PROD-000523'\u001b[0m, \u001b[32m'Name'\u001b[0m: \u001b[32m'Send usually'\u001b[0m, \u001b[32m'Price'\u001b[0m: \u001b[1;36m164.15\u001b[0m, \u001b[32m'Quantity'\u001b[0m: \u001b[1;36m2\u001b[0m\u001b[1m}\u001b[0m,\n",
       "        \u001b[1m{\u001b[0m\u001b[32m'ProductID'\u001b[0m: \u001b[32m'PROD-000880'\u001b[0m, \u001b[32m'Name'\u001b[0m: \u001b[32m'Employee study'\u001b[0m, \u001b[32m'Price'\u001b[0m: \u001b[1;36m101.44\u001b[0m, \u001b[32m'Quantity'\u001b[0m: \u001b[1;36m4\u001b[0m\u001b[1m}\u001b[0m,\n",
       "        \u001b[1m{\u001b[0m\u001b[32m'ProductID'\u001b[0m: \u001b[32m'PROD-000422'\u001b[0m, \u001b[32m'Name'\u001b[0m: \u001b[32m'Audience service'\u001b[0m, \u001b[32m'Price'\u001b[0m: \u001b[1;36m112.49\u001b[0m, \u001b[32m'Quantity'\u001b[0m: \u001b[1;36m2\u001b[0m\u001b[1m}\u001b[0m,\n",
       "        \u001b[1m{\u001b[0m\u001b[32m'ProductID'\u001b[0m: \u001b[32m'PROD-000250'\u001b[0m, \u001b[32m'Name'\u001b[0m: \u001b[32m'Real message'\u001b[0m, \u001b[32m'Price'\u001b[0m: \u001b[1;36m164.21\u001b[0m, \u001b[32m'Quantity'\u001b[0m: \u001b[1;36m3\u001b[0m\u001b[1m}\u001b[0m\n",
       "    \u001b[1m]\u001b[0m,\n",
       "    \u001b[32m'TotalAmount'\u001b[0m: \u001b[1;36m606.4\u001b[0m,\n",
       "    \u001b[32m'GiftMessage'\u001b[0m: \u001b[32m'None'\u001b[0m,\n",
       "    \u001b[32m'LastFourDigits'\u001b[0m: \u001b[32m'9151'\u001b[0m,\n",
       "    \u001b[32m'GiftWrap'\u001b[0m: \u001b[3;92mTrue\u001b[0m,\n",
       "    \u001b[32m'PaymentMethod'\u001b[0m: \u001b[32m'Bank Transfer'\u001b[0m\n",
       "\u001b[1m}\u001b[0m\n"
      ]
     },
     "metadata": {},
     "output_type": "display_data"
    }
   ],
   "source": [
    "rprint(items[0])"
   ]
  },
  {
   "cell_type": "markdown",
   "id": "edf11c06-6925-4320-ac52-d637c002b43f",
   "metadata": {},
   "source": [
    "## Conclusion\n",
    "\n",
    "This notebook demonstrates the power and efficiency of the fast_dynamodb_json library for processing DynamoDB JSON data. We compared its performance against the traditional dynamodb_json library, showcasing significant improvements in speed and resource utilization.\n",
    "\n",
    "Key takeaways:\n",
    "\n",
    "1. ``fast_dynamodb_json`` processed 142,928 DynamoDB JSON records in approximately **0.066** seconds.\n",
    "2. The same task using ``dynamodb_json`` took about **19.54** seconds.\n",
    "3. This represents a speed improvement of nearly 300 times.\n",
    "\n",
    "The ``fast_dynamodb_json`` library achieves this impressive performance through vectorized parsing, columnar data storage, zero-copy techniques, and minimal intermediate object creation. These optimizations make it an excellent choice for large-scale DynamoDB data processing tasks, especially when working with exports or analytics pipelines.\n",
    "\n",
    "By leveraging ``fast_dynamodb_json`` in conjunction with tools like Polars, data engineers and analysts can significantly reduce processing time and resource consumption, enabling more efficient and cost-effective data workflows."
   ]
  },
  {
   "cell_type": "code",
   "execution_count": null,
   "id": "41d97cac-6c38-476f-9bbf-ba5be0fc0d47",
   "metadata": {},
   "outputs": [],
   "source": []
  }
 ],
 "metadata": {
  "kernelspec": {
   "display_name": "Python 3 (ipykernel)",
   "language": "python",
   "name": "python3"
  },
  "language_info": {
   "codemirror_mode": {
    "name": "ipython",
    "version": 3
   },
   "file_extension": ".py",
   "mimetype": "text/x-python",
   "name": "python",
   "nbconvert_exporter": "python",
   "pygments_lexer": "ipython3",
   "version": "3.10.10"
  }
 },
 "nbformat": 4,
 "nbformat_minor": 5
}
